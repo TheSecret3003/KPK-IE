{
 "cells": [
  {
   "cell_type": "code",
   "execution_count": 1,
   "id": "a3addb18",
   "metadata": {},
   "outputs": [],
   "source": [
    "import pandas as pd\n",
    "import index\n",
    "import search\n",
    "import preprocess_reference_data"
   ]
  },
  {
   "cell_type": "code",
   "execution_count": 2,
   "id": "9af12031",
   "metadata": {},
   "outputs": [],
   "source": [
    "df1 = pd.read_csv('./data/v1/train.csv')\n",
    "df2 = pd.read_csv('./data/v1/val.csv')\n",
    "df3 = pd.read_csv('./data/v1/test.csv')"
   ]
  },
  {
   "cell_type": "code",
   "execution_count": 3,
   "id": "d41c4b7a",
   "metadata": {},
   "outputs": [],
   "source": [
    "dfAll = pd.concat([df1, df2, df3])"
   ]
  },
  {
   "cell_type": "code",
   "execution_count": 4,
   "id": "a6a1a997",
   "metadata": {},
   "outputs": [
    {
     "data": {
      "text/html": [
       "<div>\n",
       "<style scoped>\n",
       "    .dataframe tbody tr th:only-of-type {\n",
       "        vertical-align: middle;\n",
       "    }\n",
       "\n",
       "    .dataframe tbody tr th {\n",
       "        vertical-align: top;\n",
       "    }\n",
       "\n",
       "    .dataframe thead th {\n",
       "        text-align: right;\n",
       "    }\n",
       "</style>\n",
       "<table border=\"1\" class=\"dataframe\">\n",
       "  <thead>\n",
       "    <tr style=\"text-align: right;\">\n",
       "      <th></th>\n",
       "      <th>instansi</th>\n",
       "      <th>reference</th>\n",
       "      <th>status</th>\n",
       "    </tr>\n",
       "  </thead>\n",
       "  <tbody>\n",
       "    <tr>\n",
       "      <th>0</th>\n",
       "      <td>Kementerian Koordinator Bidang Politik, Hukum,...</td>\n",
       "      <td>Kemenko Polhukam</td>\n",
       "      <td>yes</td>\n",
       "    </tr>\n",
       "    <tr>\n",
       "      <th>1</th>\n",
       "      <td>Kementerian Koordinator Bidang Politik, Hukum,...</td>\n",
       "      <td>Polhukam</td>\n",
       "      <td>yes</td>\n",
       "    </tr>\n",
       "    <tr>\n",
       "      <th>2</th>\n",
       "      <td>Kementerian Koordinator Bidang Politik, Hukum,...</td>\n",
       "      <td>Koordinator Politik</td>\n",
       "      <td>no</td>\n",
       "    </tr>\n",
       "    <tr>\n",
       "      <th>3</th>\n",
       "      <td>Kementerian Koordinator Bidang Politik, Hukum,...</td>\n",
       "      <td>Koordinator Hukum</td>\n",
       "      <td>no</td>\n",
       "    </tr>\n",
       "    <tr>\n",
       "      <th>4</th>\n",
       "      <td>Kementerian Luar Negeri</td>\n",
       "      <td>Kemlu</td>\n",
       "      <td>yes</td>\n",
       "    </tr>\n",
       "    <tr>\n",
       "      <th>...</th>\n",
       "      <td>...</td>\n",
       "      <td>...</td>\n",
       "      <td>...</td>\n",
       "    </tr>\n",
       "    <tr>\n",
       "      <th>584</th>\n",
       "      <td>PT Telkom Indonesia (Persero), Tbk.</td>\n",
       "      <td>Telkom University</td>\n",
       "      <td>no</td>\n",
       "    </tr>\n",
       "    <tr>\n",
       "      <th>585</th>\n",
       "      <td>PT Telkom Indonesia (Persero), Tbk.</td>\n",
       "      <td>Telkom</td>\n",
       "      <td>no</td>\n",
       "    </tr>\n",
       "    <tr>\n",
       "      <th>586</th>\n",
       "      <td>PT Semen Kupang</td>\n",
       "      <td>Kupang</td>\n",
       "      <td>no</td>\n",
       "    </tr>\n",
       "    <tr>\n",
       "      <th>587</th>\n",
       "      <td>PT Semen Kupang</td>\n",
       "      <td>Pemkot Kupang</td>\n",
       "      <td>no</td>\n",
       "    </tr>\n",
       "    <tr>\n",
       "      <th>588</th>\n",
       "      <td>PT Semen Kupang</td>\n",
       "      <td>Pemerintah Kota Kupang</td>\n",
       "      <td>no</td>\n",
       "    </tr>\n",
       "  </tbody>\n",
       "</table>\n",
       "<p>2483 rows × 3 columns</p>\n",
       "</div>"
      ],
      "text/plain": [
       "                                              instansi  \\\n",
       "0    Kementerian Koordinator Bidang Politik, Hukum,...   \n",
       "1    Kementerian Koordinator Bidang Politik, Hukum,...   \n",
       "2    Kementerian Koordinator Bidang Politik, Hukum,...   \n",
       "3    Kementerian Koordinator Bidang Politik, Hukum,...   \n",
       "4                              Kementerian Luar Negeri   \n",
       "..                                                 ...   \n",
       "584                PT Telkom Indonesia (Persero), Tbk.   \n",
       "585                PT Telkom Indonesia (Persero), Tbk.   \n",
       "586                                    PT Semen Kupang   \n",
       "587                                    PT Semen Kupang   \n",
       "588                                    PT Semen Kupang   \n",
       "\n",
       "                  reference status  \n",
       "0          Kemenko Polhukam    yes  \n",
       "1                  Polhukam    yes  \n",
       "2       Koordinator Politik     no  \n",
       "3         Koordinator Hukum     no  \n",
       "4                     Kemlu    yes  \n",
       "..                      ...    ...  \n",
       "584       Telkom University     no  \n",
       "585                  Telkom     no  \n",
       "586                  Kupang     no  \n",
       "587           Pemkot Kupang     no  \n",
       "588  Pemerintah Kota Kupang     no  \n",
       "\n",
       "[2483 rows x 3 columns]"
      ]
     },
     "execution_count": 4,
     "metadata": {},
     "output_type": "execute_result"
    }
   ],
   "source": [
    "dfAll"
   ]
  },
  {
   "cell_type": "code",
   "execution_count": 5,
   "id": "cedfef57",
   "metadata": {},
   "outputs": [],
   "source": [
    "dfAll = dfAll.reset_index()"
   ]
  },
  {
   "cell_type": "code",
   "execution_count": 6,
   "id": "ae27097c",
   "metadata": {},
   "outputs": [
    {
     "data": {
      "text/html": [
       "<div>\n",
       "<style scoped>\n",
       "    .dataframe tbody tr th:only-of-type {\n",
       "        vertical-align: middle;\n",
       "    }\n",
       "\n",
       "    .dataframe tbody tr th {\n",
       "        vertical-align: top;\n",
       "    }\n",
       "\n",
       "    .dataframe thead th {\n",
       "        text-align: right;\n",
       "    }\n",
       "</style>\n",
       "<table border=\"1\" class=\"dataframe\">\n",
       "  <thead>\n",
       "    <tr style=\"text-align: right;\">\n",
       "      <th></th>\n",
       "      <th>index</th>\n",
       "      <th>instansi</th>\n",
       "      <th>reference</th>\n",
       "      <th>status</th>\n",
       "    </tr>\n",
       "  </thead>\n",
       "  <tbody>\n",
       "    <tr>\n",
       "      <th>0</th>\n",
       "      <td>0</td>\n",
       "      <td>Kementerian Koordinator Bidang Politik, Hukum,...</td>\n",
       "      <td>Kemenko Polhukam</td>\n",
       "      <td>yes</td>\n",
       "    </tr>\n",
       "    <tr>\n",
       "      <th>1</th>\n",
       "      <td>1</td>\n",
       "      <td>Kementerian Koordinator Bidang Politik, Hukum,...</td>\n",
       "      <td>Polhukam</td>\n",
       "      <td>yes</td>\n",
       "    </tr>\n",
       "    <tr>\n",
       "      <th>2</th>\n",
       "      <td>2</td>\n",
       "      <td>Kementerian Koordinator Bidang Politik, Hukum,...</td>\n",
       "      <td>Koordinator Politik</td>\n",
       "      <td>no</td>\n",
       "    </tr>\n",
       "    <tr>\n",
       "      <th>3</th>\n",
       "      <td>3</td>\n",
       "      <td>Kementerian Koordinator Bidang Politik, Hukum,...</td>\n",
       "      <td>Koordinator Hukum</td>\n",
       "      <td>no</td>\n",
       "    </tr>\n",
       "    <tr>\n",
       "      <th>4</th>\n",
       "      <td>4</td>\n",
       "      <td>Kementerian Luar Negeri</td>\n",
       "      <td>Kemlu</td>\n",
       "      <td>yes</td>\n",
       "    </tr>\n",
       "    <tr>\n",
       "      <th>...</th>\n",
       "      <td>...</td>\n",
       "      <td>...</td>\n",
       "      <td>...</td>\n",
       "      <td>...</td>\n",
       "    </tr>\n",
       "    <tr>\n",
       "      <th>2478</th>\n",
       "      <td>584</td>\n",
       "      <td>PT Telkom Indonesia (Persero), Tbk.</td>\n",
       "      <td>Telkom University</td>\n",
       "      <td>no</td>\n",
       "    </tr>\n",
       "    <tr>\n",
       "      <th>2479</th>\n",
       "      <td>585</td>\n",
       "      <td>PT Telkom Indonesia (Persero), Tbk.</td>\n",
       "      <td>Telkom</td>\n",
       "      <td>no</td>\n",
       "    </tr>\n",
       "    <tr>\n",
       "      <th>2480</th>\n",
       "      <td>586</td>\n",
       "      <td>PT Semen Kupang</td>\n",
       "      <td>Kupang</td>\n",
       "      <td>no</td>\n",
       "    </tr>\n",
       "    <tr>\n",
       "      <th>2481</th>\n",
       "      <td>587</td>\n",
       "      <td>PT Semen Kupang</td>\n",
       "      <td>Pemkot Kupang</td>\n",
       "      <td>no</td>\n",
       "    </tr>\n",
       "    <tr>\n",
       "      <th>2482</th>\n",
       "      <td>588</td>\n",
       "      <td>PT Semen Kupang</td>\n",
       "      <td>Pemerintah Kota Kupang</td>\n",
       "      <td>no</td>\n",
       "    </tr>\n",
       "  </tbody>\n",
       "</table>\n",
       "<p>2483 rows × 4 columns</p>\n",
       "</div>"
      ],
      "text/plain": [
       "      index                                           instansi  \\\n",
       "0         0  Kementerian Koordinator Bidang Politik, Hukum,...   \n",
       "1         1  Kementerian Koordinator Bidang Politik, Hukum,...   \n",
       "2         2  Kementerian Koordinator Bidang Politik, Hukum,...   \n",
       "3         3  Kementerian Koordinator Bidang Politik, Hukum,...   \n",
       "4         4                            Kementerian Luar Negeri   \n",
       "...     ...                                                ...   \n",
       "2478    584                PT Telkom Indonesia (Persero), Tbk.   \n",
       "2479    585                PT Telkom Indonesia (Persero), Tbk.   \n",
       "2480    586                                    PT Semen Kupang   \n",
       "2481    587                                    PT Semen Kupang   \n",
       "2482    588                                    PT Semen Kupang   \n",
       "\n",
       "                   reference status  \n",
       "0           Kemenko Polhukam    yes  \n",
       "1                   Polhukam    yes  \n",
       "2        Koordinator Politik     no  \n",
       "3          Koordinator Hukum     no  \n",
       "4                      Kemlu    yes  \n",
       "...                      ...    ...  \n",
       "2478       Telkom University     no  \n",
       "2479                  Telkom     no  \n",
       "2480                  Kupang     no  \n",
       "2481           Pemkot Kupang     no  \n",
       "2482  Pemerintah Kota Kupang     no  \n",
       "\n",
       "[2483 rows x 4 columns]"
      ]
     },
     "execution_count": 6,
     "metadata": {},
     "output_type": "execute_result"
    }
   ],
   "source": [
    "dfAll"
   ]
  },
  {
   "cell_type": "markdown",
   "id": "cdc6b1b5",
   "metadata": {},
   "source": [
    "# Create a New DF - Distinct Instansi from Column instansi"
   ]
  },
  {
   "cell_type": "code",
   "execution_count": 8,
   "id": "86a6b3c2",
   "metadata": {},
   "outputs": [],
   "source": [
    "df_dist = pd.DataFrame(dfAll['instansi'].unique())"
   ]
  },
  {
   "cell_type": "code",
   "execution_count": 9,
   "id": "23259101",
   "metadata": {},
   "outputs": [
    {
     "data": {
      "text/html": [
       "<div>\n",
       "<style scoped>\n",
       "    .dataframe tbody tr th:only-of-type {\n",
       "        vertical-align: middle;\n",
       "    }\n",
       "\n",
       "    .dataframe tbody tr th {\n",
       "        vertical-align: top;\n",
       "    }\n",
       "\n",
       "    .dataframe thead th {\n",
       "        text-align: right;\n",
       "    }\n",
       "</style>\n",
       "<table border=\"1\" class=\"dataframe\">\n",
       "  <thead>\n",
       "    <tr style=\"text-align: right;\">\n",
       "      <th></th>\n",
       "      <th>0</th>\n",
       "    </tr>\n",
       "  </thead>\n",
       "  <tbody>\n",
       "    <tr>\n",
       "      <th>0</th>\n",
       "      <td>Kementerian Koordinator Bidang Politik, Hukum,...</td>\n",
       "    </tr>\n",
       "    <tr>\n",
       "      <th>1</th>\n",
       "      <td>Kementerian Luar Negeri</td>\n",
       "    </tr>\n",
       "    <tr>\n",
       "      <th>2</th>\n",
       "      <td>Kementerian Badan Usaha Milik Negara</td>\n",
       "    </tr>\n",
       "    <tr>\n",
       "      <th>3</th>\n",
       "      <td>Kementerian Pariwisata dan Ekonomi Kreatif</td>\n",
       "    </tr>\n",
       "    <tr>\n",
       "      <th>4</th>\n",
       "      <td>Kementerian Pekerjaan Umum dan Perumahan Rakya...</td>\n",
       "    </tr>\n",
       "    <tr>\n",
       "      <th>...</th>\n",
       "      <td>...</td>\n",
       "    </tr>\n",
       "    <tr>\n",
       "      <th>532</th>\n",
       "      <td>PT Taman Wisata Candi Borobudur, Prambanan, Da...</td>\n",
       "    </tr>\n",
       "    <tr>\n",
       "      <th>533</th>\n",
       "      <td>PT Varuna Tirta Prakasya (Persero)</td>\n",
       "    </tr>\n",
       "    <tr>\n",
       "      <th>534</th>\n",
       "      <td>PT Indofarma</td>\n",
       "    </tr>\n",
       "    <tr>\n",
       "      <th>535</th>\n",
       "      <td>PT Telkom Indonesia (Persero), Tbk.</td>\n",
       "    </tr>\n",
       "    <tr>\n",
       "      <th>536</th>\n",
       "      <td>PT Semen Kupang</td>\n",
       "    </tr>\n",
       "  </tbody>\n",
       "</table>\n",
       "<p>537 rows × 1 columns</p>\n",
       "</div>"
      ],
      "text/plain": [
       "                                                     0\n",
       "0    Kementerian Koordinator Bidang Politik, Hukum,...\n",
       "1                              Kementerian Luar Negeri\n",
       "2                 Kementerian Badan Usaha Milik Negara\n",
       "3           Kementerian Pariwisata dan Ekonomi Kreatif\n",
       "4    Kementerian Pekerjaan Umum dan Perumahan Rakya...\n",
       "..                                                 ...\n",
       "532  PT Taman Wisata Candi Borobudur, Prambanan, Da...\n",
       "533                 PT Varuna Tirta Prakasya (Persero)\n",
       "534                                       PT Indofarma\n",
       "535                PT Telkom Indonesia (Persero), Tbk.\n",
       "536                                    PT Semen Kupang\n",
       "\n",
       "[537 rows x 1 columns]"
      ]
     },
     "execution_count": 9,
     "metadata": {},
     "output_type": "execute_result"
    }
   ],
   "source": [
    "df_dist"
   ]
  },
  {
   "cell_type": "code",
   "execution_count": 10,
   "id": "ccdc3315",
   "metadata": {},
   "outputs": [],
   "source": [
    "df_dist = df_dist.rename(columns={0: 'reference'})"
   ]
  },
  {
   "cell_type": "code",
   "execution_count": 11,
   "id": "d871e302",
   "metadata": {},
   "outputs": [
    {
     "data": {
      "text/html": [
       "<div>\n",
       "<style scoped>\n",
       "    .dataframe tbody tr th:only-of-type {\n",
       "        vertical-align: middle;\n",
       "    }\n",
       "\n",
       "    .dataframe tbody tr th {\n",
       "        vertical-align: top;\n",
       "    }\n",
       "\n",
       "    .dataframe thead th {\n",
       "        text-align: right;\n",
       "    }\n",
       "</style>\n",
       "<table border=\"1\" class=\"dataframe\">\n",
       "  <thead>\n",
       "    <tr style=\"text-align: right;\">\n",
       "      <th></th>\n",
       "      <th>reference</th>\n",
       "    </tr>\n",
       "  </thead>\n",
       "  <tbody>\n",
       "    <tr>\n",
       "      <th>0</th>\n",
       "      <td>Kementerian Koordinator Bidang Politik, Hukum,...</td>\n",
       "    </tr>\n",
       "    <tr>\n",
       "      <th>1</th>\n",
       "      <td>Kementerian Luar Negeri</td>\n",
       "    </tr>\n",
       "    <tr>\n",
       "      <th>2</th>\n",
       "      <td>Kementerian Badan Usaha Milik Negara</td>\n",
       "    </tr>\n",
       "    <tr>\n",
       "      <th>3</th>\n",
       "      <td>Kementerian Pariwisata dan Ekonomi Kreatif</td>\n",
       "    </tr>\n",
       "    <tr>\n",
       "      <th>4</th>\n",
       "      <td>Kementerian Pekerjaan Umum dan Perumahan Rakya...</td>\n",
       "    </tr>\n",
       "    <tr>\n",
       "      <th>...</th>\n",
       "      <td>...</td>\n",
       "    </tr>\n",
       "    <tr>\n",
       "      <th>532</th>\n",
       "      <td>PT Taman Wisata Candi Borobudur, Prambanan, Da...</td>\n",
       "    </tr>\n",
       "    <tr>\n",
       "      <th>533</th>\n",
       "      <td>PT Varuna Tirta Prakasya (Persero)</td>\n",
       "    </tr>\n",
       "    <tr>\n",
       "      <th>534</th>\n",
       "      <td>PT Indofarma</td>\n",
       "    </tr>\n",
       "    <tr>\n",
       "      <th>535</th>\n",
       "      <td>PT Telkom Indonesia (Persero), Tbk.</td>\n",
       "    </tr>\n",
       "    <tr>\n",
       "      <th>536</th>\n",
       "      <td>PT Semen Kupang</td>\n",
       "    </tr>\n",
       "  </tbody>\n",
       "</table>\n",
       "<p>537 rows × 1 columns</p>\n",
       "</div>"
      ],
      "text/plain": [
       "                                             reference\n",
       "0    Kementerian Koordinator Bidang Politik, Hukum,...\n",
       "1                              Kementerian Luar Negeri\n",
       "2                 Kementerian Badan Usaha Milik Negara\n",
       "3           Kementerian Pariwisata dan Ekonomi Kreatif\n",
       "4    Kementerian Pekerjaan Umum dan Perumahan Rakya...\n",
       "..                                                 ...\n",
       "532  PT Taman Wisata Candi Borobudur, Prambanan, Da...\n",
       "533                 PT Varuna Tirta Prakasya (Persero)\n",
       "534                                       PT Indofarma\n",
       "535                PT Telkom Indonesia (Persero), Tbk.\n",
       "536                                    PT Semen Kupang\n",
       "\n",
       "[537 rows x 1 columns]"
      ]
     },
     "execution_count": 11,
     "metadata": {},
     "output_type": "execute_result"
    }
   ],
   "source": [
    "df_dist"
   ]
  },
  {
   "cell_type": "markdown",
   "id": "5692a29e",
   "metadata": {},
   "source": [
    "# Preprocess Reference Data"
   ]
  },
  {
   "cell_type": "code",
   "execution_count": 12,
   "id": "9890fc41",
   "metadata": {},
   "outputs": [],
   "source": [
    "prd = preprocess_reference_data.PreprocessReferenceData(dfAll)"
   ]
  },
  {
   "cell_type": "code",
   "execution_count": 13,
   "id": "b0a9d21b",
   "metadata": {},
   "outputs": [],
   "source": [
    "reference_data = prd.get_preprocessed_df()"
   ]
  },
  {
   "cell_type": "code",
   "execution_count": 14,
   "id": "86c719b4",
   "metadata": {},
   "outputs": [
    {
     "data": {
      "text/html": [
       "<div>\n",
       "<style scoped>\n",
       "    .dataframe tbody tr th:only-of-type {\n",
       "        vertical-align: middle;\n",
       "    }\n",
       "\n",
       "    .dataframe tbody tr th {\n",
       "        vertical-align: top;\n",
       "    }\n",
       "\n",
       "    .dataframe thead th {\n",
       "        text-align: right;\n",
       "    }\n",
       "</style>\n",
       "<table border=\"1\" class=\"dataframe\">\n",
       "  <thead>\n",
       "    <tr style=\"text-align: right;\">\n",
       "      <th></th>\n",
       "      <th>reference</th>\n",
       "    </tr>\n",
       "  </thead>\n",
       "  <tbody>\n",
       "    <tr>\n",
       "      <th>0</th>\n",
       "      <td>Kemenko Polhukam</td>\n",
       "    </tr>\n",
       "    <tr>\n",
       "      <th>1</th>\n",
       "      <td>Polhukam</td>\n",
       "    </tr>\n",
       "    <tr>\n",
       "      <th>2</th>\n",
       "      <td>Kemlu</td>\n",
       "    </tr>\n",
       "    <tr>\n",
       "      <th>3</th>\n",
       "      <td>Kemlu RI</td>\n",
       "    </tr>\n",
       "    <tr>\n",
       "      <th>4</th>\n",
       "      <td>Kementerian BUMN</td>\n",
       "    </tr>\n",
       "    <tr>\n",
       "      <th>...</th>\n",
       "      <td>...</td>\n",
       "    </tr>\n",
       "    <tr>\n",
       "      <th>933</th>\n",
       "      <td>Indofarma Global Medika</td>\n",
       "    </tr>\n",
       "    <tr>\n",
       "      <th>934</th>\n",
       "      <td>Indofarma Global Medika Cabang</td>\n",
       "    </tr>\n",
       "    <tr>\n",
       "      <th>935</th>\n",
       "      <td>PT IGM</td>\n",
       "    </tr>\n",
       "    <tr>\n",
       "      <th>936</th>\n",
       "      <td>Indofarma</td>\n",
       "    </tr>\n",
       "    <tr>\n",
       "      <th>937</th>\n",
       "      <td>PT Telkom Indonesia</td>\n",
       "    </tr>\n",
       "  </tbody>\n",
       "</table>\n",
       "<p>937 rows × 1 columns</p>\n",
       "</div>"
      ],
      "text/plain": [
       "                          reference\n",
       "0                  Kemenko Polhukam\n",
       "1                          Polhukam\n",
       "2                             Kemlu\n",
       "3                          Kemlu RI\n",
       "4                  Kementerian BUMN\n",
       "..                              ...\n",
       "933         Indofarma Global Medika\n",
       "934  Indofarma Global Medika Cabang\n",
       "935                          PT IGM\n",
       "936                       Indofarma\n",
       "937             PT Telkom Indonesia\n",
       "\n",
       "[937 rows x 1 columns]"
      ]
     },
     "execution_count": 14,
     "metadata": {},
     "output_type": "execute_result"
    }
   ],
   "source": [
    "reference_data"
   ]
  },
  {
   "cell_type": "code",
   "execution_count": 15,
   "id": "b6f930be",
   "metadata": {},
   "outputs": [],
   "source": [
    "# concatenate distinct instansi\n",
    "reference_data = pd.concat([reference_data, df_dist])"
   ]
  },
  {
   "cell_type": "code",
   "execution_count": 16,
   "id": "d755d8d8",
   "metadata": {},
   "outputs": [],
   "source": [
    "reference_data = pd.DataFrame(reference_data['reference'].unique())"
   ]
  },
  {
   "cell_type": "code",
   "execution_count": 17,
   "id": "961d7756",
   "metadata": {},
   "outputs": [],
   "source": [
    "reference_data = reference_data.reset_index()"
   ]
  },
  {
   "cell_type": "code",
   "execution_count": 18,
   "id": "330fed5a",
   "metadata": {
    "scrolled": true
   },
   "outputs": [
    {
     "data": {
      "text/html": [
       "<div>\n",
       "<style scoped>\n",
       "    .dataframe tbody tr th:only-of-type {\n",
       "        vertical-align: middle;\n",
       "    }\n",
       "\n",
       "    .dataframe tbody tr th {\n",
       "        vertical-align: top;\n",
       "    }\n",
       "\n",
       "    .dataframe thead th {\n",
       "        text-align: right;\n",
       "    }\n",
       "</style>\n",
       "<table border=\"1\" class=\"dataframe\">\n",
       "  <thead>\n",
       "    <tr style=\"text-align: right;\">\n",
       "      <th></th>\n",
       "      <th>index</th>\n",
       "      <th>0</th>\n",
       "    </tr>\n",
       "  </thead>\n",
       "  <tbody>\n",
       "    <tr>\n",
       "      <th>0</th>\n",
       "      <td>0</td>\n",
       "      <td>Kemenko Polhukam</td>\n",
       "    </tr>\n",
       "    <tr>\n",
       "      <th>1</th>\n",
       "      <td>1</td>\n",
       "      <td>Polhukam</td>\n",
       "    </tr>\n",
       "    <tr>\n",
       "      <th>2</th>\n",
       "      <td>2</td>\n",
       "      <td>Kemlu</td>\n",
       "    </tr>\n",
       "    <tr>\n",
       "      <th>3</th>\n",
       "      <td>3</td>\n",
       "      <td>Kemlu RI</td>\n",
       "    </tr>\n",
       "    <tr>\n",
       "      <th>4</th>\n",
       "      <td>4</td>\n",
       "      <td>Kementerian BUMN</td>\n",
       "    </tr>\n",
       "    <tr>\n",
       "      <th>...</th>\n",
       "      <td>...</td>\n",
       "      <td>...</td>\n",
       "    </tr>\n",
       "    <tr>\n",
       "      <th>1466</th>\n",
       "      <td>1466</td>\n",
       "      <td>PT Taman Wisata Candi Borobudur, Prambanan, Da...</td>\n",
       "    </tr>\n",
       "    <tr>\n",
       "      <th>1467</th>\n",
       "      <td>1467</td>\n",
       "      <td>PT Varuna Tirta Prakasya (Persero)</td>\n",
       "    </tr>\n",
       "    <tr>\n",
       "      <th>1468</th>\n",
       "      <td>1468</td>\n",
       "      <td>PT Indofarma</td>\n",
       "    </tr>\n",
       "    <tr>\n",
       "      <th>1469</th>\n",
       "      <td>1469</td>\n",
       "      <td>PT Telkom Indonesia (Persero), Tbk.</td>\n",
       "    </tr>\n",
       "    <tr>\n",
       "      <th>1470</th>\n",
       "      <td>1470</td>\n",
       "      <td>PT Semen Kupang</td>\n",
       "    </tr>\n",
       "  </tbody>\n",
       "</table>\n",
       "<p>1471 rows × 2 columns</p>\n",
       "</div>"
      ],
      "text/plain": [
       "      index                                                  0\n",
       "0         0                                   Kemenko Polhukam\n",
       "1         1                                           Polhukam\n",
       "2         2                                              Kemlu\n",
       "3         3                                           Kemlu RI\n",
       "4         4                                   Kementerian BUMN\n",
       "...     ...                                                ...\n",
       "1466   1466  PT Taman Wisata Candi Borobudur, Prambanan, Da...\n",
       "1467   1467                 PT Varuna Tirta Prakasya (Persero)\n",
       "1468   1468                                       PT Indofarma\n",
       "1469   1469                PT Telkom Indonesia (Persero), Tbk.\n",
       "1470   1470                                    PT Semen Kupang\n",
       "\n",
       "[1471 rows x 2 columns]"
      ]
     },
     "execution_count": 18,
     "metadata": {},
     "output_type": "execute_result"
    }
   ],
   "source": [
    "reference_data"
   ]
  },
  {
   "cell_type": "code",
   "execution_count": 19,
   "id": "03cbf0a2",
   "metadata": {},
   "outputs": [],
   "source": [
    "reference_data = reference_data.drop(['index'], axis=1)"
   ]
  },
  {
   "cell_type": "code",
   "execution_count": 20,
   "id": "9be70510",
   "metadata": {},
   "outputs": [],
   "source": [
    "reference_data = reference_data.rename(columns={0: 'reference'})"
   ]
  },
  {
   "cell_type": "code",
   "execution_count": 21,
   "id": "a578719c",
   "metadata": {},
   "outputs": [
    {
     "data": {
      "text/html": [
       "<div>\n",
       "<style scoped>\n",
       "    .dataframe tbody tr th:only-of-type {\n",
       "        vertical-align: middle;\n",
       "    }\n",
       "\n",
       "    .dataframe tbody tr th {\n",
       "        vertical-align: top;\n",
       "    }\n",
       "\n",
       "    .dataframe thead th {\n",
       "        text-align: right;\n",
       "    }\n",
       "</style>\n",
       "<table border=\"1\" class=\"dataframe\">\n",
       "  <thead>\n",
       "    <tr style=\"text-align: right;\">\n",
       "      <th></th>\n",
       "      <th>reference</th>\n",
       "    </tr>\n",
       "  </thead>\n",
       "  <tbody>\n",
       "    <tr>\n",
       "      <th>0</th>\n",
       "      <td>Kemenko Polhukam</td>\n",
       "    </tr>\n",
       "    <tr>\n",
       "      <th>1</th>\n",
       "      <td>Polhukam</td>\n",
       "    </tr>\n",
       "    <tr>\n",
       "      <th>2</th>\n",
       "      <td>Kemlu</td>\n",
       "    </tr>\n",
       "    <tr>\n",
       "      <th>3</th>\n",
       "      <td>Kemlu RI</td>\n",
       "    </tr>\n",
       "    <tr>\n",
       "      <th>4</th>\n",
       "      <td>Kementerian BUMN</td>\n",
       "    </tr>\n",
       "    <tr>\n",
       "      <th>...</th>\n",
       "      <td>...</td>\n",
       "    </tr>\n",
       "    <tr>\n",
       "      <th>1466</th>\n",
       "      <td>PT Taman Wisata Candi Borobudur, Prambanan, Da...</td>\n",
       "    </tr>\n",
       "    <tr>\n",
       "      <th>1467</th>\n",
       "      <td>PT Varuna Tirta Prakasya (Persero)</td>\n",
       "    </tr>\n",
       "    <tr>\n",
       "      <th>1468</th>\n",
       "      <td>PT Indofarma</td>\n",
       "    </tr>\n",
       "    <tr>\n",
       "      <th>1469</th>\n",
       "      <td>PT Telkom Indonesia (Persero), Tbk.</td>\n",
       "    </tr>\n",
       "    <tr>\n",
       "      <th>1470</th>\n",
       "      <td>PT Semen Kupang</td>\n",
       "    </tr>\n",
       "  </tbody>\n",
       "</table>\n",
       "<p>1471 rows × 1 columns</p>\n",
       "</div>"
      ],
      "text/plain": [
       "                                              reference\n",
       "0                                      Kemenko Polhukam\n",
       "1                                              Polhukam\n",
       "2                                                 Kemlu\n",
       "3                                              Kemlu RI\n",
       "4                                      Kementerian BUMN\n",
       "...                                                 ...\n",
       "1466  PT Taman Wisata Candi Borobudur, Prambanan, Da...\n",
       "1467                 PT Varuna Tirta Prakasya (Persero)\n",
       "1468                                       PT Indofarma\n",
       "1469                PT Telkom Indonesia (Persero), Tbk.\n",
       "1470                                    PT Semen Kupang\n",
       "\n",
       "[1471 rows x 1 columns]"
      ]
     },
     "execution_count": 21,
     "metadata": {},
     "output_type": "execute_result"
    }
   ],
   "source": [
    "reference_data"
   ]
  },
  {
   "cell_type": "code",
   "execution_count": 22,
   "id": "c88b40fd",
   "metadata": {},
   "outputs": [],
   "source": [
    "reference_data.to_csv('./data/v2/reference_data.csv')"
   ]
  },
  {
   "cell_type": "markdown",
   "id": "64a85894",
   "metadata": {},
   "source": [
    "# Create Indexing Table"
   ]
  },
  {
   "cell_type": "code",
   "execution_count": 23,
   "id": "bfffce7e",
   "metadata": {},
   "outputs": [],
   "source": [
    "idx = index.Index(reference_data)"
   ]
  },
  {
   "cell_type": "code",
   "execution_count": 24,
   "id": "29bbf855",
   "metadata": {},
   "outputs": [],
   "source": [
    "index_table = idx.get_index_table()"
   ]
  },
  {
   "cell_type": "code",
   "execution_count": 25,
   "id": "ca83ecbf",
   "metadata": {},
   "outputs": [
    {
     "data": {
      "text/html": [
       "<div>\n",
       "<style scoped>\n",
       "    .dataframe tbody tr th:only-of-type {\n",
       "        vertical-align: middle;\n",
       "    }\n",
       "\n",
       "    .dataframe tbody tr th {\n",
       "        vertical-align: top;\n",
       "    }\n",
       "\n",
       "    .dataframe thead th {\n",
       "        text-align: right;\n",
       "    }\n",
       "</style>\n",
       "<table border=\"1\" class=\"dataframe\">\n",
       "  <thead>\n",
       "    <tr style=\"text-align: right;\">\n",
       "      <th></th>\n",
       "      <th>Kata</th>\n",
       "      <th>Index</th>\n",
       "    </tr>\n",
       "  </thead>\n",
       "  <tbody>\n",
       "    <tr>\n",
       "      <th>0</th>\n",
       "      <td>Kemenko</td>\n",
       "      <td>[0]</td>\n",
       "    </tr>\n",
       "    <tr>\n",
       "      <th>1</th>\n",
       "      <td>Polhukam</td>\n",
       "      <td>[0, 1]</td>\n",
       "    </tr>\n",
       "    <tr>\n",
       "      <th>2</th>\n",
       "      <td>Kemlu</td>\n",
       "      <td>[2, 3]</td>\n",
       "    </tr>\n",
       "    <tr>\n",
       "      <th>3</th>\n",
       "      <td>RI</td>\n",
       "      <td>[3, 7, 9, 11, 15, 17, 19, 23, 25, 80, 81, 85, ...</td>\n",
       "    </tr>\n",
       "    <tr>\n",
       "      <th>4</th>\n",
       "      <td>Kementerian</td>\n",
       "      <td>[4, 50, 51, 671, 745, 750, 937, 938, 939, 940,...</td>\n",
       "    </tr>\n",
       "    <tr>\n",
       "      <th>...</th>\n",
       "      <td>...</td>\n",
       "      <td>...</td>\n",
       "    </tr>\n",
       "    <tr>\n",
       "      <th>955</th>\n",
       "      <td>(Pelni)</td>\n",
       "      <td>[1463]</td>\n",
       "    </tr>\n",
       "    <tr>\n",
       "      <th>956</th>\n",
       "      <td>Borobudur,</td>\n",
       "      <td>[1466]</td>\n",
       "    </tr>\n",
       "    <tr>\n",
       "      <th>957</th>\n",
       "      <td>Prambanan,</td>\n",
       "      <td>[1466]</td>\n",
       "    </tr>\n",
       "    <tr>\n",
       "      <th>958</th>\n",
       "      <td>Ratu</td>\n",
       "      <td>[1466]</td>\n",
       "    </tr>\n",
       "    <tr>\n",
       "      <th>959</th>\n",
       "      <td>Boko</td>\n",
       "      <td>[1466]</td>\n",
       "    </tr>\n",
       "  </tbody>\n",
       "</table>\n",
       "<p>960 rows × 2 columns</p>\n",
       "</div>"
      ],
      "text/plain": [
       "            Kata                                              Index\n",
       "0        Kemenko                                                [0]\n",
       "1       Polhukam                                             [0, 1]\n",
       "2          Kemlu                                             [2, 3]\n",
       "3             RI  [3, 7, 9, 11, 15, 17, 19, 23, 25, 80, 81, 85, ...\n",
       "4    Kementerian  [4, 50, 51, 671, 745, 750, 937, 938, 939, 940,...\n",
       "..           ...                                                ...\n",
       "955      (Pelni)                                             [1463]\n",
       "956   Borobudur,                                             [1466]\n",
       "957   Prambanan,                                             [1466]\n",
       "958         Ratu                                             [1466]\n",
       "959         Boko                                             [1466]\n",
       "\n",
       "[960 rows x 2 columns]"
      ]
     },
     "execution_count": 25,
     "metadata": {},
     "output_type": "execute_result"
    }
   ],
   "source": [
    "index_table"
   ]
  },
  {
   "cell_type": "code",
   "execution_count": 26,
   "id": "d579ebcf",
   "metadata": {},
   "outputs": [],
   "source": [
    "index_table.to_csv('./data/v2/index_table.csv')"
   ]
  },
  {
   "cell_type": "markdown",
   "id": "4f094e91",
   "metadata": {},
   "source": [
    "# Perform Search"
   ]
  },
  {
   "cell_type": "code",
   "execution_count": 27,
   "id": "fe458af1",
   "metadata": {},
   "outputs": [],
   "source": [
    "it = pd.read_csv('./data/v2/index_table.csv', index_col='Unnamed: 0')\n",
    "rd = pd.read_csv('./data/v2/reference_data.csv', index_col='Unnamed: 0')"
   ]
  },
  {
   "cell_type": "code",
   "execution_count": 28,
   "id": "687a6292",
   "metadata": {},
   "outputs": [
    {
     "data": {
      "text/html": [
       "<div>\n",
       "<style scoped>\n",
       "    .dataframe tbody tr th:only-of-type {\n",
       "        vertical-align: middle;\n",
       "    }\n",
       "\n",
       "    .dataframe tbody tr th {\n",
       "        vertical-align: top;\n",
       "    }\n",
       "\n",
       "    .dataframe thead th {\n",
       "        text-align: right;\n",
       "    }\n",
       "</style>\n",
       "<table border=\"1\" class=\"dataframe\">\n",
       "  <thead>\n",
       "    <tr style=\"text-align: right;\">\n",
       "      <th></th>\n",
       "      <th>reference</th>\n",
       "    </tr>\n",
       "  </thead>\n",
       "  <tbody>\n",
       "    <tr>\n",
       "      <th>0</th>\n",
       "      <td>Kemenko Polhukam</td>\n",
       "    </tr>\n",
       "  </tbody>\n",
       "</table>\n",
       "</div>"
      ],
      "text/plain": [
       "          reference\n",
       "0  Kemenko Polhukam"
      ]
     },
     "execution_count": 28,
     "metadata": {},
     "output_type": "execute_result"
    }
   ],
   "source": [
    "rd.head(1)"
   ]
  },
  {
   "cell_type": "code",
   "execution_count": 29,
   "id": "b46f6e12",
   "metadata": {},
   "outputs": [
    {
     "data": {
      "text/html": [
       "<div>\n",
       "<style scoped>\n",
       "    .dataframe tbody tr th:only-of-type {\n",
       "        vertical-align: middle;\n",
       "    }\n",
       "\n",
       "    .dataframe tbody tr th {\n",
       "        vertical-align: top;\n",
       "    }\n",
       "\n",
       "    .dataframe thead th {\n",
       "        text-align: right;\n",
       "    }\n",
       "</style>\n",
       "<table border=\"1\" class=\"dataframe\">\n",
       "  <thead>\n",
       "    <tr style=\"text-align: right;\">\n",
       "      <th></th>\n",
       "      <th>Kata</th>\n",
       "      <th>Index</th>\n",
       "    </tr>\n",
       "  </thead>\n",
       "  <tbody>\n",
       "    <tr>\n",
       "      <th>0</th>\n",
       "      <td>Kemenko</td>\n",
       "      <td>[0]</td>\n",
       "    </tr>\n",
       "  </tbody>\n",
       "</table>\n",
       "</div>"
      ],
      "text/plain": [
       "      Kata Index\n",
       "0  Kemenko   [0]"
      ]
     },
     "execution_count": 29,
     "metadata": {},
     "output_type": "execute_result"
    }
   ],
   "source": [
    "it.head(1)"
   ]
  },
  {
   "cell_type": "code",
   "execution_count": 30,
   "id": "d62677cd",
   "metadata": {},
   "outputs": [],
   "source": [
    "search_ = search.Search(rd, it)"
   ]
  },
  {
   "cell_type": "code",
   "execution_count": 31,
   "id": "fd20f4b0",
   "metadata": {},
   "outputs": [
    {
     "data": {
      "text/plain": [
       "{'kementerian': ['Kementerian BUMN',\n",
       "  'Kementerian Investasi/BKPM',\n",
       "  'Kementerian Investasi',\n",
       "  'Kementerian PPN/Bappenas',\n",
       "  'Kementerian Koperasi dan UKM',\n",
       "  'Kementerian PP & PA',\n",
       "  'Kementerian Koordinator Bidang Politik, Hukum, dan Keamanan',\n",
       "  'Kementerian Luar Negeri',\n",
       "  'Kementerian Badan Usaha Milik Negara',\n",
       "  'Kementerian Pariwisata dan Ekonomi Kreatif',\n",
       "  'Kementerian Pekerjaan Umum dan Perumahan Rakyat (PUPR)',\n",
       "  'Kementerian Pemuda dan Olahraga',\n",
       "  'Kementerian Pendidikan, Kebudayaan, Riset, dan Teknologi',\n",
       "  'Kementerian Perdagangan',\n",
       "  'Kementerian Perhubungan',\n",
       "  'Kementerian Perindustrian',\n",
       "  'Kementerian Pertahanan',\n",
       "  'Kementerian Pertanian',\n",
       "  'Kementerian Sekretariat Negara',\n",
       "  'Kementerian Perencanaan Pembangunan Nasional (PPN)/Badan Perencanaan Pembangunan Nasional (Bappenas)',\n",
       "  'Kementerian Sosial',\n",
       "  'Kementerian Koperasi dan Usaha Kecil dan Menengah',\n",
       "  'Kementerian Pendayagunaan Aparatur Negara dan Reformasi Birokrasi (Kem PANRB)',\n",
       "  'Kementerian Pemberdayaan Perempuan dan Perlindungan Anak'],\n",
       " 'pertanian': ['Kementerian Pertanian']}"
      ]
     },
     "execution_count": 31,
     "metadata": {},
     "output_type": "execute_result"
    }
   ],
   "source": [
    "nama_instansi = \"kementerian pertanian\"\n",
    "search_.search(nama_instansi)"
   ]
  },
  {
   "cell_type": "code",
   "execution_count": 34,
   "id": "69e158cc",
   "metadata": {},
   "outputs": [
    {
     "data": {
      "text/plain": [
       "{'kereta': ['PT Industri Kereta Api',\n",
       "  'PT Kereta Api Indonesia ',\n",
       "  'PT Industri Kereta Api (Persero) (INKA)',\n",
       "  'PT Kereta Api Indonesia (Persero) (KAI)']}"
      ]
     },
     "execution_count": 34,
     "metadata": {},
     "output_type": "execute_result"
    }
   ],
   "source": [
    "search_.search(\"kereta\")"
   ]
  },
  {
   "cell_type": "code",
   "execution_count": 61,
   "id": "e99eeda2",
   "metadata": {},
   "outputs": [
    {
     "data": {
      "text/plain": [
       "{'bri': ['Bank BRI Unit Prambanan']}"
      ]
     },
     "execution_count": 61,
     "metadata": {},
     "output_type": "execute_result"
    }
   ],
   "source": [
    "search_.search(\"bri custody\")"
   ]
  },
  {
   "cell_type": "code",
   "execution_count": null,
   "id": "03a3e22e",
   "metadata": {},
   "outputs": [],
   "source": []
  }
 ],
 "metadata": {
  "kernelspec": {
   "display_name": "Python 3 (ipykernel)",
   "language": "python",
   "name": "python3"
  },
  "language_info": {
   "codemirror_mode": {
    "name": "ipython",
    "version": 3
   },
   "file_extension": ".py",
   "mimetype": "text/x-python",
   "name": "python",
   "nbconvert_exporter": "python",
   "pygments_lexer": "ipython3",
   "version": "3.9.6"
  }
 },
 "nbformat": 4,
 "nbformat_minor": 5
}

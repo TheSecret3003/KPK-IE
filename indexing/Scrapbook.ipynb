{
 "cells": [
  {
   "cell_type": "code",
   "execution_count": 1,
   "id": "7be48769",
   "metadata": {},
   "outputs": [
    {
     "name": "stderr",
     "output_type": "stream",
     "text": [
      "C:\\Users\\USER\\AppData\\Local\\Temp\\ipykernel_4712\\2166347387.py:6: DeprecationWarning: the imp module is deprecated in favour of importlib and slated for removal in Python 3.12; see the module's documentation for alternative uses\n",
      "  import imp\n"
     ]
    },
    {
     "data": {
      "text/plain": [
       "<module 'index' from 'C:\\\\Users\\\\USER\\\\Documents\\\\KPK-IE\\\\indexing\\\\index.py'>"
      ]
     },
     "execution_count": 1,
     "metadata": {},
     "output_type": "execute_result"
    }
   ],
   "source": [
    "import pandas as pd\n",
    "import numpy as np\n",
    "\n",
    "import preprocess_reference_data as prd\n",
    "import index as idx\n",
    "import imp\n",
    "imp.reload(prd)\n",
    "imp.reload(idx)"
   ]
  },
  {
   "cell_type": "markdown",
   "id": "c6a0d0f7",
   "metadata": {},
   "source": [
    "# Test"
   ]
  },
  {
   "cell_type": "code",
   "execution_count": 3,
   "id": "3a058989",
   "metadata": {},
   "outputs": [
    {
     "data": {
      "text/html": [
       "<div>\n",
       "<style scoped>\n",
       "    .dataframe tbody tr th:only-of-type {\n",
       "        vertical-align: middle;\n",
       "    }\n",
       "\n",
       "    .dataframe tbody tr th {\n",
       "        vertical-align: top;\n",
       "    }\n",
       "\n",
       "    .dataframe thead th {\n",
       "        text-align: right;\n",
       "    }\n",
       "</style>\n",
       "<table border=\"1\" class=\"dataframe\">\n",
       "  <thead>\n",
       "    <tr style=\"text-align: right;\">\n",
       "      <th></th>\n",
       "      <th>no</th>\n",
       "      <th>instansi</th>\n",
       "      <th>reference</th>\n",
       "      <th>status</th>\n",
       "    </tr>\n",
       "  </thead>\n",
       "  <tbody>\n",
       "    <tr>\n",
       "      <th>0</th>\n",
       "      <td>1</td>\n",
       "      <td>Kementerian Koordinator Bidang Politik, Hukum,...</td>\n",
       "      <td>Kemenko Polhukam</td>\n",
       "      <td>yes</td>\n",
       "    </tr>\n",
       "    <tr>\n",
       "      <th>1</th>\n",
       "      <td>2</td>\n",
       "      <td>Kementerian Koordinator Bidang Politik, Hukum,...</td>\n",
       "      <td>Polhukam</td>\n",
       "      <td>yes</td>\n",
       "    </tr>\n",
       "  </tbody>\n",
       "</table>\n",
       "</div>"
      ],
      "text/plain": [
       "   no                                           instansi         reference  \\\n",
       "0   1  Kementerian Koordinator Bidang Politik, Hukum,...  Kemenko Polhukam   \n",
       "1   2  Kementerian Koordinator Bidang Politik, Hukum,...          Polhukam   \n",
       "\n",
       "  status  \n",
       "0    yes  \n",
       "1    yes  "
      ]
     },
     "execution_count": 3,
     "metadata": {},
     "output_type": "execute_result"
    }
   ],
   "source": [
    "df = pd.read_csv('./data/pelabelan_2_labeled (2).csv')\n",
    "df.head(2)"
   ]
  },
  {
   "cell_type": "code",
   "execution_count": 4,
   "id": "d4863034",
   "metadata": {},
   "outputs": [],
   "source": [
    "prd_ = prd.PreprocessReferenceData(df)\n",
    "reference_data = prd_.get_preprocessed_df()"
   ]
  },
  {
   "cell_type": "code",
   "execution_count": 5,
   "id": "722cd4f9",
   "metadata": {},
   "outputs": [
    {
     "data": {
      "text/html": [
       "<div>\n",
       "<style scoped>\n",
       "    .dataframe tbody tr th:only-of-type {\n",
       "        vertical-align: middle;\n",
       "    }\n",
       "\n",
       "    .dataframe tbody tr th {\n",
       "        vertical-align: top;\n",
       "    }\n",
       "\n",
       "    .dataframe thead th {\n",
       "        text-align: right;\n",
       "    }\n",
       "</style>\n",
       "<table border=\"1\" class=\"dataframe\">\n",
       "  <thead>\n",
       "    <tr style=\"text-align: right;\">\n",
       "      <th></th>\n",
       "      <th>reference</th>\n",
       "    </tr>\n",
       "  </thead>\n",
       "  <tbody>\n",
       "    <tr>\n",
       "      <th>0</th>\n",
       "      <td>Kemenko Polhukam</td>\n",
       "    </tr>\n",
       "    <tr>\n",
       "      <th>1</th>\n",
       "      <td>Polhukam</td>\n",
       "    </tr>\n",
       "    <tr>\n",
       "      <th>2</th>\n",
       "      <td>Kementerian Koperasi dan UKM</td>\n",
       "    </tr>\n",
       "    <tr>\n",
       "      <th>3</th>\n",
       "      <td>KemenkopUKM</td>\n",
       "    </tr>\n",
       "    <tr>\n",
       "      <th>4</th>\n",
       "      <td>Kemlu</td>\n",
       "    </tr>\n",
       "  </tbody>\n",
       "</table>\n",
       "</div>"
      ],
      "text/plain": [
       "                      reference\n",
       "0              Kemenko Polhukam\n",
       "1                      Polhukam\n",
       "2  Kementerian Koperasi dan UKM\n",
       "3                   KemenkopUKM\n",
       "4                         Kemlu"
      ]
     },
     "execution_count": 5,
     "metadata": {},
     "output_type": "execute_result"
    }
   ],
   "source": [
    "reference_data.head()"
   ]
  },
  {
   "cell_type": "code",
   "execution_count": 6,
   "id": "dd70729c",
   "metadata": {},
   "outputs": [],
   "source": [
    "idx_ = idx.Index(reference_data)"
   ]
  },
  {
   "cell_type": "code",
   "execution_count": 7,
   "id": "95ffff8a",
   "metadata": {},
   "outputs": [],
   "source": [
    "index_table = idx_.get_index_table()"
   ]
  },
  {
   "cell_type": "code",
   "execution_count": 8,
   "id": "d36716f1",
   "metadata": {},
   "outputs": [
    {
     "data": {
      "text/html": [
       "<div>\n",
       "<style scoped>\n",
       "    .dataframe tbody tr th:only-of-type {\n",
       "        vertical-align: middle;\n",
       "    }\n",
       "\n",
       "    .dataframe tbody tr th {\n",
       "        vertical-align: top;\n",
       "    }\n",
       "\n",
       "    .dataframe thead th {\n",
       "        text-align: right;\n",
       "    }\n",
       "</style>\n",
       "<table border=\"1\" class=\"dataframe\">\n",
       "  <thead>\n",
       "    <tr style=\"text-align: right;\">\n",
       "      <th></th>\n",
       "      <th>Kata</th>\n",
       "      <th>Index</th>\n",
       "    </tr>\n",
       "  </thead>\n",
       "  <tbody>\n",
       "    <tr>\n",
       "      <th>0</th>\n",
       "      <td>Kemenko</td>\n",
       "      <td>[0]</td>\n",
       "    </tr>\n",
       "    <tr>\n",
       "      <th>1</th>\n",
       "      <td>Polhukam</td>\n",
       "      <td>[0, 1]</td>\n",
       "    </tr>\n",
       "    <tr>\n",
       "      <th>2</th>\n",
       "      <td>Kementerian</td>\n",
       "      <td>[2, 6, 15, 22, 60, 61]</td>\n",
       "    </tr>\n",
       "    <tr>\n",
       "      <th>3</th>\n",
       "      <td>Koperasi</td>\n",
       "      <td>[2]</td>\n",
       "    </tr>\n",
       "    <tr>\n",
       "      <th>4</th>\n",
       "      <td>dan</td>\n",
       "      <td>[2, 87, 89, 116, 136, 145, 171, 241]</td>\n",
       "    </tr>\n",
       "  </tbody>\n",
       "</table>\n",
       "</div>"
      ],
      "text/plain": [
       "          Kata                                 Index\n",
       "0      Kemenko                                   [0]\n",
       "1     Polhukam                                [0, 1]\n",
       "2  Kementerian                [2, 6, 15, 22, 60, 61]\n",
       "3     Koperasi                                   [2]\n",
       "4          dan  [2, 87, 89, 116, 136, 145, 171, 241]"
      ]
     },
     "execution_count": 8,
     "metadata": {},
     "output_type": "execute_result"
    }
   ],
   "source": [
    "index_table.head()"
   ]
  },
  {
   "cell_type": "markdown",
   "id": "84701b32",
   "metadata": {},
   "source": [
    "# Searching scrapbook"
   ]
  },
  {
   "cell_type": "markdown",
   "id": "c58bff5d",
   "metadata": {},
   "source": [
    "given nama_instansi\n",
    "\n",
    "split nama_instansi to list of words\n",
    "\n",
    "for word in nama_instansi.split():\n",
    "    "
   ]
  },
  {
   "cell_type": "code",
   "execution_count": 9,
   "id": "03b93968",
   "metadata": {},
   "outputs": [],
   "source": [
    "nama_instansi = \"Kementerian Polhukam\""
   ]
  },
  {
   "cell_type": "code",
   "execution_count": 10,
   "id": "d02d0fd4",
   "metadata": {},
   "outputs": [
    {
     "data": {
      "text/plain": [
       "['Kementerian', 'Polhukam']"
      ]
     },
     "execution_count": 10,
     "metadata": {},
     "output_type": "execute_result"
    }
   ],
   "source": [
    "word_list = nama_instansi.split()\n",
    "word_list"
   ]
  },
  {
   "cell_type": "code",
   "execution_count": 20,
   "id": "0da9d39d",
   "metadata": {},
   "outputs": [
    {
     "data": {
      "text/plain": [
       "[2, 6, 15, 22, 60, 61]"
      ]
     },
     "execution_count": 20,
     "metadata": {},
     "output_type": "execute_result"
    }
   ],
   "source": [
    "index_table[index_table['Kata']=='Kementerian']['Index'].iloc[0]"
   ]
  },
  {
   "cell_type": "code",
   "execution_count": 24,
   "id": "8c7ef2de",
   "metadata": {},
   "outputs": [],
   "source": [
    "candidates = {}\n",
    "for word in word_list:\n",
    "    candidates[word] = index_table[index_table['Kata']==word]['Index'].iloc[0]"
   ]
  },
  {
   "cell_type": "code",
   "execution_count": 25,
   "id": "5aaf9b1e",
   "metadata": {},
   "outputs": [
    {
     "data": {
      "text/plain": [
       "{'Kementerian': [2, 6, 15, 22, 60, 61], 'Polhukam': [0, 1]}"
      ]
     },
     "execution_count": 25,
     "metadata": {},
     "output_type": "execute_result"
    }
   ],
   "source": [
    "candidates"
   ]
  },
  {
   "cell_type": "code",
   "execution_count": 29,
   "id": "be9edd94",
   "metadata": {},
   "outputs": [
    {
     "data": {
      "text/plain": [
       "'Kementerian PP & PA'"
      ]
     },
     "execution_count": 29,
     "metadata": {},
     "output_type": "execute_result"
    }
   ],
   "source": [
    "reference_data.iloc[15].iloc[0]"
   ]
  },
  {
   "cell_type": "code",
   "execution_count": 30,
   "id": "b2a4f046",
   "metadata": {},
   "outputs": [],
   "source": [
    "candidates_ = {}\n",
    "for word, indexes in candidates.items():\n",
    "    words = []\n",
    "    for i in indexes:\n",
    "        words.append(reference_data.iloc[i].iloc[0])\n",
    "    candidates_[word] = words"
   ]
  },
  {
   "cell_type": "code",
   "execution_count": 31,
   "id": "24b85287",
   "metadata": {},
   "outputs": [
    {
     "data": {
      "text/plain": [
       "{'Kementerian': ['Kementerian Koperasi dan UKM',\n",
       "  'Kementerian BUMN',\n",
       "  'Kementerian PP & PA',\n",
       "  'Kementerian PPN/Bappenas',\n",
       "  'Kementerian Investasi/BKPM',\n",
       "  'Kementerian Investasi'],\n",
       " 'Polhukam': ['Kemenko Polhukam', 'Polhukam']}"
      ]
     },
     "execution_count": 31,
     "metadata": {},
     "output_type": "execute_result"
    }
   ],
   "source": [
    "candidates_"
   ]
  },
  {
   "cell_type": "code",
   "execution_count": 101,
   "id": "9d179826",
   "metadata": {},
   "outputs": [
    {
     "data": {
      "text/plain": [
       "<module 'search' from 'C:\\\\Users\\\\USER\\\\Documents\\\\KPK-IE\\\\indexing\\\\search.py'>"
      ]
     },
     "execution_count": 101,
     "metadata": {},
     "output_type": "execute_result"
    }
   ],
   "source": [
    "import search as s\n",
    "imp.reload(s)"
   ]
  },
  {
   "cell_type": "code",
   "execution_count": 102,
   "id": "943f6d27",
   "metadata": {},
   "outputs": [],
   "source": [
    "s_ = s.Search(reference_data, index_table)"
   ]
  },
  {
   "cell_type": "code",
   "execution_count": 113,
   "id": "7b75c67a",
   "metadata": {},
   "outputs": [],
   "source": [
    "nama_instansi = 'bgr logistik'\n",
    "results = s_.search(nama_instansi)"
   ]
  },
  {
   "cell_type": "code",
   "execution_count": 114,
   "id": "339c6879",
   "metadata": {},
   "outputs": [
    {
     "data": {
      "text/plain": [
       "{'bgr': ['PT BGR Logistik Indonesia', 'BGR'],\n",
       " 'logistik': ['PT BGR Logistik Indonesia']}"
      ]
     },
     "execution_count": 114,
     "metadata": {},
     "output_type": "execute_result"
    }
   ],
   "source": [
    "results"
   ]
  },
  {
   "cell_type": "code",
   "execution_count": 99,
   "id": "d1b3b0ff",
   "metadata": {},
   "outputs": [
    {
     "data": {
      "text/html": [
       "<div>\n",
       "<style scoped>\n",
       "    .dataframe tbody tr th:only-of-type {\n",
       "        vertical-align: middle;\n",
       "    }\n",
       "\n",
       "    .dataframe tbody tr th {\n",
       "        vertical-align: top;\n",
       "    }\n",
       "\n",
       "    .dataframe thead th {\n",
       "        text-align: right;\n",
       "    }\n",
       "</style>\n",
       "<table border=\"1\" class=\"dataframe\">\n",
       "  <thead>\n",
       "    <tr style=\"text-align: right;\">\n",
       "      <th></th>\n",
       "      <th>Kata</th>\n",
       "      <th>Index</th>\n",
       "    </tr>\n",
       "  </thead>\n",
       "  <tbody>\n",
       "    <tr>\n",
       "      <th>294</th>\n",
       "      <td>BNI</td>\n",
       "      <td>[206, 207]</td>\n",
       "    </tr>\n",
       "  </tbody>\n",
       "</table>\n",
       "</div>"
      ],
      "text/plain": [
       "    Kata       Index\n",
       "294  BNI  [206, 207]"
      ]
     },
     "execution_count": 99,
     "metadata": {},
     "output_type": "execute_result"
    }
   ],
   "source": [
    "index_table[index_table['Kata']=='BNI']"
   ]
  },
  {
   "cell_type": "code",
   "execution_count": 100,
   "id": "1074144d",
   "metadata": {},
   "outputs": [
    {
     "data": {
      "text/html": [
       "<div>\n",
       "<style scoped>\n",
       "    .dataframe tbody tr th:only-of-type {\n",
       "        vertical-align: middle;\n",
       "    }\n",
       "\n",
       "    .dataframe tbody tr th {\n",
       "        vertical-align: top;\n",
       "    }\n",
       "\n",
       "    .dataframe thead th {\n",
       "        text-align: right;\n",
       "    }\n",
       "</style>\n",
       "<table border=\"1\" class=\"dataframe\">\n",
       "  <thead>\n",
       "    <tr style=\"text-align: right;\">\n",
       "      <th></th>\n",
       "      <th>Kata</th>\n",
       "      <th>Index</th>\n",
       "    </tr>\n",
       "  </thead>\n",
       "  <tbody>\n",
       "    <tr>\n",
       "      <th>296</th>\n",
       "      <td>46</td>\n",
       "      <td>[207]</td>\n",
       "    </tr>\n",
       "  </tbody>\n",
       "</table>\n",
       "</div>"
      ],
      "text/plain": [
       "    Kata  Index\n",
       "296   46  [207]"
      ]
     },
     "execution_count": 100,
     "metadata": {},
     "output_type": "execute_result"
    }
   ],
   "source": [
    "index_table[index_table['Kata']=='46']"
   ]
  },
  {
   "cell_type": "code",
   "execution_count": 115,
   "id": "d195b21f",
   "metadata": {},
   "outputs": [
    {
     "data": {
      "text/plain": [
       "pandas.core.frame.DataFrame"
      ]
     },
     "execution_count": 115,
     "metadata": {},
     "output_type": "execute_result"
    }
   ],
   "source": [
    "type(index_table)"
   ]
  },
  {
   "cell_type": "code",
   "execution_count": 117,
   "id": "86a26a0f",
   "metadata": {},
   "outputs": [
    {
     "data": {
      "text/plain": [
       "dict"
      ]
     },
     "execution_count": 117,
     "metadata": {},
     "output_type": "execute_result"
    }
   ],
   "source": [
    "a = {'a': [1]}\n",
    "type(a)"
   ]
  },
  {
   "cell_type": "code",
   "execution_count": null,
   "id": "59740336",
   "metadata": {},
   "outputs": [],
   "source": []
  }
 ],
 "metadata": {
  "kernelspec": {
   "display_name": "Python 3 (ipykernel)",
   "language": "python",
   "name": "python3"
  },
  "language_info": {
   "codemirror_mode": {
    "name": "ipython",
    "version": 3
   },
   "file_extension": ".py",
   "mimetype": "text/x-python",
   "name": "python",
   "nbconvert_exporter": "python",
   "pygments_lexer": "ipython3",
   "version": "3.10.8"
  }
 },
 "nbformat": 4,
 "nbformat_minor": 5
}

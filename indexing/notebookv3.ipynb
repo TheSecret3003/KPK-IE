{
 "cells": [
  {
   "cell_type": "code",
   "execution_count": 1,
   "id": "a3addb18",
   "metadata": {},
   "outputs": [],
   "source": [
    "import pandas as pd\n",
    "import index\n",
    "import search\n",
    "import preprocess_reference_data"
   ]
  },
  {
   "cell_type": "code",
   "execution_count": 2,
   "id": "9af12031",
   "metadata": {},
   "outputs": [],
   "source": [
    "df1 = pd.read_csv('./data/v1/train.csv')\n",
    "df2 = pd.read_csv('./data/v1/val.csv')\n",
    "df3 = pd.read_csv('./data/v1/test.csv')"
   ]
  },
  {
   "cell_type": "code",
   "execution_count": 3,
   "id": "d41c4b7a",
   "metadata": {},
   "outputs": [],
   "source": [
    "dfAll = pd.concat([df1, df2, df3])"
   ]
  },
  {
   "cell_type": "code",
   "execution_count": 4,
   "id": "a6a1a997",
   "metadata": {},
   "outputs": [
    {
     "data": {
      "text/html": [
       "<div>\n",
       "<style scoped>\n",
       "    .dataframe tbody tr th:only-of-type {\n",
       "        vertical-align: middle;\n",
       "    }\n",
       "\n",
       "    .dataframe tbody tr th {\n",
       "        vertical-align: top;\n",
       "    }\n",
       "\n",
       "    .dataframe thead th {\n",
       "        text-align: right;\n",
       "    }\n",
       "</style>\n",
       "<table border=\"1\" class=\"dataframe\">\n",
       "  <thead>\n",
       "    <tr style=\"text-align: right;\">\n",
       "      <th></th>\n",
       "      <th>instansi</th>\n",
       "      <th>reference</th>\n",
       "      <th>status</th>\n",
       "    </tr>\n",
       "  </thead>\n",
       "  <tbody>\n",
       "    <tr>\n",
       "      <th>0</th>\n",
       "      <td>Kementerian Koordinator Bidang Politik, Hukum,...</td>\n",
       "      <td>Kemenko Polhukam</td>\n",
       "      <td>yes</td>\n",
       "    </tr>\n",
       "    <tr>\n",
       "      <th>1</th>\n",
       "      <td>Kementerian Koordinator Bidang Politik, Hukum,...</td>\n",
       "      <td>Polhukam</td>\n",
       "      <td>yes</td>\n",
       "    </tr>\n",
       "    <tr>\n",
       "      <th>2</th>\n",
       "      <td>Kementerian Koordinator Bidang Politik, Hukum,...</td>\n",
       "      <td>Koordinator Politik</td>\n",
       "      <td>no</td>\n",
       "    </tr>\n",
       "    <tr>\n",
       "      <th>3</th>\n",
       "      <td>Kementerian Koordinator Bidang Politik, Hukum,...</td>\n",
       "      <td>Koordinator Hukum</td>\n",
       "      <td>no</td>\n",
       "    </tr>\n",
       "    <tr>\n",
       "      <th>4</th>\n",
       "      <td>Kementerian Luar Negeri</td>\n",
       "      <td>Kemlu</td>\n",
       "      <td>yes</td>\n",
       "    </tr>\n",
       "    <tr>\n",
       "      <th>...</th>\n",
       "      <td>...</td>\n",
       "      <td>...</td>\n",
       "      <td>...</td>\n",
       "    </tr>\n",
       "    <tr>\n",
       "      <th>584</th>\n",
       "      <td>PT Telkom Indonesia (Persero), Tbk.</td>\n",
       "      <td>Telkom University</td>\n",
       "      <td>no</td>\n",
       "    </tr>\n",
       "    <tr>\n",
       "      <th>585</th>\n",
       "      <td>PT Telkom Indonesia (Persero), Tbk.</td>\n",
       "      <td>Telkom</td>\n",
       "      <td>no</td>\n",
       "    </tr>\n",
       "    <tr>\n",
       "      <th>586</th>\n",
       "      <td>PT Semen Kupang</td>\n",
       "      <td>Kupang</td>\n",
       "      <td>no</td>\n",
       "    </tr>\n",
       "    <tr>\n",
       "      <th>587</th>\n",
       "      <td>PT Semen Kupang</td>\n",
       "      <td>Pemkot Kupang</td>\n",
       "      <td>no</td>\n",
       "    </tr>\n",
       "    <tr>\n",
       "      <th>588</th>\n",
       "      <td>PT Semen Kupang</td>\n",
       "      <td>Pemerintah Kota Kupang</td>\n",
       "      <td>no</td>\n",
       "    </tr>\n",
       "  </tbody>\n",
       "</table>\n",
       "<p>2483 rows × 3 columns</p>\n",
       "</div>"
      ],
      "text/plain": [
       "                                              instansi  \\\n",
       "0    Kementerian Koordinator Bidang Politik, Hukum,...   \n",
       "1    Kementerian Koordinator Bidang Politik, Hukum,...   \n",
       "2    Kementerian Koordinator Bidang Politik, Hukum,...   \n",
       "3    Kementerian Koordinator Bidang Politik, Hukum,...   \n",
       "4                              Kementerian Luar Negeri   \n",
       "..                                                 ...   \n",
       "584                PT Telkom Indonesia (Persero), Tbk.   \n",
       "585                PT Telkom Indonesia (Persero), Tbk.   \n",
       "586                                    PT Semen Kupang   \n",
       "587                                    PT Semen Kupang   \n",
       "588                                    PT Semen Kupang   \n",
       "\n",
       "                  reference status  \n",
       "0          Kemenko Polhukam    yes  \n",
       "1                  Polhukam    yes  \n",
       "2       Koordinator Politik     no  \n",
       "3         Koordinator Hukum     no  \n",
       "4                     Kemlu    yes  \n",
       "..                      ...    ...  \n",
       "584       Telkom University     no  \n",
       "585                  Telkom     no  \n",
       "586                  Kupang     no  \n",
       "587           Pemkot Kupang     no  \n",
       "588  Pemerintah Kota Kupang     no  \n",
       "\n",
       "[2483 rows x 3 columns]"
      ]
     },
     "execution_count": 4,
     "metadata": {},
     "output_type": "execute_result"
    }
   ],
   "source": [
    "dfAll"
   ]
  },
  {
   "cell_type": "code",
   "execution_count": 5,
   "id": "cedfef57",
   "metadata": {},
   "outputs": [],
   "source": [
    "dfAll = dfAll.reset_index()"
   ]
  },
  {
   "cell_type": "code",
   "execution_count": 6,
   "id": "ae27097c",
   "metadata": {},
   "outputs": [
    {
     "data": {
      "text/html": [
       "<div>\n",
       "<style scoped>\n",
       "    .dataframe tbody tr th:only-of-type {\n",
       "        vertical-align: middle;\n",
       "    }\n",
       "\n",
       "    .dataframe tbody tr th {\n",
       "        vertical-align: top;\n",
       "    }\n",
       "\n",
       "    .dataframe thead th {\n",
       "        text-align: right;\n",
       "    }\n",
       "</style>\n",
       "<table border=\"1\" class=\"dataframe\">\n",
       "  <thead>\n",
       "    <tr style=\"text-align: right;\">\n",
       "      <th></th>\n",
       "      <th>index</th>\n",
       "      <th>instansi</th>\n",
       "      <th>reference</th>\n",
       "      <th>status</th>\n",
       "    </tr>\n",
       "  </thead>\n",
       "  <tbody>\n",
       "    <tr>\n",
       "      <th>0</th>\n",
       "      <td>0</td>\n",
       "      <td>Kementerian Koordinator Bidang Politik, Hukum,...</td>\n",
       "      <td>Kemenko Polhukam</td>\n",
       "      <td>yes</td>\n",
       "    </tr>\n",
       "    <tr>\n",
       "      <th>1</th>\n",
       "      <td>1</td>\n",
       "      <td>Kementerian Koordinator Bidang Politik, Hukum,...</td>\n",
       "      <td>Polhukam</td>\n",
       "      <td>yes</td>\n",
       "    </tr>\n",
       "    <tr>\n",
       "      <th>2</th>\n",
       "      <td>2</td>\n",
       "      <td>Kementerian Koordinator Bidang Politik, Hukum,...</td>\n",
       "      <td>Koordinator Politik</td>\n",
       "      <td>no</td>\n",
       "    </tr>\n",
       "    <tr>\n",
       "      <th>3</th>\n",
       "      <td>3</td>\n",
       "      <td>Kementerian Koordinator Bidang Politik, Hukum,...</td>\n",
       "      <td>Koordinator Hukum</td>\n",
       "      <td>no</td>\n",
       "    </tr>\n",
       "    <tr>\n",
       "      <th>4</th>\n",
       "      <td>4</td>\n",
       "      <td>Kementerian Luar Negeri</td>\n",
       "      <td>Kemlu</td>\n",
       "      <td>yes</td>\n",
       "    </tr>\n",
       "    <tr>\n",
       "      <th>...</th>\n",
       "      <td>...</td>\n",
       "      <td>...</td>\n",
       "      <td>...</td>\n",
       "      <td>...</td>\n",
       "    </tr>\n",
       "    <tr>\n",
       "      <th>2478</th>\n",
       "      <td>584</td>\n",
       "      <td>PT Telkom Indonesia (Persero), Tbk.</td>\n",
       "      <td>Telkom University</td>\n",
       "      <td>no</td>\n",
       "    </tr>\n",
       "    <tr>\n",
       "      <th>2479</th>\n",
       "      <td>585</td>\n",
       "      <td>PT Telkom Indonesia (Persero), Tbk.</td>\n",
       "      <td>Telkom</td>\n",
       "      <td>no</td>\n",
       "    </tr>\n",
       "    <tr>\n",
       "      <th>2480</th>\n",
       "      <td>586</td>\n",
       "      <td>PT Semen Kupang</td>\n",
       "      <td>Kupang</td>\n",
       "      <td>no</td>\n",
       "    </tr>\n",
       "    <tr>\n",
       "      <th>2481</th>\n",
       "      <td>587</td>\n",
       "      <td>PT Semen Kupang</td>\n",
       "      <td>Pemkot Kupang</td>\n",
       "      <td>no</td>\n",
       "    </tr>\n",
       "    <tr>\n",
       "      <th>2482</th>\n",
       "      <td>588</td>\n",
       "      <td>PT Semen Kupang</td>\n",
       "      <td>Pemerintah Kota Kupang</td>\n",
       "      <td>no</td>\n",
       "    </tr>\n",
       "  </tbody>\n",
       "</table>\n",
       "<p>2483 rows × 4 columns</p>\n",
       "</div>"
      ],
      "text/plain": [
       "      index                                           instansi  \\\n",
       "0         0  Kementerian Koordinator Bidang Politik, Hukum,...   \n",
       "1         1  Kementerian Koordinator Bidang Politik, Hukum,...   \n",
       "2         2  Kementerian Koordinator Bidang Politik, Hukum,...   \n",
       "3         3  Kementerian Koordinator Bidang Politik, Hukum,...   \n",
       "4         4                            Kementerian Luar Negeri   \n",
       "...     ...                                                ...   \n",
       "2478    584                PT Telkom Indonesia (Persero), Tbk.   \n",
       "2479    585                PT Telkom Indonesia (Persero), Tbk.   \n",
       "2480    586                                    PT Semen Kupang   \n",
       "2481    587                                    PT Semen Kupang   \n",
       "2482    588                                    PT Semen Kupang   \n",
       "\n",
       "                   reference status  \n",
       "0           Kemenko Polhukam    yes  \n",
       "1                   Polhukam    yes  \n",
       "2        Koordinator Politik     no  \n",
       "3          Koordinator Hukum     no  \n",
       "4                      Kemlu    yes  \n",
       "...                      ...    ...  \n",
       "2478       Telkom University     no  \n",
       "2479                  Telkom     no  \n",
       "2480                  Kupang     no  \n",
       "2481           Pemkot Kupang     no  \n",
       "2482  Pemerintah Kota Kupang     no  \n",
       "\n",
       "[2483 rows x 4 columns]"
      ]
     },
     "execution_count": 6,
     "metadata": {},
     "output_type": "execute_result"
    }
   ],
   "source": [
    "dfAll"
   ]
  },
  {
   "cell_type": "markdown",
   "id": "cdc6b1b5",
   "metadata": {},
   "source": [
    "# Create a New DF - Distinct Instansi from KPK's table"
   ]
  },
  {
   "cell_type": "code",
   "execution_count": 38,
   "id": "fe2c0950",
   "metadata": {},
   "outputs": [],
   "source": [
    "df_bumn = pd.read_csv('./data/v2/Daftar BUMN AI.csv')"
   ]
  },
  {
   "cell_type": "code",
   "execution_count": 39,
   "id": "72ece151",
   "metadata": {},
   "outputs": [],
   "source": [
    "df_klpd = pd.read_csv('./data/v2/Daftar KLPD PPG AI.csv')"
   ]
  },
  {
   "cell_type": "code",
   "execution_count": 40,
   "id": "3fe7eb52",
   "metadata": {},
   "outputs": [
    {
     "data": {
      "text/plain": [
       "Index(['No.', 'Instansi', 'Jenis instansi/\\nKeterangan'], dtype='object')"
      ]
     },
     "execution_count": 40,
     "metadata": {},
     "output_type": "execute_result"
    }
   ],
   "source": [
    "df_bumn.columns"
   ]
  },
  {
   "cell_type": "code",
   "execution_count": 41,
   "id": "fb55afc9",
   "metadata": {},
   "outputs": [],
   "source": [
    "df_bumn = df_bumn.drop(['Jenis instansi/\\nKeterangan', 'No.'], axis=1)"
   ]
  },
  {
   "cell_type": "code",
   "execution_count": 42,
   "id": "12760aad",
   "metadata": {},
   "outputs": [],
   "source": [
    "df_bumn = df_bumn.rename(columns={'Instansi': 'instansi'})"
   ]
  },
  {
   "cell_type": "code",
   "execution_count": 43,
   "id": "cb6c4180",
   "metadata": {},
   "outputs": [
    {
     "data": {
      "text/html": [
       "<div>\n",
       "<style scoped>\n",
       "    .dataframe tbody tr th:only-of-type {\n",
       "        vertical-align: middle;\n",
       "    }\n",
       "\n",
       "    .dataframe tbody tr th {\n",
       "        vertical-align: top;\n",
       "    }\n",
       "\n",
       "    .dataframe thead th {\n",
       "        text-align: right;\n",
       "    }\n",
       "</style>\n",
       "<table border=\"1\" class=\"dataframe\">\n",
       "  <thead>\n",
       "    <tr style=\"text-align: right;\">\n",
       "      <th></th>\n",
       "      <th>instansi</th>\n",
       "    </tr>\n",
       "  </thead>\n",
       "  <tbody>\n",
       "    <tr>\n",
       "      <th>0</th>\n",
       "      <td>Perum Lembaga Penyelenggara Pelayanan Navigasi...</td>\n",
       "    </tr>\n",
       "    <tr>\n",
       "      <th>1</th>\n",
       "      <td>Perum Bulog</td>\n",
       "    </tr>\n",
       "    <tr>\n",
       "      <th>2</th>\n",
       "      <td>Perum DAMRI</td>\n",
       "    </tr>\n",
       "    <tr>\n",
       "      <th>3</th>\n",
       "      <td>PT Jaminan Kredit Indonesia (Jamkrindo)</td>\n",
       "    </tr>\n",
       "    <tr>\n",
       "      <th>4</th>\n",
       "      <td>Perum Jasa Tirta I</td>\n",
       "    </tr>\n",
       "    <tr>\n",
       "      <th>...</th>\n",
       "      <td>...</td>\n",
       "    </tr>\n",
       "    <tr>\n",
       "      <th>115</th>\n",
       "      <td>PT Dok Dan Perkapalan Surabaya (Persero)</td>\n",
       "    </tr>\n",
       "    <tr>\n",
       "      <th>116</th>\n",
       "      <td>PT Industri Kereta Api (Persero) (INKA)</td>\n",
       "    </tr>\n",
       "    <tr>\n",
       "      <th>117</th>\n",
       "      <td>PT Semen Kupang (Persero)</td>\n",
       "    </tr>\n",
       "    <tr>\n",
       "      <th>118</th>\n",
       "      <td>PT KAWASAN INDUSTRI MAKASAR (PERSERO)</td>\n",
       "    </tr>\n",
       "    <tr>\n",
       "      <th>119</th>\n",
       "      <td>PT Kawasan Industri Medan (Persero)</td>\n",
       "    </tr>\n",
       "  </tbody>\n",
       "</table>\n",
       "<p>120 rows × 1 columns</p>\n",
       "</div>"
      ],
      "text/plain": [
       "                                              instansi\n",
       "0    Perum Lembaga Penyelenggara Pelayanan Navigasi...\n",
       "1                                          Perum Bulog\n",
       "2                                          Perum DAMRI\n",
       "3              PT Jaminan Kredit Indonesia (Jamkrindo)\n",
       "4                                   Perum Jasa Tirta I\n",
       "..                                                 ...\n",
       "115           PT Dok Dan Perkapalan Surabaya (Persero)\n",
       "116            PT Industri Kereta Api (Persero) (INKA)\n",
       "117                          PT Semen Kupang (Persero)\n",
       "118              PT KAWASAN INDUSTRI MAKASAR (PERSERO)\n",
       "119                PT Kawasan Industri Medan (Persero)\n",
       "\n",
       "[120 rows x 1 columns]"
      ]
     },
     "execution_count": 43,
     "metadata": {},
     "output_type": "execute_result"
    }
   ],
   "source": [
    "df_bumn"
   ]
  },
  {
   "cell_type": "code",
   "execution_count": 44,
   "id": "8c332954",
   "metadata": {},
   "outputs": [
    {
     "data": {
      "text/plain": [
       "Index(['No', 'Instansi Pelaporan'], dtype='object')"
      ]
     },
     "execution_count": 44,
     "metadata": {},
     "output_type": "execute_result"
    }
   ],
   "source": [
    "df_klpd.columns"
   ]
  },
  {
   "cell_type": "code",
   "execution_count": 45,
   "id": "2810b54f",
   "metadata": {},
   "outputs": [],
   "source": [
    "df_klpd = df_klpd.rename(columns={'Instansi Pelaporan': 'instansi'})"
   ]
  },
  {
   "cell_type": "code",
   "execution_count": 46,
   "id": "49aa1288",
   "metadata": {},
   "outputs": [],
   "source": [
    "df_klpd = df_klpd.drop(['No'], axis=1)"
   ]
  },
  {
   "cell_type": "code",
   "execution_count": 47,
   "id": "83d63d1e",
   "metadata": {},
   "outputs": [
    {
     "data": {
      "text/html": [
       "<div>\n",
       "<style scoped>\n",
       "    .dataframe tbody tr th:only-of-type {\n",
       "        vertical-align: middle;\n",
       "    }\n",
       "\n",
       "    .dataframe tbody tr th {\n",
       "        vertical-align: top;\n",
       "    }\n",
       "\n",
       "    .dataframe thead th {\n",
       "        text-align: right;\n",
       "    }\n",
       "</style>\n",
       "<table border=\"1\" class=\"dataframe\">\n",
       "  <thead>\n",
       "    <tr style=\"text-align: right;\">\n",
       "      <th></th>\n",
       "      <th>instansi</th>\n",
       "    </tr>\n",
       "  </thead>\n",
       "  <tbody>\n",
       "    <tr>\n",
       "      <th>0</th>\n",
       "      <td>Pemerintah Kabupaten Badung</td>\n",
       "    </tr>\n",
       "    <tr>\n",
       "      <th>1</th>\n",
       "      <td>Pemerintah Kabupaten Bangli</td>\n",
       "    </tr>\n",
       "    <tr>\n",
       "      <th>2</th>\n",
       "      <td>Pemerintah Kabupaten Buleleng</td>\n",
       "    </tr>\n",
       "    <tr>\n",
       "      <th>3</th>\n",
       "      <td>Pemerintah Kabupaten Gianyar</td>\n",
       "    </tr>\n",
       "    <tr>\n",
       "      <th>4</th>\n",
       "      <td>Pemerintah Kabupaten Jembrana</td>\n",
       "    </tr>\n",
       "    <tr>\n",
       "      <th>...</th>\n",
       "      <td>...</td>\n",
       "    </tr>\n",
       "    <tr>\n",
       "      <th>769</th>\n",
       "      <td>Pemerintah Kota Tanjung Balai</td>\n",
       "    </tr>\n",
       "    <tr>\n",
       "      <th>770</th>\n",
       "      <td>Pemerintah Kota Tebing Tinggi</td>\n",
       "    </tr>\n",
       "    <tr>\n",
       "      <th>771</th>\n",
       "      <td>Pemerintah Provinsi Sumatera Utara</td>\n",
       "    </tr>\n",
       "    <tr>\n",
       "      <th>772</th>\n",
       "      <td>PT Kawasan Industri Medan (Persero)</td>\n",
       "    </tr>\n",
       "    <tr>\n",
       "      <th>773</th>\n",
       "      <td>Kementerian Investasi</td>\n",
       "    </tr>\n",
       "  </tbody>\n",
       "</table>\n",
       "<p>774 rows × 1 columns</p>\n",
       "</div>"
      ],
      "text/plain": [
       "                                instansi\n",
       "0            Pemerintah Kabupaten Badung\n",
       "1            Pemerintah Kabupaten Bangli\n",
       "2          Pemerintah Kabupaten Buleleng\n",
       "3           Pemerintah Kabupaten Gianyar\n",
       "4          Pemerintah Kabupaten Jembrana\n",
       "..                                   ...\n",
       "769        Pemerintah Kota Tanjung Balai\n",
       "770        Pemerintah Kota Tebing Tinggi\n",
       "771   Pemerintah Provinsi Sumatera Utara\n",
       "772  PT Kawasan Industri Medan (Persero)\n",
       "773                Kementerian Investasi\n",
       "\n",
       "[774 rows x 1 columns]"
      ]
     },
     "execution_count": 47,
     "metadata": {},
     "output_type": "execute_result"
    }
   ],
   "source": [
    "df_klpd"
   ]
  },
  {
   "cell_type": "code",
   "execution_count": 48,
   "id": "2597a33b",
   "metadata": {},
   "outputs": [],
   "source": [
    "df_instansi = pd.concat([df_bumn, df_klpd])"
   ]
  },
  {
   "cell_type": "code",
   "execution_count": 49,
   "id": "0f7862f3",
   "metadata": {},
   "outputs": [
    {
     "data": {
      "text/html": [
       "<div>\n",
       "<style scoped>\n",
       "    .dataframe tbody tr th:only-of-type {\n",
       "        vertical-align: middle;\n",
       "    }\n",
       "\n",
       "    .dataframe tbody tr th {\n",
       "        vertical-align: top;\n",
       "    }\n",
       "\n",
       "    .dataframe thead th {\n",
       "        text-align: right;\n",
       "    }\n",
       "</style>\n",
       "<table border=\"1\" class=\"dataframe\">\n",
       "  <thead>\n",
       "    <tr style=\"text-align: right;\">\n",
       "      <th></th>\n",
       "      <th>instansi</th>\n",
       "    </tr>\n",
       "  </thead>\n",
       "  <tbody>\n",
       "    <tr>\n",
       "      <th>0</th>\n",
       "      <td>Perum Lembaga Penyelenggara Pelayanan Navigasi...</td>\n",
       "    </tr>\n",
       "    <tr>\n",
       "      <th>1</th>\n",
       "      <td>Perum Bulog</td>\n",
       "    </tr>\n",
       "    <tr>\n",
       "      <th>2</th>\n",
       "      <td>Perum DAMRI</td>\n",
       "    </tr>\n",
       "    <tr>\n",
       "      <th>3</th>\n",
       "      <td>PT Jaminan Kredit Indonesia (Jamkrindo)</td>\n",
       "    </tr>\n",
       "    <tr>\n",
       "      <th>4</th>\n",
       "      <td>Perum Jasa Tirta I</td>\n",
       "    </tr>\n",
       "    <tr>\n",
       "      <th>...</th>\n",
       "      <td>...</td>\n",
       "    </tr>\n",
       "    <tr>\n",
       "      <th>769</th>\n",
       "      <td>Pemerintah Kota Tanjung Balai</td>\n",
       "    </tr>\n",
       "    <tr>\n",
       "      <th>770</th>\n",
       "      <td>Pemerintah Kota Tebing Tinggi</td>\n",
       "    </tr>\n",
       "    <tr>\n",
       "      <th>771</th>\n",
       "      <td>Pemerintah Provinsi Sumatera Utara</td>\n",
       "    </tr>\n",
       "    <tr>\n",
       "      <th>772</th>\n",
       "      <td>PT Kawasan Industri Medan (Persero)</td>\n",
       "    </tr>\n",
       "    <tr>\n",
       "      <th>773</th>\n",
       "      <td>Kementerian Investasi</td>\n",
       "    </tr>\n",
       "  </tbody>\n",
       "</table>\n",
       "<p>894 rows × 1 columns</p>\n",
       "</div>"
      ],
      "text/plain": [
       "                                              instansi\n",
       "0    Perum Lembaga Penyelenggara Pelayanan Navigasi...\n",
       "1                                          Perum Bulog\n",
       "2                                          Perum DAMRI\n",
       "3              PT Jaminan Kredit Indonesia (Jamkrindo)\n",
       "4                                   Perum Jasa Tirta I\n",
       "..                                                 ...\n",
       "769                      Pemerintah Kota Tanjung Balai\n",
       "770                      Pemerintah Kota Tebing Tinggi\n",
       "771                 Pemerintah Provinsi Sumatera Utara\n",
       "772                PT Kawasan Industri Medan (Persero)\n",
       "773                              Kementerian Investasi\n",
       "\n",
       "[894 rows x 1 columns]"
      ]
     },
     "execution_count": 49,
     "metadata": {},
     "output_type": "execute_result"
    }
   ],
   "source": [
    "df_instansi"
   ]
  },
  {
   "cell_type": "code",
   "execution_count": 50,
   "id": "2860c929",
   "metadata": {},
   "outputs": [],
   "source": [
    "df_instansi = df_instansi.reset_index()"
   ]
  },
  {
   "cell_type": "code",
   "execution_count": 52,
   "id": "1155e930",
   "metadata": {},
   "outputs": [],
   "source": [
    "df_instansi = df_instansi.drop(['index'], axis=1)"
   ]
  },
  {
   "cell_type": "code",
   "execution_count": 53,
   "id": "9915d8a6",
   "metadata": {},
   "outputs": [
    {
     "data": {
      "text/html": [
       "<div>\n",
       "<style scoped>\n",
       "    .dataframe tbody tr th:only-of-type {\n",
       "        vertical-align: middle;\n",
       "    }\n",
       "\n",
       "    .dataframe tbody tr th {\n",
       "        vertical-align: top;\n",
       "    }\n",
       "\n",
       "    .dataframe thead th {\n",
       "        text-align: right;\n",
       "    }\n",
       "</style>\n",
       "<table border=\"1\" class=\"dataframe\">\n",
       "  <thead>\n",
       "    <tr style=\"text-align: right;\">\n",
       "      <th></th>\n",
       "      <th>instansi</th>\n",
       "    </tr>\n",
       "  </thead>\n",
       "  <tbody>\n",
       "    <tr>\n",
       "      <th>0</th>\n",
       "      <td>Perum Lembaga Penyelenggara Pelayanan Navigasi...</td>\n",
       "    </tr>\n",
       "    <tr>\n",
       "      <th>1</th>\n",
       "      <td>Perum Bulog</td>\n",
       "    </tr>\n",
       "    <tr>\n",
       "      <th>2</th>\n",
       "      <td>Perum DAMRI</td>\n",
       "    </tr>\n",
       "    <tr>\n",
       "      <th>3</th>\n",
       "      <td>PT Jaminan Kredit Indonesia (Jamkrindo)</td>\n",
       "    </tr>\n",
       "    <tr>\n",
       "      <th>4</th>\n",
       "      <td>Perum Jasa Tirta I</td>\n",
       "    </tr>\n",
       "    <tr>\n",
       "      <th>...</th>\n",
       "      <td>...</td>\n",
       "    </tr>\n",
       "    <tr>\n",
       "      <th>889</th>\n",
       "      <td>Pemerintah Kota Tanjung Balai</td>\n",
       "    </tr>\n",
       "    <tr>\n",
       "      <th>890</th>\n",
       "      <td>Pemerintah Kota Tebing Tinggi</td>\n",
       "    </tr>\n",
       "    <tr>\n",
       "      <th>891</th>\n",
       "      <td>Pemerintah Provinsi Sumatera Utara</td>\n",
       "    </tr>\n",
       "    <tr>\n",
       "      <th>892</th>\n",
       "      <td>PT Kawasan Industri Medan (Persero)</td>\n",
       "    </tr>\n",
       "    <tr>\n",
       "      <th>893</th>\n",
       "      <td>Kementerian Investasi</td>\n",
       "    </tr>\n",
       "  </tbody>\n",
       "</table>\n",
       "<p>894 rows × 1 columns</p>\n",
       "</div>"
      ],
      "text/plain": [
       "                                              instansi\n",
       "0    Perum Lembaga Penyelenggara Pelayanan Navigasi...\n",
       "1                                          Perum Bulog\n",
       "2                                          Perum DAMRI\n",
       "3              PT Jaminan Kredit Indonesia (Jamkrindo)\n",
       "4                                   Perum Jasa Tirta I\n",
       "..                                                 ...\n",
       "889                      Pemerintah Kota Tanjung Balai\n",
       "890                      Pemerintah Kota Tebing Tinggi\n",
       "891                 Pemerintah Provinsi Sumatera Utara\n",
       "892                PT Kawasan Industri Medan (Persero)\n",
       "893                              Kementerian Investasi\n",
       "\n",
       "[894 rows x 1 columns]"
      ]
     },
     "execution_count": 53,
     "metadata": {},
     "output_type": "execute_result"
    }
   ],
   "source": [
    "df_instansi"
   ]
  },
  {
   "cell_type": "code",
   "execution_count": 54,
   "id": "ccdc3315",
   "metadata": {},
   "outputs": [],
   "source": [
    "df_instansi = df_instansi.rename(columns={'instansi': 'reference'})"
   ]
  },
  {
   "cell_type": "code",
   "execution_count": 55,
   "id": "d871e302",
   "metadata": {},
   "outputs": [
    {
     "data": {
      "text/html": [
       "<div>\n",
       "<style scoped>\n",
       "    .dataframe tbody tr th:only-of-type {\n",
       "        vertical-align: middle;\n",
       "    }\n",
       "\n",
       "    .dataframe tbody tr th {\n",
       "        vertical-align: top;\n",
       "    }\n",
       "\n",
       "    .dataframe thead th {\n",
       "        text-align: right;\n",
       "    }\n",
       "</style>\n",
       "<table border=\"1\" class=\"dataframe\">\n",
       "  <thead>\n",
       "    <tr style=\"text-align: right;\">\n",
       "      <th></th>\n",
       "      <th>reference</th>\n",
       "    </tr>\n",
       "  </thead>\n",
       "  <tbody>\n",
       "    <tr>\n",
       "      <th>0</th>\n",
       "      <td>Perum Lembaga Penyelenggara Pelayanan Navigasi...</td>\n",
       "    </tr>\n",
       "    <tr>\n",
       "      <th>1</th>\n",
       "      <td>Perum Bulog</td>\n",
       "    </tr>\n",
       "    <tr>\n",
       "      <th>2</th>\n",
       "      <td>Perum DAMRI</td>\n",
       "    </tr>\n",
       "    <tr>\n",
       "      <th>3</th>\n",
       "      <td>PT Jaminan Kredit Indonesia (Jamkrindo)</td>\n",
       "    </tr>\n",
       "    <tr>\n",
       "      <th>4</th>\n",
       "      <td>Perum Jasa Tirta I</td>\n",
       "    </tr>\n",
       "    <tr>\n",
       "      <th>...</th>\n",
       "      <td>...</td>\n",
       "    </tr>\n",
       "    <tr>\n",
       "      <th>889</th>\n",
       "      <td>Pemerintah Kota Tanjung Balai</td>\n",
       "    </tr>\n",
       "    <tr>\n",
       "      <th>890</th>\n",
       "      <td>Pemerintah Kota Tebing Tinggi</td>\n",
       "    </tr>\n",
       "    <tr>\n",
       "      <th>891</th>\n",
       "      <td>Pemerintah Provinsi Sumatera Utara</td>\n",
       "    </tr>\n",
       "    <tr>\n",
       "      <th>892</th>\n",
       "      <td>PT Kawasan Industri Medan (Persero)</td>\n",
       "    </tr>\n",
       "    <tr>\n",
       "      <th>893</th>\n",
       "      <td>Kementerian Investasi</td>\n",
       "    </tr>\n",
       "  </tbody>\n",
       "</table>\n",
       "<p>894 rows × 1 columns</p>\n",
       "</div>"
      ],
      "text/plain": [
       "                                             reference\n",
       "0    Perum Lembaga Penyelenggara Pelayanan Navigasi...\n",
       "1                                          Perum Bulog\n",
       "2                                          Perum DAMRI\n",
       "3              PT Jaminan Kredit Indonesia (Jamkrindo)\n",
       "4                                   Perum Jasa Tirta I\n",
       "..                                                 ...\n",
       "889                      Pemerintah Kota Tanjung Balai\n",
       "890                      Pemerintah Kota Tebing Tinggi\n",
       "891                 Pemerintah Provinsi Sumatera Utara\n",
       "892                PT Kawasan Industri Medan (Persero)\n",
       "893                              Kementerian Investasi\n",
       "\n",
       "[894 rows x 1 columns]"
      ]
     },
     "execution_count": 55,
     "metadata": {},
     "output_type": "execute_result"
    }
   ],
   "source": [
    "df_instansi"
   ]
  },
  {
   "cell_type": "markdown",
   "id": "5692a29e",
   "metadata": {},
   "source": [
    "# Preprocess Reference Data"
   ]
  },
  {
   "cell_type": "code",
   "execution_count": 56,
   "id": "9890fc41",
   "metadata": {},
   "outputs": [],
   "source": [
    "prd = preprocess_reference_data.PreprocessReferenceData(dfAll)"
   ]
  },
  {
   "cell_type": "code",
   "execution_count": 57,
   "id": "b0a9d21b",
   "metadata": {},
   "outputs": [],
   "source": [
    "reference_data = prd.get_preprocessed_df()"
   ]
  },
  {
   "cell_type": "code",
   "execution_count": 58,
   "id": "86c719b4",
   "metadata": {},
   "outputs": [
    {
     "data": {
      "text/html": [
       "<div>\n",
       "<style scoped>\n",
       "    .dataframe tbody tr th:only-of-type {\n",
       "        vertical-align: middle;\n",
       "    }\n",
       "\n",
       "    .dataframe tbody tr th {\n",
       "        vertical-align: top;\n",
       "    }\n",
       "\n",
       "    .dataframe thead th {\n",
       "        text-align: right;\n",
       "    }\n",
       "</style>\n",
       "<table border=\"1\" class=\"dataframe\">\n",
       "  <thead>\n",
       "    <tr style=\"text-align: right;\">\n",
       "      <th></th>\n",
       "      <th>reference</th>\n",
       "    </tr>\n",
       "  </thead>\n",
       "  <tbody>\n",
       "    <tr>\n",
       "      <th>0</th>\n",
       "      <td>Kemenko Polhukam</td>\n",
       "    </tr>\n",
       "    <tr>\n",
       "      <th>1</th>\n",
       "      <td>Polhukam</td>\n",
       "    </tr>\n",
       "    <tr>\n",
       "      <th>2</th>\n",
       "      <td>Kemlu</td>\n",
       "    </tr>\n",
       "    <tr>\n",
       "      <th>3</th>\n",
       "      <td>Kemlu RI</td>\n",
       "    </tr>\n",
       "    <tr>\n",
       "      <th>4</th>\n",
       "      <td>Kementerian BUMN</td>\n",
       "    </tr>\n",
       "    <tr>\n",
       "      <th>...</th>\n",
       "      <td>...</td>\n",
       "    </tr>\n",
       "    <tr>\n",
       "      <th>933</th>\n",
       "      <td>Indofarma Global Medika</td>\n",
       "    </tr>\n",
       "    <tr>\n",
       "      <th>934</th>\n",
       "      <td>Indofarma Global Medika Cabang</td>\n",
       "    </tr>\n",
       "    <tr>\n",
       "      <th>935</th>\n",
       "      <td>PT IGM</td>\n",
       "    </tr>\n",
       "    <tr>\n",
       "      <th>936</th>\n",
       "      <td>Indofarma</td>\n",
       "    </tr>\n",
       "    <tr>\n",
       "      <th>937</th>\n",
       "      <td>PT Telkom Indonesia</td>\n",
       "    </tr>\n",
       "  </tbody>\n",
       "</table>\n",
       "<p>937 rows × 1 columns</p>\n",
       "</div>"
      ],
      "text/plain": [
       "                          reference\n",
       "0                  Kemenko Polhukam\n",
       "1                          Polhukam\n",
       "2                             Kemlu\n",
       "3                          Kemlu RI\n",
       "4                  Kementerian BUMN\n",
       "..                              ...\n",
       "933         Indofarma Global Medika\n",
       "934  Indofarma Global Medika Cabang\n",
       "935                          PT IGM\n",
       "936                       Indofarma\n",
       "937             PT Telkom Indonesia\n",
       "\n",
       "[937 rows x 1 columns]"
      ]
     },
     "execution_count": 58,
     "metadata": {},
     "output_type": "execute_result"
    }
   ],
   "source": [
    "reference_data"
   ]
  },
  {
   "cell_type": "code",
   "execution_count": 59,
   "id": "b6f930be",
   "metadata": {},
   "outputs": [],
   "source": [
    "# concatenate distinct instansi\n",
    "reference_data = pd.concat([reference_data, df_instansi])"
   ]
  },
  {
   "cell_type": "code",
   "execution_count": 60,
   "id": "9d14cdbf",
   "metadata": {},
   "outputs": [
    {
     "data": {
      "text/html": [
       "<div>\n",
       "<style scoped>\n",
       "    .dataframe tbody tr th:only-of-type {\n",
       "        vertical-align: middle;\n",
       "    }\n",
       "\n",
       "    .dataframe tbody tr th {\n",
       "        vertical-align: top;\n",
       "    }\n",
       "\n",
       "    .dataframe thead th {\n",
       "        text-align: right;\n",
       "    }\n",
       "</style>\n",
       "<table border=\"1\" class=\"dataframe\">\n",
       "  <thead>\n",
       "    <tr style=\"text-align: right;\">\n",
       "      <th></th>\n",
       "      <th>reference</th>\n",
       "    </tr>\n",
       "  </thead>\n",
       "  <tbody>\n",
       "    <tr>\n",
       "      <th>0</th>\n",
       "      <td>Kemenko Polhukam</td>\n",
       "    </tr>\n",
       "    <tr>\n",
       "      <th>1</th>\n",
       "      <td>Polhukam</td>\n",
       "    </tr>\n",
       "    <tr>\n",
       "      <th>2</th>\n",
       "      <td>Kemlu</td>\n",
       "    </tr>\n",
       "    <tr>\n",
       "      <th>3</th>\n",
       "      <td>Kemlu RI</td>\n",
       "    </tr>\n",
       "    <tr>\n",
       "      <th>4</th>\n",
       "      <td>Kementerian BUMN</td>\n",
       "    </tr>\n",
       "    <tr>\n",
       "      <th>...</th>\n",
       "      <td>...</td>\n",
       "    </tr>\n",
       "    <tr>\n",
       "      <th>889</th>\n",
       "      <td>Pemerintah Kota Tanjung Balai</td>\n",
       "    </tr>\n",
       "    <tr>\n",
       "      <th>890</th>\n",
       "      <td>Pemerintah Kota Tebing Tinggi</td>\n",
       "    </tr>\n",
       "    <tr>\n",
       "      <th>891</th>\n",
       "      <td>Pemerintah Provinsi Sumatera Utara</td>\n",
       "    </tr>\n",
       "    <tr>\n",
       "      <th>892</th>\n",
       "      <td>PT Kawasan Industri Medan (Persero)</td>\n",
       "    </tr>\n",
       "    <tr>\n",
       "      <th>893</th>\n",
       "      <td>Kementerian Investasi</td>\n",
       "    </tr>\n",
       "  </tbody>\n",
       "</table>\n",
       "<p>1831 rows × 1 columns</p>\n",
       "</div>"
      ],
      "text/plain": [
       "                               reference\n",
       "0                       Kemenko Polhukam\n",
       "1                               Polhukam\n",
       "2                                  Kemlu\n",
       "3                               Kemlu RI\n",
       "4                       Kementerian BUMN\n",
       "..                                   ...\n",
       "889        Pemerintah Kota Tanjung Balai\n",
       "890        Pemerintah Kota Tebing Tinggi\n",
       "891   Pemerintah Provinsi Sumatera Utara\n",
       "892  PT Kawasan Industri Medan (Persero)\n",
       "893                Kementerian Investasi\n",
       "\n",
       "[1831 rows x 1 columns]"
      ]
     },
     "execution_count": 60,
     "metadata": {},
     "output_type": "execute_result"
    }
   ],
   "source": [
    "reference_data"
   ]
  },
  {
   "cell_type": "code",
   "execution_count": 63,
   "id": "d755d8d8",
   "metadata": {},
   "outputs": [],
   "source": [
    "reference_data = pd.DataFrame(reference_data['reference'].unique())"
   ]
  },
  {
   "cell_type": "code",
   "execution_count": 64,
   "id": "6d2dd4ec",
   "metadata": {},
   "outputs": [
    {
     "data": {
      "text/html": [
       "<div>\n",
       "<style scoped>\n",
       "    .dataframe tbody tr th:only-of-type {\n",
       "        vertical-align: middle;\n",
       "    }\n",
       "\n",
       "    .dataframe tbody tr th {\n",
       "        vertical-align: top;\n",
       "    }\n",
       "\n",
       "    .dataframe thead th {\n",
       "        text-align: right;\n",
       "    }\n",
       "</style>\n",
       "<table border=\"1\" class=\"dataframe\">\n",
       "  <thead>\n",
       "    <tr style=\"text-align: right;\">\n",
       "      <th></th>\n",
       "      <th>0</th>\n",
       "    </tr>\n",
       "  </thead>\n",
       "  <tbody>\n",
       "    <tr>\n",
       "      <th>0</th>\n",
       "      <td>Kemenko Polhukam</td>\n",
       "    </tr>\n",
       "    <tr>\n",
       "      <th>1</th>\n",
       "      <td>Polhukam</td>\n",
       "    </tr>\n",
       "    <tr>\n",
       "      <th>2</th>\n",
       "      <td>Kemlu</td>\n",
       "    </tr>\n",
       "    <tr>\n",
       "      <th>3</th>\n",
       "      <td>Kemlu RI</td>\n",
       "    </tr>\n",
       "    <tr>\n",
       "      <th>4</th>\n",
       "      <td>Kementerian BUMN</td>\n",
       "    </tr>\n",
       "    <tr>\n",
       "      <th>...</th>\n",
       "      <td>...</td>\n",
       "    </tr>\n",
       "    <tr>\n",
       "      <th>1724</th>\n",
       "      <td>Pemerintah Kota Pematang Siantar</td>\n",
       "    </tr>\n",
       "    <tr>\n",
       "      <th>1725</th>\n",
       "      <td>Pemerintah Kota Sibolga</td>\n",
       "    </tr>\n",
       "    <tr>\n",
       "      <th>1726</th>\n",
       "      <td>Pemerintah Kota Tanjung Balai</td>\n",
       "    </tr>\n",
       "    <tr>\n",
       "      <th>1727</th>\n",
       "      <td>Pemerintah Kota Tebing Tinggi</td>\n",
       "    </tr>\n",
       "    <tr>\n",
       "      <th>1728</th>\n",
       "      <td>Pemerintah Provinsi Sumatera Utara</td>\n",
       "    </tr>\n",
       "  </tbody>\n",
       "</table>\n",
       "<p>1729 rows × 1 columns</p>\n",
       "</div>"
      ],
      "text/plain": [
       "                                       0\n",
       "0                       Kemenko Polhukam\n",
       "1                               Polhukam\n",
       "2                                  Kemlu\n",
       "3                               Kemlu RI\n",
       "4                       Kementerian BUMN\n",
       "...                                  ...\n",
       "1724    Pemerintah Kota Pematang Siantar\n",
       "1725             Pemerintah Kota Sibolga\n",
       "1726       Pemerintah Kota Tanjung Balai\n",
       "1727       Pemerintah Kota Tebing Tinggi\n",
       "1728  Pemerintah Provinsi Sumatera Utara\n",
       "\n",
       "[1729 rows x 1 columns]"
      ]
     },
     "execution_count": 64,
     "metadata": {},
     "output_type": "execute_result"
    }
   ],
   "source": [
    "reference_data"
   ]
  },
  {
   "cell_type": "code",
   "execution_count": 65,
   "id": "961d7756",
   "metadata": {},
   "outputs": [],
   "source": [
    "reference_data = reference_data.reset_index()"
   ]
  },
  {
   "cell_type": "code",
   "execution_count": 66,
   "id": "330fed5a",
   "metadata": {
    "scrolled": true
   },
   "outputs": [
    {
     "data": {
      "text/html": [
       "<div>\n",
       "<style scoped>\n",
       "    .dataframe tbody tr th:only-of-type {\n",
       "        vertical-align: middle;\n",
       "    }\n",
       "\n",
       "    .dataframe tbody tr th {\n",
       "        vertical-align: top;\n",
       "    }\n",
       "\n",
       "    .dataframe thead th {\n",
       "        text-align: right;\n",
       "    }\n",
       "</style>\n",
       "<table border=\"1\" class=\"dataframe\">\n",
       "  <thead>\n",
       "    <tr style=\"text-align: right;\">\n",
       "      <th></th>\n",
       "      <th>index</th>\n",
       "      <th>0</th>\n",
       "    </tr>\n",
       "  </thead>\n",
       "  <tbody>\n",
       "    <tr>\n",
       "      <th>0</th>\n",
       "      <td>0</td>\n",
       "      <td>Kemenko Polhukam</td>\n",
       "    </tr>\n",
       "    <tr>\n",
       "      <th>1</th>\n",
       "      <td>1</td>\n",
       "      <td>Polhukam</td>\n",
       "    </tr>\n",
       "    <tr>\n",
       "      <th>2</th>\n",
       "      <td>2</td>\n",
       "      <td>Kemlu</td>\n",
       "    </tr>\n",
       "    <tr>\n",
       "      <th>3</th>\n",
       "      <td>3</td>\n",
       "      <td>Kemlu RI</td>\n",
       "    </tr>\n",
       "    <tr>\n",
       "      <th>4</th>\n",
       "      <td>4</td>\n",
       "      <td>Kementerian BUMN</td>\n",
       "    </tr>\n",
       "    <tr>\n",
       "      <th>...</th>\n",
       "      <td>...</td>\n",
       "      <td>...</td>\n",
       "    </tr>\n",
       "    <tr>\n",
       "      <th>1724</th>\n",
       "      <td>1724</td>\n",
       "      <td>Pemerintah Kota Pematang Siantar</td>\n",
       "    </tr>\n",
       "    <tr>\n",
       "      <th>1725</th>\n",
       "      <td>1725</td>\n",
       "      <td>Pemerintah Kota Sibolga</td>\n",
       "    </tr>\n",
       "    <tr>\n",
       "      <th>1726</th>\n",
       "      <td>1726</td>\n",
       "      <td>Pemerintah Kota Tanjung Balai</td>\n",
       "    </tr>\n",
       "    <tr>\n",
       "      <th>1727</th>\n",
       "      <td>1727</td>\n",
       "      <td>Pemerintah Kota Tebing Tinggi</td>\n",
       "    </tr>\n",
       "    <tr>\n",
       "      <th>1728</th>\n",
       "      <td>1728</td>\n",
       "      <td>Pemerintah Provinsi Sumatera Utara</td>\n",
       "    </tr>\n",
       "  </tbody>\n",
       "</table>\n",
       "<p>1729 rows × 2 columns</p>\n",
       "</div>"
      ],
      "text/plain": [
       "      index                                   0\n",
       "0         0                    Kemenko Polhukam\n",
       "1         1                            Polhukam\n",
       "2         2                               Kemlu\n",
       "3         3                            Kemlu RI\n",
       "4         4                    Kementerian BUMN\n",
       "...     ...                                 ...\n",
       "1724   1724    Pemerintah Kota Pematang Siantar\n",
       "1725   1725             Pemerintah Kota Sibolga\n",
       "1726   1726       Pemerintah Kota Tanjung Balai\n",
       "1727   1727       Pemerintah Kota Tebing Tinggi\n",
       "1728   1728  Pemerintah Provinsi Sumatera Utara\n",
       "\n",
       "[1729 rows x 2 columns]"
      ]
     },
     "execution_count": 66,
     "metadata": {},
     "output_type": "execute_result"
    }
   ],
   "source": [
    "reference_data"
   ]
  },
  {
   "cell_type": "code",
   "execution_count": 67,
   "id": "03cbf0a2",
   "metadata": {},
   "outputs": [],
   "source": [
    "reference_data = reference_data.drop(['index'], axis=1)"
   ]
  },
  {
   "cell_type": "code",
   "execution_count": 68,
   "id": "9be70510",
   "metadata": {},
   "outputs": [],
   "source": [
    "reference_data = reference_data.rename(columns={0: 'reference'})"
   ]
  },
  {
   "cell_type": "code",
   "execution_count": 69,
   "id": "a578719c",
   "metadata": {},
   "outputs": [
    {
     "data": {
      "text/html": [
       "<div>\n",
       "<style scoped>\n",
       "    .dataframe tbody tr th:only-of-type {\n",
       "        vertical-align: middle;\n",
       "    }\n",
       "\n",
       "    .dataframe tbody tr th {\n",
       "        vertical-align: top;\n",
       "    }\n",
       "\n",
       "    .dataframe thead th {\n",
       "        text-align: right;\n",
       "    }\n",
       "</style>\n",
       "<table border=\"1\" class=\"dataframe\">\n",
       "  <thead>\n",
       "    <tr style=\"text-align: right;\">\n",
       "      <th></th>\n",
       "      <th>reference</th>\n",
       "    </tr>\n",
       "  </thead>\n",
       "  <tbody>\n",
       "    <tr>\n",
       "      <th>0</th>\n",
       "      <td>Kemenko Polhukam</td>\n",
       "    </tr>\n",
       "    <tr>\n",
       "      <th>1</th>\n",
       "      <td>Polhukam</td>\n",
       "    </tr>\n",
       "    <tr>\n",
       "      <th>2</th>\n",
       "      <td>Kemlu</td>\n",
       "    </tr>\n",
       "    <tr>\n",
       "      <th>3</th>\n",
       "      <td>Kemlu RI</td>\n",
       "    </tr>\n",
       "    <tr>\n",
       "      <th>4</th>\n",
       "      <td>Kementerian BUMN</td>\n",
       "    </tr>\n",
       "    <tr>\n",
       "      <th>...</th>\n",
       "      <td>...</td>\n",
       "    </tr>\n",
       "    <tr>\n",
       "      <th>1724</th>\n",
       "      <td>Pemerintah Kota Pematang Siantar</td>\n",
       "    </tr>\n",
       "    <tr>\n",
       "      <th>1725</th>\n",
       "      <td>Pemerintah Kota Sibolga</td>\n",
       "    </tr>\n",
       "    <tr>\n",
       "      <th>1726</th>\n",
       "      <td>Pemerintah Kota Tanjung Balai</td>\n",
       "    </tr>\n",
       "    <tr>\n",
       "      <th>1727</th>\n",
       "      <td>Pemerintah Kota Tebing Tinggi</td>\n",
       "    </tr>\n",
       "    <tr>\n",
       "      <th>1728</th>\n",
       "      <td>Pemerintah Provinsi Sumatera Utara</td>\n",
       "    </tr>\n",
       "  </tbody>\n",
       "</table>\n",
       "<p>1729 rows × 1 columns</p>\n",
       "</div>"
      ],
      "text/plain": [
       "                               reference\n",
       "0                       Kemenko Polhukam\n",
       "1                               Polhukam\n",
       "2                                  Kemlu\n",
       "3                               Kemlu RI\n",
       "4                       Kementerian BUMN\n",
       "...                                  ...\n",
       "1724    Pemerintah Kota Pematang Siantar\n",
       "1725             Pemerintah Kota Sibolga\n",
       "1726       Pemerintah Kota Tanjung Balai\n",
       "1727       Pemerintah Kota Tebing Tinggi\n",
       "1728  Pemerintah Provinsi Sumatera Utara\n",
       "\n",
       "[1729 rows x 1 columns]"
      ]
     },
     "execution_count": 69,
     "metadata": {},
     "output_type": "execute_result"
    }
   ],
   "source": [
    "reference_data"
   ]
  },
  {
   "cell_type": "code",
   "execution_count": 70,
   "id": "c88b40fd",
   "metadata": {},
   "outputs": [],
   "source": [
    "reference_data.to_csv('./data/v2/reference_data.csv')"
   ]
  },
  {
   "cell_type": "markdown",
   "id": "64a85894",
   "metadata": {},
   "source": [
    "# Create Indexing Table"
   ]
  },
  {
   "cell_type": "code",
   "execution_count": 71,
   "id": "bfffce7e",
   "metadata": {},
   "outputs": [],
   "source": [
    "idx = index.Index(reference_data)"
   ]
  },
  {
   "cell_type": "code",
   "execution_count": 108,
   "id": "29bbf855",
   "metadata": {},
   "outputs": [],
   "source": [
    "index_table = idx.get_index_table()"
   ]
  },
  {
   "cell_type": "code",
   "execution_count": 109,
   "id": "ca83ecbf",
   "metadata": {},
   "outputs": [
    {
     "data": {
      "text/html": [
       "<div>\n",
       "<style scoped>\n",
       "    .dataframe tbody tr th:only-of-type {\n",
       "        vertical-align: middle;\n",
       "    }\n",
       "\n",
       "    .dataframe tbody tr th {\n",
       "        vertical-align: top;\n",
       "    }\n",
       "\n",
       "    .dataframe thead th {\n",
       "        text-align: right;\n",
       "    }\n",
       "</style>\n",
       "<table border=\"1\" class=\"dataframe\">\n",
       "  <thead>\n",
       "    <tr style=\"text-align: right;\">\n",
       "      <th></th>\n",
       "      <th>Kata</th>\n",
       "      <th>Index</th>\n",
       "    </tr>\n",
       "  </thead>\n",
       "  <tbody>\n",
       "    <tr>\n",
       "      <th>0</th>\n",
       "      <td>Kemenko</td>\n",
       "      <td>[0]</td>\n",
       "    </tr>\n",
       "    <tr>\n",
       "      <th>1</th>\n",
       "      <td>Polhukam</td>\n",
       "      <td>[0, 1]</td>\n",
       "    </tr>\n",
       "    <tr>\n",
       "      <th>2</th>\n",
       "      <td>Kemlu</td>\n",
       "      <td>[2, 3]</td>\n",
       "    </tr>\n",
       "    <tr>\n",
       "      <th>3</th>\n",
       "      <td>RI</td>\n",
       "      <td>[3, 7, 9, 11, 15, 17, 19, 23, 25, 80, 81, 85, ...</td>\n",
       "    </tr>\n",
       "    <tr>\n",
       "      <th>4</th>\n",
       "      <td>Kementerian</td>\n",
       "      <td>[4, 50, 51, 671, 745, 750, 1099, 1100, 1101, 1...</td>\n",
       "    </tr>\n",
       "    <tr>\n",
       "      <th>...</th>\n",
       "      <td>...</td>\n",
       "      <td>...</td>\n",
       "    </tr>\n",
       "    <tr>\n",
       "      <th>1194</th>\n",
       "      <td>Padangsidimpuan</td>\n",
       "      <td>[1723]</td>\n",
       "    </tr>\n",
       "    <tr>\n",
       "      <th>1195</th>\n",
       "      <td>Pematang</td>\n",
       "      <td>[1724]</td>\n",
       "    </tr>\n",
       "    <tr>\n",
       "      <th>1196</th>\n",
       "      <td>Siantar</td>\n",
       "      <td>[1724]</td>\n",
       "    </tr>\n",
       "    <tr>\n",
       "      <th>1197</th>\n",
       "      <td>Sibolga</td>\n",
       "      <td>[1725]</td>\n",
       "    </tr>\n",
       "    <tr>\n",
       "      <th>1198</th>\n",
       "      <td>Tebing</td>\n",
       "      <td>[1727]</td>\n",
       "    </tr>\n",
       "  </tbody>\n",
       "</table>\n",
       "<p>1199 rows × 2 columns</p>\n",
       "</div>"
      ],
      "text/plain": [
       "                 Kata                                              Index\n",
       "0             Kemenko                                                [0]\n",
       "1            Polhukam                                             [0, 1]\n",
       "2               Kemlu                                             [2, 3]\n",
       "3                  RI  [3, 7, 9, 11, 15, 17, 19, 23, 25, 80, 81, 85, ...\n",
       "4         Kementerian  [4, 50, 51, 671, 745, 750, 1099, 1100, 1101, 1...\n",
       "...               ...                                                ...\n",
       "1194  Padangsidimpuan                                             [1723]\n",
       "1195         Pematang                                             [1724]\n",
       "1196          Siantar                                             [1724]\n",
       "1197          Sibolga                                             [1725]\n",
       "1198           Tebing                                             [1727]\n",
       "\n",
       "[1199 rows x 2 columns]"
      ]
     },
     "execution_count": 109,
     "metadata": {},
     "output_type": "execute_result"
    }
   ],
   "source": [
    "index_table"
   ]
  },
  {
   "cell_type": "code",
   "execution_count": 110,
   "id": "d579ebcf",
   "metadata": {},
   "outputs": [],
   "source": [
    "index_table.to_csv('./data/v2/index_table.csv')"
   ]
  },
  {
   "cell_type": "markdown",
   "id": "d620109a",
   "metadata": {},
   "source": [
    "TODO: Remove , . / ()"
   ]
  },
  {
   "cell_type": "markdown",
   "id": "4f094e91",
   "metadata": {},
   "source": [
    "# Perform Search - Testing"
   ]
  },
  {
   "cell_type": "code",
   "execution_count": 126,
   "id": "fe458af1",
   "metadata": {},
   "outputs": [],
   "source": [
    "it = pd.read_csv('./data/v2/index_table.csv', index_col='Unnamed: 0')\n",
    "rd = pd.read_csv('./data/v2/reference_data.csv', index_col='Unnamed: 0')"
   ]
  },
  {
   "cell_type": "code",
   "execution_count": 127,
   "id": "687a6292",
   "metadata": {},
   "outputs": [
    {
     "data": {
      "text/html": [
       "<div>\n",
       "<style scoped>\n",
       "    .dataframe tbody tr th:only-of-type {\n",
       "        vertical-align: middle;\n",
       "    }\n",
       "\n",
       "    .dataframe tbody tr th {\n",
       "        vertical-align: top;\n",
       "    }\n",
       "\n",
       "    .dataframe thead th {\n",
       "        text-align: right;\n",
       "    }\n",
       "</style>\n",
       "<table border=\"1\" class=\"dataframe\">\n",
       "  <thead>\n",
       "    <tr style=\"text-align: right;\">\n",
       "      <th></th>\n",
       "      <th>reference</th>\n",
       "    </tr>\n",
       "  </thead>\n",
       "  <tbody>\n",
       "    <tr>\n",
       "      <th>0</th>\n",
       "      <td>Kemenko Polhukam</td>\n",
       "    </tr>\n",
       "  </tbody>\n",
       "</table>\n",
       "</div>"
      ],
      "text/plain": [
       "          reference\n",
       "0  Kemenko Polhukam"
      ]
     },
     "execution_count": 127,
     "metadata": {},
     "output_type": "execute_result"
    }
   ],
   "source": [
    "rd.head(1)"
   ]
  },
  {
   "cell_type": "code",
   "execution_count": 128,
   "id": "b46f6e12",
   "metadata": {},
   "outputs": [
    {
     "data": {
      "text/html": [
       "<div>\n",
       "<style scoped>\n",
       "    .dataframe tbody tr th:only-of-type {\n",
       "        vertical-align: middle;\n",
       "    }\n",
       "\n",
       "    .dataframe tbody tr th {\n",
       "        vertical-align: top;\n",
       "    }\n",
       "\n",
       "    .dataframe thead th {\n",
       "        text-align: right;\n",
       "    }\n",
       "</style>\n",
       "<table border=\"1\" class=\"dataframe\">\n",
       "  <thead>\n",
       "    <tr style=\"text-align: right;\">\n",
       "      <th></th>\n",
       "      <th>Kata</th>\n",
       "      <th>Index</th>\n",
       "    </tr>\n",
       "  </thead>\n",
       "  <tbody>\n",
       "    <tr>\n",
       "      <th>0</th>\n",
       "      <td>Kemenko</td>\n",
       "      <td>[0]</td>\n",
       "    </tr>\n",
       "  </tbody>\n",
       "</table>\n",
       "</div>"
      ],
      "text/plain": [
       "      Kata Index\n",
       "0  Kemenko   [0]"
      ]
     },
     "execution_count": 128,
     "metadata": {},
     "output_type": "execute_result"
    }
   ],
   "source": [
    "it.head(1)"
   ]
  },
  {
   "cell_type": "code",
   "execution_count": 129,
   "id": "d62677cd",
   "metadata": {},
   "outputs": [],
   "source": [
    "search_ = search.Search(rd, it)"
   ]
  },
  {
   "cell_type": "code",
   "execution_count": 130,
   "id": "fd20f4b0",
   "metadata": {},
   "outputs": [
    {
     "data": {
      "text/plain": [
       "{'kementerian': ['Kementerian BUMN',\n",
       "  'Kementerian Investasi/BKPM',\n",
       "  'Kementerian Investasi',\n",
       "  'Kementerian PPN/Bappenas',\n",
       "  'Kementerian Koperasi dan UKM',\n",
       "  'Kementerian PP & PA',\n",
       "  'Kementerian Agama',\n",
       "  'Kementerian Agraria dan Tata Ruang/Badan Pertahanan Nasional (BPN)',\n",
       "  'Kementerian Dalam Negeri',\n",
       "  'Kementerian Desa, Pembangunan Daerah Tertinggal dan Transmigrasi',\n",
       "  'Kementerian Energi dan Sumber Daya Mineral (ESDM)',\n",
       "  'Kementerian Hukum dan Hak Asasi Manusia',\n",
       "  'Kementerian Lingkungan Hidup dan Kehutanan',\n",
       "  'Kementerian Kelautan dan Perikanan',\n",
       "  'Kementerian Kesehatan',\n",
       "  'Kementerian Ketenagakerjaan',\n",
       "  'Kementerian Keuangan',\n",
       "  'Kementerian Komunikasi dan Informatika',\n",
       "  'Kementerian Koordinator Bidang Kemaritiman dan Investasi',\n",
       "  'Kementerian Koordinator Bidang Pembangunan Manusia dan Kebudayaan',\n",
       "  'Kementerian Koordinator Bidang Perekonomian',\n",
       "  'Kementerian Koordinator Bidang Politik, Hukum, dan Keamanan',\n",
       "  'Kementerian Koperasi dan Usaha Kecil dan Menengah',\n",
       "  'Kementerian Luar Negeri',\n",
       "  'Kementerian Badan Usaha Milik Negara',\n",
       "  'Kementerian Pendayagunaan Aparatur Negara dan Reformasi Birokrasi (Kem PANRB)',\n",
       "  'Kementerian Pariwisata dan Ekonomi Kreatif',\n",
       "  'Kementerian Pekerjaan Umum dan Perumahan Rakyat (PUPR)',\n",
       "  'Kementerian Pemberdayaan Perempuan dan Perlindungan Anak',\n",
       "  'Kementerian Pemuda dan Olahraga',\n",
       "  'Kementerian Pendidikan, Kebudayaan, Riset, dan Teknologi',\n",
       "  'Kementerian Perdagangan',\n",
       "  'Kementerian Perencanaan Pembangunan Nasional (PPN)/Badan Perencanaan Pembangunan Nasional (Bappenas)',\n",
       "  'Kementerian Perhubungan',\n",
       "  'Kementerian Perindustrian',\n",
       "  'Kementerian Pertahanan',\n",
       "  'Kementerian Pertanian',\n",
       "  'Kementerian Sekretariat Negara',\n",
       "  'Kementerian Sosial'],\n",
       " 'pertanian': ['Kementerian Pertanian']}"
      ]
     },
     "execution_count": 130,
     "metadata": {},
     "output_type": "execute_result"
    }
   ],
   "source": [
    "nama_instansi = \"kementerian pertanian\"\n",
    "search_.search(nama_instansi)"
   ]
  },
  {
   "cell_type": "code",
   "execution_count": 131,
   "id": "69e158cc",
   "metadata": {},
   "outputs": [
    {
     "data": {
      "text/plain": [
       "{'kereta': ['PT Industri Kereta Api',\n",
       "  'PT Kereta Api Indonesia ',\n",
       "  'PT Kereta Api Indonesia (Persero) (KAI)',\n",
       "  'PT Industri Kereta Api (Persero) (INKA)']}"
      ]
     },
     "execution_count": 131,
     "metadata": {},
     "output_type": "execute_result"
    }
   ],
   "source": [
    "search_.search(\"kereta\")"
   ]
  },
  {
   "cell_type": "code",
   "execution_count": 132,
   "id": "e99eeda2",
   "metadata": {},
   "outputs": [
    {
     "data": {
      "text/plain": [
       "{'bank': ['Bank Indonesia (BI)',\n",
       "  'Bank Mandiri',\n",
       "  'Bank Mandiri Cihampelas',\n",
       "  'Bank BNI Kantor Cabang Karawang',\n",
       "  'Bank Rakyat Indonesia Cabang Sintang',\n",
       "  'Bank BRI Unit Prambanan',\n",
       "  'Bank BTN Jayapura',\n",
       "  'PT Bank Mandiri (Persero), Tbk.',\n",
       "  'PT Bank Negara Indonesia (Persero), Tbk. (BNI)',\n",
       "  'PT Bank Rakyat Indonesia (Persero), Tbk. (BRI)',\n",
       "  'PT Bank Tabungan Negara (Persero) (BTN)']}"
      ]
     },
     "execution_count": 132,
     "metadata": {},
     "output_type": "execute_result"
    }
   ],
   "source": [
    "search_.search(\"bank\")"
   ]
  },
  {
   "cell_type": "code",
   "execution_count": 133,
   "id": "cfb8dbb8",
   "metadata": {},
   "outputs": [
    {
     "data": {
      "text/plain": [
       "{'tvri': ['LPP TVRI', 'Lembaga Penyiaran Publik TVRI']}"
      ]
     },
     "execution_count": 133,
     "metadata": {},
     "output_type": "execute_result"
    }
   ],
   "source": [
    "search_.search(\"tvri\")"
   ]
  },
  {
   "cell_type": "code",
   "execution_count": null,
   "id": "c6f8d5dc",
   "metadata": {},
   "outputs": [],
   "source": []
  }
 ],
 "metadata": {
  "kernelspec": {
   "display_name": "Python 3 (ipykernel)",
   "language": "python",
   "name": "python3"
  },
  "language_info": {
   "codemirror_mode": {
    "name": "ipython",
    "version": 3
   },
   "file_extension": ".py",
   "mimetype": "text/x-python",
   "name": "python",
   "nbconvert_exporter": "python",
   "pygments_lexer": "ipython3",
   "version": "3.9.6"
  }
 },
 "nbformat": 4,
 "nbformat_minor": 5
}

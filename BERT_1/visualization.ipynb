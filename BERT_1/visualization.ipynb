{
 "cells": [
  {
   "cell_type": "code",
   "execution_count": 1,
   "metadata": {},
   "outputs": [],
   "source": [
    "import pandas as pd\n",
    "import plotly.express as px\n",
    "import re"
   ]
  },
  {
   "cell_type": "code",
   "execution_count": 22,
   "metadata": {},
   "outputs": [],
   "source": [
    "models = ['indobert_base_p1','indobert_base_p2']"
   ]
  },
  {
   "cell_type": "code",
   "execution_count": 23,
   "metadata": {},
   "outputs": [],
   "source": [
    "p1_df = pd.read_csv(\"result/training_progress_scores_p1.csv\")\n",
    "p2_df = pd.read_csv(\"result/training_progress_scores_p2.csv\")"
   ]
  },
  {
   "cell_type": "code",
   "execution_count": 24,
   "metadata": {},
   "outputs": [],
   "source": [
    "dataset = [p1_df,p2_df]"
   ]
  },
  {
   "cell_type": "code",
   "execution_count": 25,
   "metadata": {},
   "outputs": [],
   "source": [
    "for df, model in zip(dataset,models):\n",
    "    df = df.assign(model=model)"
   ]
  },
  {
   "cell_type": "code",
   "execution_count": 26,
   "metadata": {},
   "outputs": [],
   "source": [
    "p1_df = p1_df.assign(model=\"indobert_base_p1\")\n",
    "p2_df = p2_df.assign(model=\"indobert_base_p2\")"
   ]
  },
  {
   "cell_type": "code",
   "execution_count": 27,
   "metadata": {},
   "outputs": [],
   "source": [
    "p1_df = p1_df.drop_duplicates()\n",
    "p2_df = p2_df.drop_duplicates()"
   ]
  },
  {
   "cell_type": "code",
   "execution_count": 28,
   "metadata": {},
   "outputs": [],
   "source": [
    "p1_df['epoch'] = [ep for ep in range(1,len(p1_df)+1)]\n",
    "p2_df['epoch'] = [ep for ep in range(1,len(p2_df)+1)]"
   ]
  },
  {
   "cell_type": "code",
   "execution_count": 29,
   "metadata": {},
   "outputs": [
    {
     "data": {
      "text/plain": [
       "array([ 1,  2,  3,  4,  5,  6,  7,  8,  9, 10], dtype=int64)"
      ]
     },
     "execution_count": 29,
     "metadata": {},
     "output_type": "execute_result"
    }
   ],
   "source": [
    "p1_df['epoch'].unique()"
   ]
  },
  {
   "cell_type": "code",
   "execution_count": 30,
   "metadata": {},
   "outputs": [],
   "source": [
    "dataset = [p1_df,p2_df]"
   ]
  },
  {
   "cell_type": "code",
   "execution_count": 31,
   "metadata": {},
   "outputs": [],
   "source": [
    "new_dataset = []\n",
    "for df in dataset:\n",
    "    df = df[['epoch','train_loss','eval_loss','model']].groupby(['epoch']).min().reset_index()\n",
    "\n",
    "    df = df[['train_loss', 'eval_loss','epoch','model']]\n",
    "    loss = []\n",
    "    type = []\n",
    "    epoch = []\n",
    "    model = []\n",
    "    for idx in df.index:\n",
    "        for col in df.columns.tolist()[0:2]:\n",
    "            loss.append(df[col][idx])\n",
    "            type.append(col)\n",
    "            epoch.append(df['epoch'][idx])\n",
    "            model.append(df['model'][idx])\n",
    "\n",
    "    df_loss = pd.DataFrame()\n",
    "    df_loss['loss'] = loss\n",
    "    df_loss['type'] = type\n",
    "    df_loss['epoch'] = epoch\n",
    "    df_loss['model'] =model\n",
    "\n",
    "    new_dataset.append(df_loss)\n"
   ]
  },
  {
   "cell_type": "code",
   "execution_count": 32,
   "metadata": {},
   "outputs": [
    {
     "data": {
      "text/html": [
       "<div>\n",
       "<style scoped>\n",
       "    .dataframe tbody tr th:only-of-type {\n",
       "        vertical-align: middle;\n",
       "    }\n",
       "\n",
       "    .dataframe tbody tr th {\n",
       "        vertical-align: top;\n",
       "    }\n",
       "\n",
       "    .dataframe thead th {\n",
       "        text-align: right;\n",
       "    }\n",
       "</style>\n",
       "<table border=\"1\" class=\"dataframe\">\n",
       "  <thead>\n",
       "    <tr style=\"text-align: right;\">\n",
       "      <th></th>\n",
       "      <th>loss</th>\n",
       "      <th>type</th>\n",
       "      <th>epoch</th>\n",
       "      <th>model</th>\n",
       "    </tr>\n",
       "  </thead>\n",
       "  <tbody>\n",
       "    <tr>\n",
       "      <th>0</th>\n",
       "      <td>0.418477</td>\n",
       "      <td>train_loss</td>\n",
       "      <td>1</td>\n",
       "      <td>indobert_base_p1</td>\n",
       "    </tr>\n",
       "    <tr>\n",
       "      <th>1</th>\n",
       "      <td>0.320120</td>\n",
       "      <td>eval_loss</td>\n",
       "      <td>1</td>\n",
       "      <td>indobert_base_p1</td>\n",
       "    </tr>\n",
       "    <tr>\n",
       "      <th>2</th>\n",
       "      <td>0.223725</td>\n",
       "      <td>train_loss</td>\n",
       "      <td>2</td>\n",
       "      <td>indobert_base_p1</td>\n",
       "    </tr>\n",
       "    <tr>\n",
       "      <th>3</th>\n",
       "      <td>0.300937</td>\n",
       "      <td>eval_loss</td>\n",
       "      <td>2</td>\n",
       "      <td>indobert_base_p1</td>\n",
       "    </tr>\n",
       "    <tr>\n",
       "      <th>4</th>\n",
       "      <td>0.039448</td>\n",
       "      <td>train_loss</td>\n",
       "      <td>3</td>\n",
       "      <td>indobert_base_p1</td>\n",
       "    </tr>\n",
       "    <tr>\n",
       "      <th>5</th>\n",
       "      <td>0.211314</td>\n",
       "      <td>eval_loss</td>\n",
       "      <td>3</td>\n",
       "      <td>indobert_base_p1</td>\n",
       "    </tr>\n",
       "    <tr>\n",
       "      <th>6</th>\n",
       "      <td>0.133527</td>\n",
       "      <td>train_loss</td>\n",
       "      <td>4</td>\n",
       "      <td>indobert_base_p1</td>\n",
       "    </tr>\n",
       "    <tr>\n",
       "      <th>7</th>\n",
       "      <td>0.181528</td>\n",
       "      <td>eval_loss</td>\n",
       "      <td>4</td>\n",
       "      <td>indobert_base_p1</td>\n",
       "    </tr>\n",
       "    <tr>\n",
       "      <th>8</th>\n",
       "      <td>0.152910</td>\n",
       "      <td>train_loss</td>\n",
       "      <td>5</td>\n",
       "      <td>indobert_base_p1</td>\n",
       "    </tr>\n",
       "    <tr>\n",
       "      <th>9</th>\n",
       "      <td>0.245237</td>\n",
       "      <td>eval_loss</td>\n",
       "      <td>5</td>\n",
       "      <td>indobert_base_p1</td>\n",
       "    </tr>\n",
       "    <tr>\n",
       "      <th>10</th>\n",
       "      <td>0.017559</td>\n",
       "      <td>train_loss</td>\n",
       "      <td>6</td>\n",
       "      <td>indobert_base_p1</td>\n",
       "    </tr>\n",
       "    <tr>\n",
       "      <th>11</th>\n",
       "      <td>0.271105</td>\n",
       "      <td>eval_loss</td>\n",
       "      <td>6</td>\n",
       "      <td>indobert_base_p1</td>\n",
       "    </tr>\n",
       "    <tr>\n",
       "      <th>12</th>\n",
       "      <td>0.001143</td>\n",
       "      <td>train_loss</td>\n",
       "      <td>7</td>\n",
       "      <td>indobert_base_p1</td>\n",
       "    </tr>\n",
       "    <tr>\n",
       "      <th>13</th>\n",
       "      <td>0.318048</td>\n",
       "      <td>eval_loss</td>\n",
       "      <td>7</td>\n",
       "      <td>indobert_base_p1</td>\n",
       "    </tr>\n",
       "    <tr>\n",
       "      <th>14</th>\n",
       "      <td>0.003977</td>\n",
       "      <td>train_loss</td>\n",
       "      <td>8</td>\n",
       "      <td>indobert_base_p1</td>\n",
       "    </tr>\n",
       "    <tr>\n",
       "      <th>15</th>\n",
       "      <td>0.407154</td>\n",
       "      <td>eval_loss</td>\n",
       "      <td>8</td>\n",
       "      <td>indobert_base_p1</td>\n",
       "    </tr>\n",
       "    <tr>\n",
       "      <th>16</th>\n",
       "      <td>0.000846</td>\n",
       "      <td>train_loss</td>\n",
       "      <td>9</td>\n",
       "      <td>indobert_base_p1</td>\n",
       "    </tr>\n",
       "    <tr>\n",
       "      <th>17</th>\n",
       "      <td>0.367509</td>\n",
       "      <td>eval_loss</td>\n",
       "      <td>9</td>\n",
       "      <td>indobert_base_p1</td>\n",
       "    </tr>\n",
       "    <tr>\n",
       "      <th>18</th>\n",
       "      <td>0.034229</td>\n",
       "      <td>train_loss</td>\n",
       "      <td>10</td>\n",
       "      <td>indobert_base_p1</td>\n",
       "    </tr>\n",
       "    <tr>\n",
       "      <th>19</th>\n",
       "      <td>0.370262</td>\n",
       "      <td>eval_loss</td>\n",
       "      <td>10</td>\n",
       "      <td>indobert_base_p1</td>\n",
       "    </tr>\n",
       "    <tr>\n",
       "      <th>0</th>\n",
       "      <td>0.469857</td>\n",
       "      <td>train_loss</td>\n",
       "      <td>1</td>\n",
       "      <td>indobert_base_p2</td>\n",
       "    </tr>\n",
       "    <tr>\n",
       "      <th>1</th>\n",
       "      <td>0.273766</td>\n",
       "      <td>eval_loss</td>\n",
       "      <td>1</td>\n",
       "      <td>indobert_base_p2</td>\n",
       "    </tr>\n",
       "    <tr>\n",
       "      <th>2</th>\n",
       "      <td>0.331343</td>\n",
       "      <td>train_loss</td>\n",
       "      <td>2</td>\n",
       "      <td>indobert_base_p2</td>\n",
       "    </tr>\n",
       "    <tr>\n",
       "      <th>3</th>\n",
       "      <td>0.188433</td>\n",
       "      <td>eval_loss</td>\n",
       "      <td>2</td>\n",
       "      <td>indobert_base_p2</td>\n",
       "    </tr>\n",
       "    <tr>\n",
       "      <th>4</th>\n",
       "      <td>0.129101</td>\n",
       "      <td>train_loss</td>\n",
       "      <td>3</td>\n",
       "      <td>indobert_base_p2</td>\n",
       "    </tr>\n",
       "    <tr>\n",
       "      <th>5</th>\n",
       "      <td>0.290942</td>\n",
       "      <td>eval_loss</td>\n",
       "      <td>3</td>\n",
       "      <td>indobert_base_p2</td>\n",
       "    </tr>\n",
       "    <tr>\n",
       "      <th>6</th>\n",
       "      <td>0.298328</td>\n",
       "      <td>train_loss</td>\n",
       "      <td>4</td>\n",
       "      <td>indobert_base_p2</td>\n",
       "    </tr>\n",
       "    <tr>\n",
       "      <th>7</th>\n",
       "      <td>0.293166</td>\n",
       "      <td>eval_loss</td>\n",
       "      <td>4</td>\n",
       "      <td>indobert_base_p2</td>\n",
       "    </tr>\n",
       "    <tr>\n",
       "      <th>8</th>\n",
       "      <td>0.008218</td>\n",
       "      <td>train_loss</td>\n",
       "      <td>5</td>\n",
       "      <td>indobert_base_p2</td>\n",
       "    </tr>\n",
       "    <tr>\n",
       "      <th>9</th>\n",
       "      <td>0.266040</td>\n",
       "      <td>eval_loss</td>\n",
       "      <td>5</td>\n",
       "      <td>indobert_base_p2</td>\n",
       "    </tr>\n",
       "    <tr>\n",
       "      <th>10</th>\n",
       "      <td>0.004539</td>\n",
       "      <td>train_loss</td>\n",
       "      <td>6</td>\n",
       "      <td>indobert_base_p2</td>\n",
       "    </tr>\n",
       "    <tr>\n",
       "      <th>11</th>\n",
       "      <td>0.269472</td>\n",
       "      <td>eval_loss</td>\n",
       "      <td>6</td>\n",
       "      <td>indobert_base_p2</td>\n",
       "    </tr>\n",
       "    <tr>\n",
       "      <th>12</th>\n",
       "      <td>0.236692</td>\n",
       "      <td>train_loss</td>\n",
       "      <td>7</td>\n",
       "      <td>indobert_base_p2</td>\n",
       "    </tr>\n",
       "    <tr>\n",
       "      <th>13</th>\n",
       "      <td>0.296106</td>\n",
       "      <td>eval_loss</td>\n",
       "      <td>7</td>\n",
       "      <td>indobert_base_p2</td>\n",
       "    </tr>\n",
       "    <tr>\n",
       "      <th>14</th>\n",
       "      <td>0.001951</td>\n",
       "      <td>train_loss</td>\n",
       "      <td>8</td>\n",
       "      <td>indobert_base_p2</td>\n",
       "    </tr>\n",
       "    <tr>\n",
       "      <th>15</th>\n",
       "      <td>0.340179</td>\n",
       "      <td>eval_loss</td>\n",
       "      <td>8</td>\n",
       "      <td>indobert_base_p2</td>\n",
       "    </tr>\n",
       "    <tr>\n",
       "      <th>16</th>\n",
       "      <td>0.001376</td>\n",
       "      <td>train_loss</td>\n",
       "      <td>9</td>\n",
       "      <td>indobert_base_p2</td>\n",
       "    </tr>\n",
       "    <tr>\n",
       "      <th>17</th>\n",
       "      <td>0.285433</td>\n",
       "      <td>eval_loss</td>\n",
       "      <td>9</td>\n",
       "      <td>indobert_base_p2</td>\n",
       "    </tr>\n",
       "    <tr>\n",
       "      <th>18</th>\n",
       "      <td>0.001148</td>\n",
       "      <td>train_loss</td>\n",
       "      <td>10</td>\n",
       "      <td>indobert_base_p2</td>\n",
       "    </tr>\n",
       "    <tr>\n",
       "      <th>19</th>\n",
       "      <td>0.273711</td>\n",
       "      <td>eval_loss</td>\n",
       "      <td>10</td>\n",
       "      <td>indobert_base_p2</td>\n",
       "    </tr>\n",
       "  </tbody>\n",
       "</table>\n",
       "</div>"
      ],
      "text/plain": [
       "        loss        type  epoch             model\n",
       "0   0.418477  train_loss      1  indobert_base_p1\n",
       "1   0.320120   eval_loss      1  indobert_base_p1\n",
       "2   0.223725  train_loss      2  indobert_base_p1\n",
       "3   0.300937   eval_loss      2  indobert_base_p1\n",
       "4   0.039448  train_loss      3  indobert_base_p1\n",
       "5   0.211314   eval_loss      3  indobert_base_p1\n",
       "6   0.133527  train_loss      4  indobert_base_p1\n",
       "7   0.181528   eval_loss      4  indobert_base_p1\n",
       "8   0.152910  train_loss      5  indobert_base_p1\n",
       "9   0.245237   eval_loss      5  indobert_base_p1\n",
       "10  0.017559  train_loss      6  indobert_base_p1\n",
       "11  0.271105   eval_loss      6  indobert_base_p1\n",
       "12  0.001143  train_loss      7  indobert_base_p1\n",
       "13  0.318048   eval_loss      7  indobert_base_p1\n",
       "14  0.003977  train_loss      8  indobert_base_p1\n",
       "15  0.407154   eval_loss      8  indobert_base_p1\n",
       "16  0.000846  train_loss      9  indobert_base_p1\n",
       "17  0.367509   eval_loss      9  indobert_base_p1\n",
       "18  0.034229  train_loss     10  indobert_base_p1\n",
       "19  0.370262   eval_loss     10  indobert_base_p1\n",
       "0   0.469857  train_loss      1  indobert_base_p2\n",
       "1   0.273766   eval_loss      1  indobert_base_p2\n",
       "2   0.331343  train_loss      2  indobert_base_p2\n",
       "3   0.188433   eval_loss      2  indobert_base_p2\n",
       "4   0.129101  train_loss      3  indobert_base_p2\n",
       "5   0.290942   eval_loss      3  indobert_base_p2\n",
       "6   0.298328  train_loss      4  indobert_base_p2\n",
       "7   0.293166   eval_loss      4  indobert_base_p2\n",
       "8   0.008218  train_loss      5  indobert_base_p2\n",
       "9   0.266040   eval_loss      5  indobert_base_p2\n",
       "10  0.004539  train_loss      6  indobert_base_p2\n",
       "11  0.269472   eval_loss      6  indobert_base_p2\n",
       "12  0.236692  train_loss      7  indobert_base_p2\n",
       "13  0.296106   eval_loss      7  indobert_base_p2\n",
       "14  0.001951  train_loss      8  indobert_base_p2\n",
       "15  0.340179   eval_loss      8  indobert_base_p2\n",
       "16  0.001376  train_loss      9  indobert_base_p2\n",
       "17  0.285433   eval_loss      9  indobert_base_p2\n",
       "18  0.001148  train_loss     10  indobert_base_p2\n",
       "19  0.273711   eval_loss     10  indobert_base_p2"
      ]
     },
     "execution_count": 32,
     "metadata": {},
     "output_type": "execute_result"
    }
   ],
   "source": [
    "new_df_loss = pd.concat([new_dataset[0], new_dataset[1]])\n",
    "new_df_loss"
   ]
  },
  {
   "cell_type": "code",
   "execution_count": 33,
   "metadata": {},
   "outputs": [
    {
     "name": "stdout",
     "output_type": "stream",
     "text": [
      "[93.2]\n",
      "[93.2, 91.34]\n"
     ]
    }
   ],
   "source": [
    "accuracy = []\n",
    "for model in models:\n",
    "    with open(f\"result\\score_{model}.txt\") as file:\n",
    "        a = file.readlines()\n",
    "        acc= re.findall(r'\\s+(\\d\\.\\d+)',a[0])\n",
    "        acc = round(float(acc[0])*100,2)\n",
    "        accuracy.append(acc)\n",
    "        print(accuracy)\n",
    "    new_df_loss.loc[new_df_loss['model']==model, 'acc'] = acc"
   ]
  },
  {
   "cell_type": "code",
   "execution_count": 34,
   "metadata": {},
   "outputs": [
    {
     "data": {
      "text/html": [
       "<div>\n",
       "<style scoped>\n",
       "    .dataframe tbody tr th:only-of-type {\n",
       "        vertical-align: middle;\n",
       "    }\n",
       "\n",
       "    .dataframe tbody tr th {\n",
       "        vertical-align: top;\n",
       "    }\n",
       "\n",
       "    .dataframe thead th {\n",
       "        text-align: right;\n",
       "    }\n",
       "</style>\n",
       "<table border=\"1\" class=\"dataframe\">\n",
       "  <thead>\n",
       "    <tr style=\"text-align: right;\">\n",
       "      <th></th>\n",
       "      <th>loss</th>\n",
       "      <th>type</th>\n",
       "      <th>epoch</th>\n",
       "      <th>model</th>\n",
       "      <th>acc</th>\n",
       "    </tr>\n",
       "  </thead>\n",
       "  <tbody>\n",
       "    <tr>\n",
       "      <th>0</th>\n",
       "      <td>0.418477</td>\n",
       "      <td>train_loss</td>\n",
       "      <td>1</td>\n",
       "      <td>indobert_base_p1</td>\n",
       "      <td>93.20</td>\n",
       "    </tr>\n",
       "    <tr>\n",
       "      <th>1</th>\n",
       "      <td>0.320120</td>\n",
       "      <td>eval_loss</td>\n",
       "      <td>1</td>\n",
       "      <td>indobert_base_p1</td>\n",
       "      <td>93.20</td>\n",
       "    </tr>\n",
       "    <tr>\n",
       "      <th>2</th>\n",
       "      <td>0.223725</td>\n",
       "      <td>train_loss</td>\n",
       "      <td>2</td>\n",
       "      <td>indobert_base_p1</td>\n",
       "      <td>93.20</td>\n",
       "    </tr>\n",
       "    <tr>\n",
       "      <th>3</th>\n",
       "      <td>0.300937</td>\n",
       "      <td>eval_loss</td>\n",
       "      <td>2</td>\n",
       "      <td>indobert_base_p1</td>\n",
       "      <td>93.20</td>\n",
       "    </tr>\n",
       "    <tr>\n",
       "      <th>4</th>\n",
       "      <td>0.039448</td>\n",
       "      <td>train_loss</td>\n",
       "      <td>3</td>\n",
       "      <td>indobert_base_p1</td>\n",
       "      <td>93.20</td>\n",
       "    </tr>\n",
       "    <tr>\n",
       "      <th>5</th>\n",
       "      <td>0.211314</td>\n",
       "      <td>eval_loss</td>\n",
       "      <td>3</td>\n",
       "      <td>indobert_base_p1</td>\n",
       "      <td>93.20</td>\n",
       "    </tr>\n",
       "    <tr>\n",
       "      <th>6</th>\n",
       "      <td>0.133527</td>\n",
       "      <td>train_loss</td>\n",
       "      <td>4</td>\n",
       "      <td>indobert_base_p1</td>\n",
       "      <td>93.20</td>\n",
       "    </tr>\n",
       "    <tr>\n",
       "      <th>7</th>\n",
       "      <td>0.181528</td>\n",
       "      <td>eval_loss</td>\n",
       "      <td>4</td>\n",
       "      <td>indobert_base_p1</td>\n",
       "      <td>93.20</td>\n",
       "    </tr>\n",
       "    <tr>\n",
       "      <th>8</th>\n",
       "      <td>0.152910</td>\n",
       "      <td>train_loss</td>\n",
       "      <td>5</td>\n",
       "      <td>indobert_base_p1</td>\n",
       "      <td>93.20</td>\n",
       "    </tr>\n",
       "    <tr>\n",
       "      <th>9</th>\n",
       "      <td>0.245237</td>\n",
       "      <td>eval_loss</td>\n",
       "      <td>5</td>\n",
       "      <td>indobert_base_p1</td>\n",
       "      <td>93.20</td>\n",
       "    </tr>\n",
       "    <tr>\n",
       "      <th>10</th>\n",
       "      <td>0.017559</td>\n",
       "      <td>train_loss</td>\n",
       "      <td>6</td>\n",
       "      <td>indobert_base_p1</td>\n",
       "      <td>93.20</td>\n",
       "    </tr>\n",
       "    <tr>\n",
       "      <th>11</th>\n",
       "      <td>0.271105</td>\n",
       "      <td>eval_loss</td>\n",
       "      <td>6</td>\n",
       "      <td>indobert_base_p1</td>\n",
       "      <td>93.20</td>\n",
       "    </tr>\n",
       "    <tr>\n",
       "      <th>12</th>\n",
       "      <td>0.001143</td>\n",
       "      <td>train_loss</td>\n",
       "      <td>7</td>\n",
       "      <td>indobert_base_p1</td>\n",
       "      <td>93.20</td>\n",
       "    </tr>\n",
       "    <tr>\n",
       "      <th>13</th>\n",
       "      <td>0.318048</td>\n",
       "      <td>eval_loss</td>\n",
       "      <td>7</td>\n",
       "      <td>indobert_base_p1</td>\n",
       "      <td>93.20</td>\n",
       "    </tr>\n",
       "    <tr>\n",
       "      <th>14</th>\n",
       "      <td>0.003977</td>\n",
       "      <td>train_loss</td>\n",
       "      <td>8</td>\n",
       "      <td>indobert_base_p1</td>\n",
       "      <td>93.20</td>\n",
       "    </tr>\n",
       "    <tr>\n",
       "      <th>15</th>\n",
       "      <td>0.407154</td>\n",
       "      <td>eval_loss</td>\n",
       "      <td>8</td>\n",
       "      <td>indobert_base_p1</td>\n",
       "      <td>93.20</td>\n",
       "    </tr>\n",
       "    <tr>\n",
       "      <th>16</th>\n",
       "      <td>0.000846</td>\n",
       "      <td>train_loss</td>\n",
       "      <td>9</td>\n",
       "      <td>indobert_base_p1</td>\n",
       "      <td>93.20</td>\n",
       "    </tr>\n",
       "    <tr>\n",
       "      <th>17</th>\n",
       "      <td>0.367509</td>\n",
       "      <td>eval_loss</td>\n",
       "      <td>9</td>\n",
       "      <td>indobert_base_p1</td>\n",
       "      <td>93.20</td>\n",
       "    </tr>\n",
       "    <tr>\n",
       "      <th>18</th>\n",
       "      <td>0.034229</td>\n",
       "      <td>train_loss</td>\n",
       "      <td>10</td>\n",
       "      <td>indobert_base_p1</td>\n",
       "      <td>93.20</td>\n",
       "    </tr>\n",
       "    <tr>\n",
       "      <th>19</th>\n",
       "      <td>0.370262</td>\n",
       "      <td>eval_loss</td>\n",
       "      <td>10</td>\n",
       "      <td>indobert_base_p1</td>\n",
       "      <td>93.20</td>\n",
       "    </tr>\n",
       "    <tr>\n",
       "      <th>0</th>\n",
       "      <td>0.469857</td>\n",
       "      <td>train_loss</td>\n",
       "      <td>1</td>\n",
       "      <td>indobert_base_p2</td>\n",
       "      <td>91.34</td>\n",
       "    </tr>\n",
       "    <tr>\n",
       "      <th>1</th>\n",
       "      <td>0.273766</td>\n",
       "      <td>eval_loss</td>\n",
       "      <td>1</td>\n",
       "      <td>indobert_base_p2</td>\n",
       "      <td>91.34</td>\n",
       "    </tr>\n",
       "    <tr>\n",
       "      <th>2</th>\n",
       "      <td>0.331343</td>\n",
       "      <td>train_loss</td>\n",
       "      <td>2</td>\n",
       "      <td>indobert_base_p2</td>\n",
       "      <td>91.34</td>\n",
       "    </tr>\n",
       "    <tr>\n",
       "      <th>3</th>\n",
       "      <td>0.188433</td>\n",
       "      <td>eval_loss</td>\n",
       "      <td>2</td>\n",
       "      <td>indobert_base_p2</td>\n",
       "      <td>91.34</td>\n",
       "    </tr>\n",
       "    <tr>\n",
       "      <th>4</th>\n",
       "      <td>0.129101</td>\n",
       "      <td>train_loss</td>\n",
       "      <td>3</td>\n",
       "      <td>indobert_base_p2</td>\n",
       "      <td>91.34</td>\n",
       "    </tr>\n",
       "    <tr>\n",
       "      <th>5</th>\n",
       "      <td>0.290942</td>\n",
       "      <td>eval_loss</td>\n",
       "      <td>3</td>\n",
       "      <td>indobert_base_p2</td>\n",
       "      <td>91.34</td>\n",
       "    </tr>\n",
       "    <tr>\n",
       "      <th>6</th>\n",
       "      <td>0.298328</td>\n",
       "      <td>train_loss</td>\n",
       "      <td>4</td>\n",
       "      <td>indobert_base_p2</td>\n",
       "      <td>91.34</td>\n",
       "    </tr>\n",
       "    <tr>\n",
       "      <th>7</th>\n",
       "      <td>0.293166</td>\n",
       "      <td>eval_loss</td>\n",
       "      <td>4</td>\n",
       "      <td>indobert_base_p2</td>\n",
       "      <td>91.34</td>\n",
       "    </tr>\n",
       "    <tr>\n",
       "      <th>8</th>\n",
       "      <td>0.008218</td>\n",
       "      <td>train_loss</td>\n",
       "      <td>5</td>\n",
       "      <td>indobert_base_p2</td>\n",
       "      <td>91.34</td>\n",
       "    </tr>\n",
       "    <tr>\n",
       "      <th>9</th>\n",
       "      <td>0.266040</td>\n",
       "      <td>eval_loss</td>\n",
       "      <td>5</td>\n",
       "      <td>indobert_base_p2</td>\n",
       "      <td>91.34</td>\n",
       "    </tr>\n",
       "    <tr>\n",
       "      <th>10</th>\n",
       "      <td>0.004539</td>\n",
       "      <td>train_loss</td>\n",
       "      <td>6</td>\n",
       "      <td>indobert_base_p2</td>\n",
       "      <td>91.34</td>\n",
       "    </tr>\n",
       "    <tr>\n",
       "      <th>11</th>\n",
       "      <td>0.269472</td>\n",
       "      <td>eval_loss</td>\n",
       "      <td>6</td>\n",
       "      <td>indobert_base_p2</td>\n",
       "      <td>91.34</td>\n",
       "    </tr>\n",
       "    <tr>\n",
       "      <th>12</th>\n",
       "      <td>0.236692</td>\n",
       "      <td>train_loss</td>\n",
       "      <td>7</td>\n",
       "      <td>indobert_base_p2</td>\n",
       "      <td>91.34</td>\n",
       "    </tr>\n",
       "    <tr>\n",
       "      <th>13</th>\n",
       "      <td>0.296106</td>\n",
       "      <td>eval_loss</td>\n",
       "      <td>7</td>\n",
       "      <td>indobert_base_p2</td>\n",
       "      <td>91.34</td>\n",
       "    </tr>\n",
       "    <tr>\n",
       "      <th>14</th>\n",
       "      <td>0.001951</td>\n",
       "      <td>train_loss</td>\n",
       "      <td>8</td>\n",
       "      <td>indobert_base_p2</td>\n",
       "      <td>91.34</td>\n",
       "    </tr>\n",
       "    <tr>\n",
       "      <th>15</th>\n",
       "      <td>0.340179</td>\n",
       "      <td>eval_loss</td>\n",
       "      <td>8</td>\n",
       "      <td>indobert_base_p2</td>\n",
       "      <td>91.34</td>\n",
       "    </tr>\n",
       "    <tr>\n",
       "      <th>16</th>\n",
       "      <td>0.001376</td>\n",
       "      <td>train_loss</td>\n",
       "      <td>9</td>\n",
       "      <td>indobert_base_p2</td>\n",
       "      <td>91.34</td>\n",
       "    </tr>\n",
       "    <tr>\n",
       "      <th>17</th>\n",
       "      <td>0.285433</td>\n",
       "      <td>eval_loss</td>\n",
       "      <td>9</td>\n",
       "      <td>indobert_base_p2</td>\n",
       "      <td>91.34</td>\n",
       "    </tr>\n",
       "    <tr>\n",
       "      <th>18</th>\n",
       "      <td>0.001148</td>\n",
       "      <td>train_loss</td>\n",
       "      <td>10</td>\n",
       "      <td>indobert_base_p2</td>\n",
       "      <td>91.34</td>\n",
       "    </tr>\n",
       "    <tr>\n",
       "      <th>19</th>\n",
       "      <td>0.273711</td>\n",
       "      <td>eval_loss</td>\n",
       "      <td>10</td>\n",
       "      <td>indobert_base_p2</td>\n",
       "      <td>91.34</td>\n",
       "    </tr>\n",
       "  </tbody>\n",
       "</table>\n",
       "</div>"
      ],
      "text/plain": [
       "        loss        type  epoch             model    acc\n",
       "0   0.418477  train_loss      1  indobert_base_p1  93.20\n",
       "1   0.320120   eval_loss      1  indobert_base_p1  93.20\n",
       "2   0.223725  train_loss      2  indobert_base_p1  93.20\n",
       "3   0.300937   eval_loss      2  indobert_base_p1  93.20\n",
       "4   0.039448  train_loss      3  indobert_base_p1  93.20\n",
       "5   0.211314   eval_loss      3  indobert_base_p1  93.20\n",
       "6   0.133527  train_loss      4  indobert_base_p1  93.20\n",
       "7   0.181528   eval_loss      4  indobert_base_p1  93.20\n",
       "8   0.152910  train_loss      5  indobert_base_p1  93.20\n",
       "9   0.245237   eval_loss      5  indobert_base_p1  93.20\n",
       "10  0.017559  train_loss      6  indobert_base_p1  93.20\n",
       "11  0.271105   eval_loss      6  indobert_base_p1  93.20\n",
       "12  0.001143  train_loss      7  indobert_base_p1  93.20\n",
       "13  0.318048   eval_loss      7  indobert_base_p1  93.20\n",
       "14  0.003977  train_loss      8  indobert_base_p1  93.20\n",
       "15  0.407154   eval_loss      8  indobert_base_p1  93.20\n",
       "16  0.000846  train_loss      9  indobert_base_p1  93.20\n",
       "17  0.367509   eval_loss      9  indobert_base_p1  93.20\n",
       "18  0.034229  train_loss     10  indobert_base_p1  93.20\n",
       "19  0.370262   eval_loss     10  indobert_base_p1  93.20\n",
       "0   0.469857  train_loss      1  indobert_base_p2  91.34\n",
       "1   0.273766   eval_loss      1  indobert_base_p2  91.34\n",
       "2   0.331343  train_loss      2  indobert_base_p2  91.34\n",
       "3   0.188433   eval_loss      2  indobert_base_p2  91.34\n",
       "4   0.129101  train_loss      3  indobert_base_p2  91.34\n",
       "5   0.290942   eval_loss      3  indobert_base_p2  91.34\n",
       "6   0.298328  train_loss      4  indobert_base_p2  91.34\n",
       "7   0.293166   eval_loss      4  indobert_base_p2  91.34\n",
       "8   0.008218  train_loss      5  indobert_base_p2  91.34\n",
       "9   0.266040   eval_loss      5  indobert_base_p2  91.34\n",
       "10  0.004539  train_loss      6  indobert_base_p2  91.34\n",
       "11  0.269472   eval_loss      6  indobert_base_p2  91.34\n",
       "12  0.236692  train_loss      7  indobert_base_p2  91.34\n",
       "13  0.296106   eval_loss      7  indobert_base_p2  91.34\n",
       "14  0.001951  train_loss      8  indobert_base_p2  91.34\n",
       "15  0.340179   eval_loss      8  indobert_base_p2  91.34\n",
       "16  0.001376  train_loss      9  indobert_base_p2  91.34\n",
       "17  0.285433   eval_loss      9  indobert_base_p2  91.34\n",
       "18  0.001148  train_loss     10  indobert_base_p2  91.34\n",
       "19  0.273711   eval_loss     10  indobert_base_p2  91.34"
      ]
     },
     "execution_count": 34,
     "metadata": {},
     "output_type": "execute_result"
    }
   ],
   "source": [
    "new_df_loss"
   ]
  },
  {
   "cell_type": "code",
   "execution_count": 35,
   "metadata": {},
   "outputs": [
    {
     "data": {
      "text/plain": [
       "[93.2, 91.34]"
      ]
     },
     "execution_count": 35,
     "metadata": {},
     "output_type": "execute_result"
    }
   ],
   "source": [
    "accuracy = sorted(accuracy, reverse=True)\n",
    "accuracy"
   ]
  },
  {
   "cell_type": "code",
   "execution_count": 51,
   "metadata": {},
   "outputs": [],
   "source": [
    "new_df = pd.DataFrame()\n",
    "for acc in accuracy:\n",
    "        df_temp = new_df_loss.loc[new_df_loss['acc']==acc]\n",
    "        new_df = pd.concat([new_df, df_temp], ignore_index=True)"
   ]
  },
  {
   "cell_type": "code",
   "execution_count": 52,
   "metadata": {},
   "outputs": [
    {
     "data": {
      "text/plain": [
       "array(['indobert_base_p1', 'indobert_base_p2'], dtype=object)"
      ]
     },
     "execution_count": 52,
     "metadata": {},
     "output_type": "execute_result"
    }
   ],
   "source": [
    "new_df['model'].unique()"
   ]
  },
  {
   "cell_type": "code",
   "execution_count": 53,
   "metadata": {},
   "outputs": [
    {
     "data": {
      "application/vnd.plotly.v1+json": {
       "config": {
        "plotlyServerURL": "https://plot.ly"
       },
       "data": [
        {
         "hovertemplate": "type=train_loss<br>model=indobert_base_p1<br>epoch=%{x}<br>loss=%{y}<extra></extra>",
         "legendgroup": "train_loss",
         "line": {
          "color": "#636efa",
          "dash": "solid"
         },
         "marker": {
          "symbol": "circle"
         },
         "mode": "markers+lines",
         "name": "train_loss",
         "orientation": "v",
         "showlegend": true,
         "type": "scatter",
         "x": [
          1,
          2,
          3,
          4,
          5,
          6,
          7,
          8,
          9,
          10
         ],
         "xaxis": "x",
         "y": [
          0.4184771180152893,
          0.223724752664566,
          0.0394481644034385,
          0.1335265487432479,
          0.1529097557067871,
          0.0175588931888341,
          0.0011434872867539,
          0.0039772987365722,
          0.0008462349651381,
          0.0342290177941322
         ],
         "yaxis": "y"
        },
        {
         "hovertemplate": "type=train_loss<br>model=indobert_base_p2<br>epoch=%{x}<br>loss=%{y}<extra></extra>",
         "legendgroup": "train_loss",
         "line": {
          "color": "#636efa",
          "dash": "solid"
         },
         "marker": {
          "symbol": "circle"
         },
         "mode": "markers+lines",
         "name": "train_loss",
         "orientation": "v",
         "showlegend": false,
         "type": "scatter",
         "x": [
          1,
          2,
          3,
          4,
          5,
          6,
          7,
          8,
          9,
          10
         ],
         "xaxis": "x2",
         "y": [
          0.4698574841022491,
          0.3313426375389099,
          0.1291010528802871,
          0.2983281016349792,
          0.0082180574536323,
          0.0045388746075332,
          0.2366923689842224,
          0.0019505870295688,
          0.0013762750895693,
          0.0011476700892671
         ],
         "yaxis": "y2"
        },
        {
         "hovertemplate": "type=eval_loss<br>model=indobert_base_p1<br>epoch=%{x}<br>loss=%{y}<extra></extra>",
         "legendgroup": "eval_loss",
         "line": {
          "color": "#EF553B",
          "dash": "solid"
         },
         "marker": {
          "symbol": "circle"
         },
         "mode": "markers+lines",
         "name": "eval_loss",
         "orientation": "v",
         "showlegend": true,
         "type": "scatter",
         "x": [
          1,
          2,
          3,
          4,
          5,
          6,
          7,
          8,
          9,
          10
         ],
         "xaxis": "x",
         "y": [
          0.3201197695732116,
          0.3009369254112243,
          0.2113139986991882,
          0.1815282171964645,
          0.2452370524406433,
          0.2711046624183655,
          0.3180481427907943,
          0.4071543198823928,
          0.3675090909004211,
          0.3702615410089492
         ],
         "yaxis": "y"
        },
        {
         "hovertemplate": "type=eval_loss<br>model=indobert_base_p2<br>epoch=%{x}<br>loss=%{y}<extra></extra>",
         "legendgroup": "eval_loss",
         "line": {
          "color": "#EF553B",
          "dash": "solid"
         },
         "marker": {
          "symbol": "circle"
         },
         "mode": "markers+lines",
         "name": "eval_loss",
         "orientation": "v",
         "showlegend": false,
         "type": "scatter",
         "x": [
          1,
          2,
          3,
          4,
          5,
          6,
          7,
          8,
          9,
          10
         ],
         "xaxis": "x2",
         "y": [
          0.273766393661499,
          0.1884332513809204,
          0.2909419298171997,
          0.2931656265258789,
          0.266039514541626,
          0.2694716453552246,
          0.2961055135726929,
          0.3401793527603149,
          0.2854327702522278,
          0.273711187839508
         ],
         "yaxis": "y2"
        }
       ],
       "layout": {
        "annotations": [
         {
          "showarrow": false,
          "text": "model=indobert_base_p1",
          "x": 0.245,
          "xanchor": "center",
          "xref": "paper",
          "y": 1,
          "yanchor": "bottom",
          "yref": "paper"
         },
         {
          "showarrow": false,
          "text": "model=indobert_base_p2",
          "x": 0.755,
          "xanchor": "center",
          "xref": "paper",
          "y": 1,
          "yanchor": "bottom",
          "yref": "paper"
         },
         {
          "text": "F1 Score Best Model: 93.2",
          "x": 0.5,
          "xref": "x domain",
          "y": 0.7,
          "yref": "y domain"
         },
         {
          "text": "F1 Score Best Model: 91.34",
          "x": 0.7,
          "xref": "x2 domain",
          "y": 0.7,
          "yref": "y2 domain"
         }
        ],
        "height": 800,
        "legend": {
         "title": {
          "text": "type"
         },
         "tracegroupgap": 0
        },
        "margin": {
         "t": 60
        },
        "template": {
         "data": {
          "bar": [
           {
            "error_x": {
             "color": "#2a3f5f"
            },
            "error_y": {
             "color": "#2a3f5f"
            },
            "marker": {
             "line": {
              "color": "#E5ECF6",
              "width": 0.5
             },
             "pattern": {
              "fillmode": "overlay",
              "size": 10,
              "solidity": 0.2
             }
            },
            "type": "bar"
           }
          ],
          "barpolar": [
           {
            "marker": {
             "line": {
              "color": "#E5ECF6",
              "width": 0.5
             },
             "pattern": {
              "fillmode": "overlay",
              "size": 10,
              "solidity": 0.2
             }
            },
            "type": "barpolar"
           }
          ],
          "carpet": [
           {
            "aaxis": {
             "endlinecolor": "#2a3f5f",
             "gridcolor": "white",
             "linecolor": "white",
             "minorgridcolor": "white",
             "startlinecolor": "#2a3f5f"
            },
            "baxis": {
             "endlinecolor": "#2a3f5f",
             "gridcolor": "white",
             "linecolor": "white",
             "minorgridcolor": "white",
             "startlinecolor": "#2a3f5f"
            },
            "type": "carpet"
           }
          ],
          "choropleth": [
           {
            "colorbar": {
             "outlinewidth": 0,
             "ticks": ""
            },
            "type": "choropleth"
           }
          ],
          "contour": [
           {
            "colorbar": {
             "outlinewidth": 0,
             "ticks": ""
            },
            "colorscale": [
             [
              0,
              "#0d0887"
             ],
             [
              0.1111111111111111,
              "#46039f"
             ],
             [
              0.2222222222222222,
              "#7201a8"
             ],
             [
              0.3333333333333333,
              "#9c179e"
             ],
             [
              0.4444444444444444,
              "#bd3786"
             ],
             [
              0.5555555555555556,
              "#d8576b"
             ],
             [
              0.6666666666666666,
              "#ed7953"
             ],
             [
              0.7777777777777778,
              "#fb9f3a"
             ],
             [
              0.8888888888888888,
              "#fdca26"
             ],
             [
              1,
              "#f0f921"
             ]
            ],
            "type": "contour"
           }
          ],
          "contourcarpet": [
           {
            "colorbar": {
             "outlinewidth": 0,
             "ticks": ""
            },
            "type": "contourcarpet"
           }
          ],
          "heatmap": [
           {
            "colorbar": {
             "outlinewidth": 0,
             "ticks": ""
            },
            "colorscale": [
             [
              0,
              "#0d0887"
             ],
             [
              0.1111111111111111,
              "#46039f"
             ],
             [
              0.2222222222222222,
              "#7201a8"
             ],
             [
              0.3333333333333333,
              "#9c179e"
             ],
             [
              0.4444444444444444,
              "#bd3786"
             ],
             [
              0.5555555555555556,
              "#d8576b"
             ],
             [
              0.6666666666666666,
              "#ed7953"
             ],
             [
              0.7777777777777778,
              "#fb9f3a"
             ],
             [
              0.8888888888888888,
              "#fdca26"
             ],
             [
              1,
              "#f0f921"
             ]
            ],
            "type": "heatmap"
           }
          ],
          "heatmapgl": [
           {
            "colorbar": {
             "outlinewidth": 0,
             "ticks": ""
            },
            "colorscale": [
             [
              0,
              "#0d0887"
             ],
             [
              0.1111111111111111,
              "#46039f"
             ],
             [
              0.2222222222222222,
              "#7201a8"
             ],
             [
              0.3333333333333333,
              "#9c179e"
             ],
             [
              0.4444444444444444,
              "#bd3786"
             ],
             [
              0.5555555555555556,
              "#d8576b"
             ],
             [
              0.6666666666666666,
              "#ed7953"
             ],
             [
              0.7777777777777778,
              "#fb9f3a"
             ],
             [
              0.8888888888888888,
              "#fdca26"
             ],
             [
              1,
              "#f0f921"
             ]
            ],
            "type": "heatmapgl"
           }
          ],
          "histogram": [
           {
            "marker": {
             "pattern": {
              "fillmode": "overlay",
              "size": 10,
              "solidity": 0.2
             }
            },
            "type": "histogram"
           }
          ],
          "histogram2d": [
           {
            "colorbar": {
             "outlinewidth": 0,
             "ticks": ""
            },
            "colorscale": [
             [
              0,
              "#0d0887"
             ],
             [
              0.1111111111111111,
              "#46039f"
             ],
             [
              0.2222222222222222,
              "#7201a8"
             ],
             [
              0.3333333333333333,
              "#9c179e"
             ],
             [
              0.4444444444444444,
              "#bd3786"
             ],
             [
              0.5555555555555556,
              "#d8576b"
             ],
             [
              0.6666666666666666,
              "#ed7953"
             ],
             [
              0.7777777777777778,
              "#fb9f3a"
             ],
             [
              0.8888888888888888,
              "#fdca26"
             ],
             [
              1,
              "#f0f921"
             ]
            ],
            "type": "histogram2d"
           }
          ],
          "histogram2dcontour": [
           {
            "colorbar": {
             "outlinewidth": 0,
             "ticks": ""
            },
            "colorscale": [
             [
              0,
              "#0d0887"
             ],
             [
              0.1111111111111111,
              "#46039f"
             ],
             [
              0.2222222222222222,
              "#7201a8"
             ],
             [
              0.3333333333333333,
              "#9c179e"
             ],
             [
              0.4444444444444444,
              "#bd3786"
             ],
             [
              0.5555555555555556,
              "#d8576b"
             ],
             [
              0.6666666666666666,
              "#ed7953"
             ],
             [
              0.7777777777777778,
              "#fb9f3a"
             ],
             [
              0.8888888888888888,
              "#fdca26"
             ],
             [
              1,
              "#f0f921"
             ]
            ],
            "type": "histogram2dcontour"
           }
          ],
          "mesh3d": [
           {
            "colorbar": {
             "outlinewidth": 0,
             "ticks": ""
            },
            "type": "mesh3d"
           }
          ],
          "parcoords": [
           {
            "line": {
             "colorbar": {
              "outlinewidth": 0,
              "ticks": ""
             }
            },
            "type": "parcoords"
           }
          ],
          "pie": [
           {
            "automargin": true,
            "type": "pie"
           }
          ],
          "scatter": [
           {
            "fillpattern": {
             "fillmode": "overlay",
             "size": 10,
             "solidity": 0.2
            },
            "type": "scatter"
           }
          ],
          "scatter3d": [
           {
            "line": {
             "colorbar": {
              "outlinewidth": 0,
              "ticks": ""
             }
            },
            "marker": {
             "colorbar": {
              "outlinewidth": 0,
              "ticks": ""
             }
            },
            "type": "scatter3d"
           }
          ],
          "scattercarpet": [
           {
            "marker": {
             "colorbar": {
              "outlinewidth": 0,
              "ticks": ""
             }
            },
            "type": "scattercarpet"
           }
          ],
          "scattergeo": [
           {
            "marker": {
             "colorbar": {
              "outlinewidth": 0,
              "ticks": ""
             }
            },
            "type": "scattergeo"
           }
          ],
          "scattergl": [
           {
            "marker": {
             "colorbar": {
              "outlinewidth": 0,
              "ticks": ""
             }
            },
            "type": "scattergl"
           }
          ],
          "scattermapbox": [
           {
            "marker": {
             "colorbar": {
              "outlinewidth": 0,
              "ticks": ""
             }
            },
            "type": "scattermapbox"
           }
          ],
          "scatterpolar": [
           {
            "marker": {
             "colorbar": {
              "outlinewidth": 0,
              "ticks": ""
             }
            },
            "type": "scatterpolar"
           }
          ],
          "scatterpolargl": [
           {
            "marker": {
             "colorbar": {
              "outlinewidth": 0,
              "ticks": ""
             }
            },
            "type": "scatterpolargl"
           }
          ],
          "scatterternary": [
           {
            "marker": {
             "colorbar": {
              "outlinewidth": 0,
              "ticks": ""
             }
            },
            "type": "scatterternary"
           }
          ],
          "surface": [
           {
            "colorbar": {
             "outlinewidth": 0,
             "ticks": ""
            },
            "colorscale": [
             [
              0,
              "#0d0887"
             ],
             [
              0.1111111111111111,
              "#46039f"
             ],
             [
              0.2222222222222222,
              "#7201a8"
             ],
             [
              0.3333333333333333,
              "#9c179e"
             ],
             [
              0.4444444444444444,
              "#bd3786"
             ],
             [
              0.5555555555555556,
              "#d8576b"
             ],
             [
              0.6666666666666666,
              "#ed7953"
             ],
             [
              0.7777777777777778,
              "#fb9f3a"
             ],
             [
              0.8888888888888888,
              "#fdca26"
             ],
             [
              1,
              "#f0f921"
             ]
            ],
            "type": "surface"
           }
          ],
          "table": [
           {
            "cells": {
             "fill": {
              "color": "#EBF0F8"
             },
             "line": {
              "color": "white"
             }
            },
            "header": {
             "fill": {
              "color": "#C8D4E3"
             },
             "line": {
              "color": "white"
             }
            },
            "type": "table"
           }
          ]
         },
         "layout": {
          "annotationdefaults": {
           "arrowcolor": "#2a3f5f",
           "arrowhead": 0,
           "arrowwidth": 1
          },
          "autotypenumbers": "strict",
          "coloraxis": {
           "colorbar": {
            "outlinewidth": 0,
            "ticks": ""
           }
          },
          "colorscale": {
           "diverging": [
            [
             0,
             "#8e0152"
            ],
            [
             0.1,
             "#c51b7d"
            ],
            [
             0.2,
             "#de77ae"
            ],
            [
             0.3,
             "#f1b6da"
            ],
            [
             0.4,
             "#fde0ef"
            ],
            [
             0.5,
             "#f7f7f7"
            ],
            [
             0.6,
             "#e6f5d0"
            ],
            [
             0.7,
             "#b8e186"
            ],
            [
             0.8,
             "#7fbc41"
            ],
            [
             0.9,
             "#4d9221"
            ],
            [
             1,
             "#276419"
            ]
           ],
           "sequential": [
            [
             0,
             "#0d0887"
            ],
            [
             0.1111111111111111,
             "#46039f"
            ],
            [
             0.2222222222222222,
             "#7201a8"
            ],
            [
             0.3333333333333333,
             "#9c179e"
            ],
            [
             0.4444444444444444,
             "#bd3786"
            ],
            [
             0.5555555555555556,
             "#d8576b"
            ],
            [
             0.6666666666666666,
             "#ed7953"
            ],
            [
             0.7777777777777778,
             "#fb9f3a"
            ],
            [
             0.8888888888888888,
             "#fdca26"
            ],
            [
             1,
             "#f0f921"
            ]
           ],
           "sequentialminus": [
            [
             0,
             "#0d0887"
            ],
            [
             0.1111111111111111,
             "#46039f"
            ],
            [
             0.2222222222222222,
             "#7201a8"
            ],
            [
             0.3333333333333333,
             "#9c179e"
            ],
            [
             0.4444444444444444,
             "#bd3786"
            ],
            [
             0.5555555555555556,
             "#d8576b"
            ],
            [
             0.6666666666666666,
             "#ed7953"
            ],
            [
             0.7777777777777778,
             "#fb9f3a"
            ],
            [
             0.8888888888888888,
             "#fdca26"
            ],
            [
             1,
             "#f0f921"
            ]
           ]
          },
          "colorway": [
           "#636efa",
           "#EF553B",
           "#00cc96",
           "#ab63fa",
           "#FFA15A",
           "#19d3f3",
           "#FF6692",
           "#B6E880",
           "#FF97FF",
           "#FECB52"
          ],
          "font": {
           "color": "#2a3f5f"
          },
          "geo": {
           "bgcolor": "white",
           "lakecolor": "white",
           "landcolor": "#E5ECF6",
           "showlakes": true,
           "showland": true,
           "subunitcolor": "white"
          },
          "hoverlabel": {
           "align": "left"
          },
          "hovermode": "closest",
          "mapbox": {
           "style": "light"
          },
          "paper_bgcolor": "white",
          "plot_bgcolor": "#E5ECF6",
          "polar": {
           "angularaxis": {
            "gridcolor": "white",
            "linecolor": "white",
            "ticks": ""
           },
           "bgcolor": "#E5ECF6",
           "radialaxis": {
            "gridcolor": "white",
            "linecolor": "white",
            "ticks": ""
           }
          },
          "scene": {
           "xaxis": {
            "backgroundcolor": "#E5ECF6",
            "gridcolor": "white",
            "gridwidth": 2,
            "linecolor": "white",
            "showbackground": true,
            "ticks": "",
            "zerolinecolor": "white"
           },
           "yaxis": {
            "backgroundcolor": "#E5ECF6",
            "gridcolor": "white",
            "gridwidth": 2,
            "linecolor": "white",
            "showbackground": true,
            "ticks": "",
            "zerolinecolor": "white"
           },
           "zaxis": {
            "backgroundcolor": "#E5ECF6",
            "gridcolor": "white",
            "gridwidth": 2,
            "linecolor": "white",
            "showbackground": true,
            "ticks": "",
            "zerolinecolor": "white"
           }
          },
          "shapedefaults": {
           "line": {
            "color": "#2a3f5f"
           }
          },
          "ternary": {
           "aaxis": {
            "gridcolor": "white",
            "linecolor": "white",
            "ticks": ""
           },
           "baxis": {
            "gridcolor": "white",
            "linecolor": "white",
            "ticks": ""
           },
           "bgcolor": "#E5ECF6",
           "caxis": {
            "gridcolor": "white",
            "linecolor": "white",
            "ticks": ""
           }
          },
          "title": {
           "x": 0.05
          },
          "xaxis": {
           "automargin": true,
           "gridcolor": "white",
           "linecolor": "white",
           "ticks": "",
           "title": {
            "standoff": 15
           },
           "zerolinecolor": "white",
           "zerolinewidth": 2
          },
          "yaxis": {
           "automargin": true,
           "gridcolor": "white",
           "linecolor": "white",
           "ticks": "",
           "title": {
            "standoff": 15
           },
           "zerolinecolor": "white",
           "zerolinewidth": 2
          }
         }
        },
        "width": 1700,
        "xaxis": {
         "anchor": "y",
         "domain": [
          0,
          0.49
         ],
         "title": {
          "text": "epoch"
         }
        },
        "xaxis2": {
         "anchor": "y2",
         "domain": [
          0.51,
          1
         ],
         "matches": "x",
         "title": {
          "text": "epoch"
         }
        },
        "yaxis": {
         "anchor": "x",
         "domain": [
          0,
          1
         ],
         "title": {
          "text": "loss"
         }
        },
        "yaxis2": {
         "anchor": "x2",
         "domain": [
          0,
          1
         ],
         "matches": "y",
         "showticklabels": false
        }
       }
      }
     },
     "metadata": {},
     "output_type": "display_data"
    }
   ],
   "source": [
    "fig = px.line(new_df, y='loss', x='epoch', markers=True, color='type', facet_col='model', facet_col_wrap=4, width=1700, height=800, \n",
    "                )\n",
    "fig.add_annotation(\n",
    "    xref=\"x domain\",\n",
    "    yref=\"y domain\",\n",
    "    # The arrow head will be 25% along the x axis, starting from the left\n",
    "    x=0.5,\n",
    "    # The arrow head will be 40% along the y axis, starting from the bottom\n",
    "    y=0.7,\n",
    "    text=f\"F1 Score Best Model: {accuracy[0]}\",\n",
    "    row=0, col=1\n",
    ")\n",
    "fig.add_annotation(\n",
    "    xref=\"x domain\",\n",
    "    yref=\"y domain\",\n",
    "    # The arrow head will be 25% along the x axis, starting from the left\n",
    "    x=0.7,\n",
    "    # The arrow head will be 40% along the y axis, starting from the bottom\n",
    "    y=0.7,\n",
    "    text=f\"F1 Score Best Model: {accuracy[1]}\",\n",
    "    row=0, col=2\n",
    ")\n",
    "fig.show()"
   ]
  },
  {
   "cell_type": "code",
   "execution_count": null,
   "metadata": {},
   "outputs": [],
   "source": []
  },
  {
   "cell_type": "code",
   "execution_count": null,
   "metadata": {},
   "outputs": [],
   "source": []
  },
  {
   "cell_type": "code",
   "execution_count": null,
   "metadata": {},
   "outputs": [],
   "source": []
  },
  {
   "cell_type": "code",
   "execution_count": null,
   "metadata": {},
   "outputs": [],
   "source": []
  },
  {
   "cell_type": "code",
   "execution_count": 9,
   "metadata": {},
   "outputs": [],
   "source": [
    "new_df = pd.read_csv('result/training_progress.csv', sep=';')"
   ]
  },
  {
   "cell_type": "code",
   "execution_count": 10,
   "metadata": {},
   "outputs": [
    {
     "data": {
      "text/html": [
       "<div>\n",
       "<style scoped>\n",
       "    .dataframe tbody tr th:only-of-type {\n",
       "        vertical-align: middle;\n",
       "    }\n",
       "\n",
       "    .dataframe tbody tr th {\n",
       "        vertical-align: top;\n",
       "    }\n",
       "\n",
       "    .dataframe thead th {\n",
       "        text-align: right;\n",
       "    }\n",
       "</style>\n",
       "<table border=\"1\" class=\"dataframe\">\n",
       "  <thead>\n",
       "    <tr style=\"text-align: right;\">\n",
       "      <th></th>\n",
       "      <th>loss</th>\n",
       "      <th>type</th>\n",
       "      <th>epoch</th>\n",
       "      <th>model</th>\n",
       "      <th>acc</th>\n",
       "    </tr>\n",
       "  </thead>\n",
       "  <tbody>\n",
       "    <tr>\n",
       "      <th>35</th>\n",
       "      <td>0.114907</td>\n",
       "      <td>val_loss</td>\n",
       "      <td>6</td>\n",
       "      <td>indobert_base_p2</td>\n",
       "      <td>91.8</td>\n",
       "    </tr>\n",
       "    <tr>\n",
       "      <th>36</th>\n",
       "      <td>0.095630</td>\n",
       "      <td>val_loss</td>\n",
       "      <td>7</td>\n",
       "      <td>indobert_base_p2</td>\n",
       "      <td>91.8</td>\n",
       "    </tr>\n",
       "    <tr>\n",
       "      <th>37</th>\n",
       "      <td>0.091967</td>\n",
       "      <td>val_loss</td>\n",
       "      <td>8</td>\n",
       "      <td>indobert_base_p2</td>\n",
       "      <td>91.8</td>\n",
       "    </tr>\n",
       "    <tr>\n",
       "      <th>38</th>\n",
       "      <td>0.107147</td>\n",
       "      <td>val_loss</td>\n",
       "      <td>9</td>\n",
       "      <td>indobert_base_p2</td>\n",
       "      <td>91.8</td>\n",
       "    </tr>\n",
       "    <tr>\n",
       "      <th>39</th>\n",
       "      <td>0.084674</td>\n",
       "      <td>val_loss</td>\n",
       "      <td>10</td>\n",
       "      <td>indobert_base_p2</td>\n",
       "      <td>91.8</td>\n",
       "    </tr>\n",
       "  </tbody>\n",
       "</table>\n",
       "</div>"
      ],
      "text/plain": [
       "        loss      type  epoch             model   acc\n",
       "35  0.114907  val_loss      6  indobert_base_p2  91.8\n",
       "36  0.095630  val_loss      7  indobert_base_p2  91.8\n",
       "37  0.091967  val_loss      8  indobert_base_p2  91.8\n",
       "38  0.107147  val_loss      9  indobert_base_p2  91.8\n",
       "39  0.084674  val_loss     10  indobert_base_p2  91.8"
      ]
     },
     "execution_count": 10,
     "metadata": {},
     "output_type": "execute_result"
    }
   ],
   "source": [
    "new_df.tail()"
   ]
  },
  {
   "cell_type": "code",
   "execution_count": 11,
   "metadata": {},
   "outputs": [
    {
     "data": {
      "application/vnd.plotly.v1+json": {
       "config": {
        "plotlyServerURL": "https://plot.ly"
       },
       "data": [
        {
         "hovertemplate": "type=train_loss<br>model=indobert_base_p1<br>epoch=%{x}<br>loss=%{y}<extra></extra>",
         "legendgroup": "train_loss",
         "line": {
          "color": "#636efa",
          "dash": "solid"
         },
         "marker": {
          "symbol": "circle"
         },
         "mode": "lines+markers",
         "name": "train_loss",
         "orientation": "v",
         "showlegend": true,
         "type": "scatter",
         "x": [
          1,
          2,
          3,
          4,
          5,
          6,
          7,
          8,
          9,
          10
         ],
         "xaxis": "x",
         "y": [
          0.2596078751942264,
          0.168705491632667,
          0.1329573517235473,
          0.0952901701071042,
          0.0662654798530462,
          0.0449557453265181,
          0.0318749502392493,
          0.0226376865240696,
          0.0253173414841334,
          0.0126623471199388
         ],
         "yaxis": "y"
        },
        {
         "hovertemplate": "type=train_loss<br>model=indobert_base_p2<br>epoch=%{x}<br>loss=%{y}<extra></extra>",
         "legendgroup": "train_loss",
         "line": {
          "color": "#636efa",
          "dash": "solid"
         },
         "marker": {
          "symbol": "circle"
         },
         "mode": "lines+markers",
         "name": "train_loss",
         "orientation": "v",
         "showlegend": false,
         "type": "scatter",
         "x": [
          1,
          2,
          3,
          4,
          5,
          6,
          7,
          8,
          9,
          10
         ],
         "xaxis": "x2",
         "y": [
          0.2487685916549265,
          0.1388230595180986,
          0.0885676845538456,
          0.0585142492281102,
          0.0424700266370608,
          0.0286420338031166,
          0.0215953820296673,
          0.0178017431856001,
          0.0152223099815862,
          0.0158606344054968
         ],
         "yaxis": "y2"
        },
        {
         "hovertemplate": "type=val_loss<br>model=indobert_base_p1<br>epoch=%{x}<br>loss=%{y}<extra></extra>",
         "legendgroup": "val_loss",
         "line": {
          "color": "#EF553B",
          "dash": "solid"
         },
         "marker": {
          "symbol": "circle"
         },
         "mode": "lines+markers",
         "name": "val_loss",
         "orientation": "v",
         "showlegend": true,
         "type": "scatter",
         "x": [
          1,
          2,
          3,
          4,
          5,
          6,
          7,
          8,
          9,
          10
         ],
         "xaxis": "x",
         "y": [
          0.1796431458826306,
          0.1560422089021605,
          0.1293371197696822,
          0.1234004941627477,
          0.107133196945644,
          0.089979907540793,
          0.0911512189364956,
          0.1193481219558139,
          0.0979389391886659,
          0.1147245832394714
         ],
         "yaxis": "y"
        },
        {
         "hovertemplate": "type=val_loss<br>model=indobert_base_p2<br>epoch=%{x}<br>loss=%{y}<extra></extra>",
         "legendgroup": "val_loss",
         "line": {
          "color": "#EF553B",
          "dash": "solid"
         },
         "marker": {
          "symbol": "circle"
         },
         "mode": "lines+markers",
         "name": "val_loss",
         "orientation": "v",
         "showlegend": false,
         "type": "scatter",
         "x": [
          1,
          2,
          3,
          4,
          5,
          6,
          7,
          8,
          9,
          10
         ],
         "xaxis": "x2",
         "y": [
          0.1740721706395285,
          0.1203576807734332,
          0.0883693432565071,
          0.0931642810601882,
          0.0901293217452078,
          0.1149073918432563,
          0.0956295577349447,
          0.0919674520124386,
          0.1071467942679065,
          0.0846743473317474
         ],
         "yaxis": "y2"
        }
       ],
       "layout": {
        "annotations": [
         {
          "showarrow": false,
          "text": "model=indobert_base_p1",
          "x": 0.245,
          "xanchor": "center",
          "xref": "paper",
          "y": 1,
          "yanchor": "bottom",
          "yref": "paper"
         },
         {
          "showarrow": false,
          "text": "model=indobert_base_p2",
          "x": 0.755,
          "xanchor": "center",
          "xref": "paper",
          "y": 1,
          "yanchor": "bottom",
          "yref": "paper"
         },
         {
          "text": "F1 Score Best Model: 92.7",
          "x": 0.5,
          "xref": "x domain",
          "y": 0.7,
          "yref": "y domain"
         },
         {
          "text": "F1 Score Best Model: 91.8",
          "x": 0.7,
          "xref": "x2 domain",
          "y": 0.7,
          "yref": "y2 domain"
         }
        ],
        "height": 800,
        "legend": {
         "title": {
          "text": "type"
         },
         "tracegroupgap": 0
        },
        "margin": {
         "t": 60
        },
        "template": {
         "data": {
          "bar": [
           {
            "error_x": {
             "color": "#2a3f5f"
            },
            "error_y": {
             "color": "#2a3f5f"
            },
            "marker": {
             "line": {
              "color": "#E5ECF6",
              "width": 0.5
             },
             "pattern": {
              "fillmode": "overlay",
              "size": 10,
              "solidity": 0.2
             }
            },
            "type": "bar"
           }
          ],
          "barpolar": [
           {
            "marker": {
             "line": {
              "color": "#E5ECF6",
              "width": 0.5
             },
             "pattern": {
              "fillmode": "overlay",
              "size": 10,
              "solidity": 0.2
             }
            },
            "type": "barpolar"
           }
          ],
          "carpet": [
           {
            "aaxis": {
             "endlinecolor": "#2a3f5f",
             "gridcolor": "white",
             "linecolor": "white",
             "minorgridcolor": "white",
             "startlinecolor": "#2a3f5f"
            },
            "baxis": {
             "endlinecolor": "#2a3f5f",
             "gridcolor": "white",
             "linecolor": "white",
             "minorgridcolor": "white",
             "startlinecolor": "#2a3f5f"
            },
            "type": "carpet"
           }
          ],
          "choropleth": [
           {
            "colorbar": {
             "outlinewidth": 0,
             "ticks": ""
            },
            "type": "choropleth"
           }
          ],
          "contour": [
           {
            "colorbar": {
             "outlinewidth": 0,
             "ticks": ""
            },
            "colorscale": [
             [
              0,
              "#0d0887"
             ],
             [
              0.1111111111111111,
              "#46039f"
             ],
             [
              0.2222222222222222,
              "#7201a8"
             ],
             [
              0.3333333333333333,
              "#9c179e"
             ],
             [
              0.4444444444444444,
              "#bd3786"
             ],
             [
              0.5555555555555556,
              "#d8576b"
             ],
             [
              0.6666666666666666,
              "#ed7953"
             ],
             [
              0.7777777777777778,
              "#fb9f3a"
             ],
             [
              0.8888888888888888,
              "#fdca26"
             ],
             [
              1,
              "#f0f921"
             ]
            ],
            "type": "contour"
           }
          ],
          "contourcarpet": [
           {
            "colorbar": {
             "outlinewidth": 0,
             "ticks": ""
            },
            "type": "contourcarpet"
           }
          ],
          "heatmap": [
           {
            "colorbar": {
             "outlinewidth": 0,
             "ticks": ""
            },
            "colorscale": [
             [
              0,
              "#0d0887"
             ],
             [
              0.1111111111111111,
              "#46039f"
             ],
             [
              0.2222222222222222,
              "#7201a8"
             ],
             [
              0.3333333333333333,
              "#9c179e"
             ],
             [
              0.4444444444444444,
              "#bd3786"
             ],
             [
              0.5555555555555556,
              "#d8576b"
             ],
             [
              0.6666666666666666,
              "#ed7953"
             ],
             [
              0.7777777777777778,
              "#fb9f3a"
             ],
             [
              0.8888888888888888,
              "#fdca26"
             ],
             [
              1,
              "#f0f921"
             ]
            ],
            "type": "heatmap"
           }
          ],
          "heatmapgl": [
           {
            "colorbar": {
             "outlinewidth": 0,
             "ticks": ""
            },
            "colorscale": [
             [
              0,
              "#0d0887"
             ],
             [
              0.1111111111111111,
              "#46039f"
             ],
             [
              0.2222222222222222,
              "#7201a8"
             ],
             [
              0.3333333333333333,
              "#9c179e"
             ],
             [
              0.4444444444444444,
              "#bd3786"
             ],
             [
              0.5555555555555556,
              "#d8576b"
             ],
             [
              0.6666666666666666,
              "#ed7953"
             ],
             [
              0.7777777777777778,
              "#fb9f3a"
             ],
             [
              0.8888888888888888,
              "#fdca26"
             ],
             [
              1,
              "#f0f921"
             ]
            ],
            "type": "heatmapgl"
           }
          ],
          "histogram": [
           {
            "marker": {
             "pattern": {
              "fillmode": "overlay",
              "size": 10,
              "solidity": 0.2
             }
            },
            "type": "histogram"
           }
          ],
          "histogram2d": [
           {
            "colorbar": {
             "outlinewidth": 0,
             "ticks": ""
            },
            "colorscale": [
             [
              0,
              "#0d0887"
             ],
             [
              0.1111111111111111,
              "#46039f"
             ],
             [
              0.2222222222222222,
              "#7201a8"
             ],
             [
              0.3333333333333333,
              "#9c179e"
             ],
             [
              0.4444444444444444,
              "#bd3786"
             ],
             [
              0.5555555555555556,
              "#d8576b"
             ],
             [
              0.6666666666666666,
              "#ed7953"
             ],
             [
              0.7777777777777778,
              "#fb9f3a"
             ],
             [
              0.8888888888888888,
              "#fdca26"
             ],
             [
              1,
              "#f0f921"
             ]
            ],
            "type": "histogram2d"
           }
          ],
          "histogram2dcontour": [
           {
            "colorbar": {
             "outlinewidth": 0,
             "ticks": ""
            },
            "colorscale": [
             [
              0,
              "#0d0887"
             ],
             [
              0.1111111111111111,
              "#46039f"
             ],
             [
              0.2222222222222222,
              "#7201a8"
             ],
             [
              0.3333333333333333,
              "#9c179e"
             ],
             [
              0.4444444444444444,
              "#bd3786"
             ],
             [
              0.5555555555555556,
              "#d8576b"
             ],
             [
              0.6666666666666666,
              "#ed7953"
             ],
             [
              0.7777777777777778,
              "#fb9f3a"
             ],
             [
              0.8888888888888888,
              "#fdca26"
             ],
             [
              1,
              "#f0f921"
             ]
            ],
            "type": "histogram2dcontour"
           }
          ],
          "mesh3d": [
           {
            "colorbar": {
             "outlinewidth": 0,
             "ticks": ""
            },
            "type": "mesh3d"
           }
          ],
          "parcoords": [
           {
            "line": {
             "colorbar": {
              "outlinewidth": 0,
              "ticks": ""
             }
            },
            "type": "parcoords"
           }
          ],
          "pie": [
           {
            "automargin": true,
            "type": "pie"
           }
          ],
          "scatter": [
           {
            "fillpattern": {
             "fillmode": "overlay",
             "size": 10,
             "solidity": 0.2
            },
            "type": "scatter"
           }
          ],
          "scatter3d": [
           {
            "line": {
             "colorbar": {
              "outlinewidth": 0,
              "ticks": ""
             }
            },
            "marker": {
             "colorbar": {
              "outlinewidth": 0,
              "ticks": ""
             }
            },
            "type": "scatter3d"
           }
          ],
          "scattercarpet": [
           {
            "marker": {
             "colorbar": {
              "outlinewidth": 0,
              "ticks": ""
             }
            },
            "type": "scattercarpet"
           }
          ],
          "scattergeo": [
           {
            "marker": {
             "colorbar": {
              "outlinewidth": 0,
              "ticks": ""
             }
            },
            "type": "scattergeo"
           }
          ],
          "scattergl": [
           {
            "marker": {
             "colorbar": {
              "outlinewidth": 0,
              "ticks": ""
             }
            },
            "type": "scattergl"
           }
          ],
          "scattermapbox": [
           {
            "marker": {
             "colorbar": {
              "outlinewidth": 0,
              "ticks": ""
             }
            },
            "type": "scattermapbox"
           }
          ],
          "scatterpolar": [
           {
            "marker": {
             "colorbar": {
              "outlinewidth": 0,
              "ticks": ""
             }
            },
            "type": "scatterpolar"
           }
          ],
          "scatterpolargl": [
           {
            "marker": {
             "colorbar": {
              "outlinewidth": 0,
              "ticks": ""
             }
            },
            "type": "scatterpolargl"
           }
          ],
          "scatterternary": [
           {
            "marker": {
             "colorbar": {
              "outlinewidth": 0,
              "ticks": ""
             }
            },
            "type": "scatterternary"
           }
          ],
          "surface": [
           {
            "colorbar": {
             "outlinewidth": 0,
             "ticks": ""
            },
            "colorscale": [
             [
              0,
              "#0d0887"
             ],
             [
              0.1111111111111111,
              "#46039f"
             ],
             [
              0.2222222222222222,
              "#7201a8"
             ],
             [
              0.3333333333333333,
              "#9c179e"
             ],
             [
              0.4444444444444444,
              "#bd3786"
             ],
             [
              0.5555555555555556,
              "#d8576b"
             ],
             [
              0.6666666666666666,
              "#ed7953"
             ],
             [
              0.7777777777777778,
              "#fb9f3a"
             ],
             [
              0.8888888888888888,
              "#fdca26"
             ],
             [
              1,
              "#f0f921"
             ]
            ],
            "type": "surface"
           }
          ],
          "table": [
           {
            "cells": {
             "fill": {
              "color": "#EBF0F8"
             },
             "line": {
              "color": "white"
             }
            },
            "header": {
             "fill": {
              "color": "#C8D4E3"
             },
             "line": {
              "color": "white"
             }
            },
            "type": "table"
           }
          ]
         },
         "layout": {
          "annotationdefaults": {
           "arrowcolor": "#2a3f5f",
           "arrowhead": 0,
           "arrowwidth": 1
          },
          "autotypenumbers": "strict",
          "coloraxis": {
           "colorbar": {
            "outlinewidth": 0,
            "ticks": ""
           }
          },
          "colorscale": {
           "diverging": [
            [
             0,
             "#8e0152"
            ],
            [
             0.1,
             "#c51b7d"
            ],
            [
             0.2,
             "#de77ae"
            ],
            [
             0.3,
             "#f1b6da"
            ],
            [
             0.4,
             "#fde0ef"
            ],
            [
             0.5,
             "#f7f7f7"
            ],
            [
             0.6,
             "#e6f5d0"
            ],
            [
             0.7,
             "#b8e186"
            ],
            [
             0.8,
             "#7fbc41"
            ],
            [
             0.9,
             "#4d9221"
            ],
            [
             1,
             "#276419"
            ]
           ],
           "sequential": [
            [
             0,
             "#0d0887"
            ],
            [
             0.1111111111111111,
             "#46039f"
            ],
            [
             0.2222222222222222,
             "#7201a8"
            ],
            [
             0.3333333333333333,
             "#9c179e"
            ],
            [
             0.4444444444444444,
             "#bd3786"
            ],
            [
             0.5555555555555556,
             "#d8576b"
            ],
            [
             0.6666666666666666,
             "#ed7953"
            ],
            [
             0.7777777777777778,
             "#fb9f3a"
            ],
            [
             0.8888888888888888,
             "#fdca26"
            ],
            [
             1,
             "#f0f921"
            ]
           ],
           "sequentialminus": [
            [
             0,
             "#0d0887"
            ],
            [
             0.1111111111111111,
             "#46039f"
            ],
            [
             0.2222222222222222,
             "#7201a8"
            ],
            [
             0.3333333333333333,
             "#9c179e"
            ],
            [
             0.4444444444444444,
             "#bd3786"
            ],
            [
             0.5555555555555556,
             "#d8576b"
            ],
            [
             0.6666666666666666,
             "#ed7953"
            ],
            [
             0.7777777777777778,
             "#fb9f3a"
            ],
            [
             0.8888888888888888,
             "#fdca26"
            ],
            [
             1,
             "#f0f921"
            ]
           ]
          },
          "colorway": [
           "#636efa",
           "#EF553B",
           "#00cc96",
           "#ab63fa",
           "#FFA15A",
           "#19d3f3",
           "#FF6692",
           "#B6E880",
           "#FF97FF",
           "#FECB52"
          ],
          "font": {
           "color": "#2a3f5f"
          },
          "geo": {
           "bgcolor": "white",
           "lakecolor": "white",
           "landcolor": "#E5ECF6",
           "showlakes": true,
           "showland": true,
           "subunitcolor": "white"
          },
          "hoverlabel": {
           "align": "left"
          },
          "hovermode": "closest",
          "mapbox": {
           "style": "light"
          },
          "paper_bgcolor": "white",
          "plot_bgcolor": "#E5ECF6",
          "polar": {
           "angularaxis": {
            "gridcolor": "white",
            "linecolor": "white",
            "ticks": ""
           },
           "bgcolor": "#E5ECF6",
           "radialaxis": {
            "gridcolor": "white",
            "linecolor": "white",
            "ticks": ""
           }
          },
          "scene": {
           "xaxis": {
            "backgroundcolor": "#E5ECF6",
            "gridcolor": "white",
            "gridwidth": 2,
            "linecolor": "white",
            "showbackground": true,
            "ticks": "",
            "zerolinecolor": "white"
           },
           "yaxis": {
            "backgroundcolor": "#E5ECF6",
            "gridcolor": "white",
            "gridwidth": 2,
            "linecolor": "white",
            "showbackground": true,
            "ticks": "",
            "zerolinecolor": "white"
           },
           "zaxis": {
            "backgroundcolor": "#E5ECF6",
            "gridcolor": "white",
            "gridwidth": 2,
            "linecolor": "white",
            "showbackground": true,
            "ticks": "",
            "zerolinecolor": "white"
           }
          },
          "shapedefaults": {
           "line": {
            "color": "#2a3f5f"
           }
          },
          "ternary": {
           "aaxis": {
            "gridcolor": "white",
            "linecolor": "white",
            "ticks": ""
           },
           "baxis": {
            "gridcolor": "white",
            "linecolor": "white",
            "ticks": ""
           },
           "bgcolor": "#E5ECF6",
           "caxis": {
            "gridcolor": "white",
            "linecolor": "white",
            "ticks": ""
           }
          },
          "title": {
           "x": 0.05
          },
          "xaxis": {
           "automargin": true,
           "gridcolor": "white",
           "linecolor": "white",
           "ticks": "",
           "title": {
            "standoff": 15
           },
           "zerolinecolor": "white",
           "zerolinewidth": 2
          },
          "yaxis": {
           "automargin": true,
           "gridcolor": "white",
           "linecolor": "white",
           "ticks": "",
           "title": {
            "standoff": 15
           },
           "zerolinecolor": "white",
           "zerolinewidth": 2
          }
         }
        },
        "width": 1700,
        "xaxis": {
         "anchor": "y",
         "domain": [
          0,
          0.49
         ],
         "title": {
          "text": "epoch"
         }
        },
        "xaxis2": {
         "anchor": "y2",
         "domain": [
          0.51,
          1
         ],
         "matches": "x",
         "title": {
          "text": "epoch"
         }
        },
        "yaxis": {
         "anchor": "x",
         "domain": [
          0,
          1
         ],
         "title": {
          "text": "loss"
         }
        },
        "yaxis2": {
         "anchor": "x2",
         "domain": [
          0,
          1
         ],
         "matches": "y",
         "showticklabels": false
        }
       }
      }
     },
     "metadata": {},
     "output_type": "display_data"
    }
   ],
   "source": [
    "fig = px.line(new_df, y='loss', x='epoch', markers=True, color='type', facet_col='model', facet_col_wrap=4, width=1700, height=800, \n",
    "                )\n",
    "fig.add_annotation(\n",
    "    xref=\"x domain\",\n",
    "    yref=\"y domain\",\n",
    "    # The arrow head will be 25% along the x axis, starting from the left\n",
    "    x=0.5,\n",
    "    # The arrow head will be 40% along the y axis, starting from the bottom\n",
    "    y=0.7,\n",
    "    text=f\"F1 Score Best Model: {new_df['acc'][0]}\",\n",
    "    row=0, col=1\n",
    ")\n",
    "fig.add_annotation(\n",
    "    xref=\"x domain\",\n",
    "    yref=\"y domain\",\n",
    "    # The arrow head will be 25% along the x axis, starting from the left\n",
    "    x=0.7,\n",
    "    # The arrow head will be 40% along the y axis, starting from the bottom\n",
    "    y=0.7,\n",
    "    text=f\"F1 Score Best Model: {new_df['acc'][25]}\",\n",
    "    row=0, col=2\n",
    ")\n",
    "fig.show()"
   ]
  },
  {
   "cell_type": "code",
   "execution_count": null,
   "metadata": {},
   "outputs": [],
   "source": []
  }
 ],
 "metadata": {
  "kernelspec": {
   "display_name": "Python 3.9.7 ('bertClass')",
   "language": "python",
   "name": "python3"
  },
  "language_info": {
   "codemirror_mode": {
    "name": "ipython",
    "version": 3
   },
   "file_extension": ".py",
   "mimetype": "text/x-python",
   "name": "python",
   "nbconvert_exporter": "python",
   "pygments_lexer": "ipython3",
   "version": "3.9.7"
  },
  "orig_nbformat": 4,
  "vscode": {
   "interpreter": {
    "hash": "8a99878c6a92c314e94d3a4d138a1f6ff6d2e216e8b8d331670d92eb51f59927"
   }
  }
 },
 "nbformat": 4,
 "nbformat_minor": 2
}

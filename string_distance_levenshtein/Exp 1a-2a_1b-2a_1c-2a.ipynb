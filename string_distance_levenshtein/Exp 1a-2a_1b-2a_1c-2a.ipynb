{
 "cells": [
  {
   "cell_type": "code",
   "execution_count": 1,
   "id": "c8743d83",
   "metadata": {},
   "outputs": [],
   "source": [
    "import pandas as pd\n",
    "import numpy as np\n",
    "import matplotlib.pyplot as plt\n",
    "import seaborn as sns\n",
    "from levenshtein import levenshtein"
   ]
  },
  {
   "cell_type": "code",
   "execution_count": 2,
   "id": "ff2ea72a",
   "metadata": {},
   "outputs": [],
   "source": [
    "from sklearn.metrics import classification_report, confusion_matrix"
   ]
  },
  {
   "cell_type": "markdown",
   "id": "a0679ff8",
   "metadata": {},
   "source": [
    "## Load test data"
   ]
  },
  {
   "cell_type": "code",
   "execution_count": 3,
   "id": "f23ceb3f",
   "metadata": {},
   "outputs": [
    {
     "data": {
      "text/html": [
       "<div>\n",
       "<style scoped>\n",
       "    .dataframe tbody tr th:only-of-type {\n",
       "        vertical-align: middle;\n",
       "    }\n",
       "\n",
       "    .dataframe tbody tr th {\n",
       "        vertical-align: top;\n",
       "    }\n",
       "\n",
       "    .dataframe thead th {\n",
       "        text-align: right;\n",
       "    }\n",
       "</style>\n",
       "<table border=\"1\" class=\"dataframe\">\n",
       "  <thead>\n",
       "    <tr style=\"text-align: right;\">\n",
       "      <th></th>\n",
       "      <th>instansi</th>\n",
       "      <th>status</th>\n",
       "      <th>reference</th>\n",
       "    </tr>\n",
       "  </thead>\n",
       "  <tbody>\n",
       "    <tr>\n",
       "      <th>0</th>\n",
       "      <td>kementerian agraria dan tata ruang/badan perta...</td>\n",
       "      <td>yes</td>\n",
       "      <td>kementerian agraria</td>\n",
       "    </tr>\n",
       "    <tr>\n",
       "      <th>1</th>\n",
       "      <td>kementerian agraria dan tata ruang/badan perta...</td>\n",
       "      <td>yes</td>\n",
       "      <td>kementerian tata ruang</td>\n",
       "    </tr>\n",
       "    <tr>\n",
       "      <th>2</th>\n",
       "      <td>kementerian agraria dan tata ruang/badan perta...</td>\n",
       "      <td>yes</td>\n",
       "      <td>kementerian badan pertanahan nasional</td>\n",
       "    </tr>\n",
       "    <tr>\n",
       "      <th>3</th>\n",
       "      <td>kementerian agraria dan tata ruang/badan perta...</td>\n",
       "      <td>yes</td>\n",
       "      <td>badan pertanahan nasional</td>\n",
       "    </tr>\n",
       "    <tr>\n",
       "      <th>4</th>\n",
       "      <td>kementerian agraria dan tata ruang/badan perta...</td>\n",
       "      <td>yes</td>\n",
       "      <td>atr</td>\n",
       "    </tr>\n",
       "  </tbody>\n",
       "</table>\n",
       "</div>"
      ],
      "text/plain": [
       "                                            instansi status  \\\n",
       "0  kementerian agraria dan tata ruang/badan perta...    yes   \n",
       "1  kementerian agraria dan tata ruang/badan perta...    yes   \n",
       "2  kementerian agraria dan tata ruang/badan perta...    yes   \n",
       "3  kementerian agraria dan tata ruang/badan perta...    yes   \n",
       "4  kementerian agraria dan tata ruang/badan perta...    yes   \n",
       "\n",
       "                               reference  \n",
       "0                    kementerian agraria  \n",
       "1                 kementerian tata ruang  \n",
       "2  kementerian badan pertanahan nasional  \n",
       "3              badan pertanahan nasional  \n",
       "4                                    atr  "
      ]
     },
     "execution_count": 3,
     "metadata": {},
     "output_type": "execute_result"
    }
   ],
   "source": [
    "df = pd.read_csv('./eval/test_data/test.csv')\n",
    "df.head()"
   ]
  },
  {
   "cell_type": "markdown",
   "id": "1759e429",
   "metadata": {},
   "source": [
    "### Clean test data\n",
    "Remove punctuation (/)"
   ]
  },
  {
   "cell_type": "code",
   "execution_count": 4,
   "id": "4084d28b",
   "metadata": {},
   "outputs": [
    {
     "data": {
      "text/html": [
       "<div>\n",
       "<style scoped>\n",
       "    .dataframe tbody tr th:only-of-type {\n",
       "        vertical-align: middle;\n",
       "    }\n",
       "\n",
       "    .dataframe tbody tr th {\n",
       "        vertical-align: top;\n",
       "    }\n",
       "\n",
       "    .dataframe thead th {\n",
       "        text-align: right;\n",
       "    }\n",
       "</style>\n",
       "<table border=\"1\" class=\"dataframe\">\n",
       "  <thead>\n",
       "    <tr style=\"text-align: right;\">\n",
       "      <th></th>\n",
       "      <th>instansi</th>\n",
       "      <th>status</th>\n",
       "      <th>reference</th>\n",
       "    </tr>\n",
       "  </thead>\n",
       "  <tbody>\n",
       "    <tr>\n",
       "      <th>0</th>\n",
       "      <td>kementerian agraria dan tata ruang badan perta...</td>\n",
       "      <td>yes</td>\n",
       "      <td>kementerian agraria</td>\n",
       "    </tr>\n",
       "    <tr>\n",
       "      <th>1</th>\n",
       "      <td>kementerian agraria dan tata ruang badan perta...</td>\n",
       "      <td>yes</td>\n",
       "      <td>kementerian tata ruang</td>\n",
       "    </tr>\n",
       "    <tr>\n",
       "      <th>2</th>\n",
       "      <td>kementerian agraria dan tata ruang badan perta...</td>\n",
       "      <td>yes</td>\n",
       "      <td>kementerian badan pertanahan nasional</td>\n",
       "    </tr>\n",
       "    <tr>\n",
       "      <th>3</th>\n",
       "      <td>kementerian agraria dan tata ruang badan perta...</td>\n",
       "      <td>yes</td>\n",
       "      <td>badan pertanahan nasional</td>\n",
       "    </tr>\n",
       "    <tr>\n",
       "      <th>4</th>\n",
       "      <td>kementerian agraria dan tata ruang badan perta...</td>\n",
       "      <td>yes</td>\n",
       "      <td>atr</td>\n",
       "    </tr>\n",
       "  </tbody>\n",
       "</table>\n",
       "</div>"
      ],
      "text/plain": [
       "                                            instansi status  \\\n",
       "0  kementerian agraria dan tata ruang badan perta...    yes   \n",
       "1  kementerian agraria dan tata ruang badan perta...    yes   \n",
       "2  kementerian agraria dan tata ruang badan perta...    yes   \n",
       "3  kementerian agraria dan tata ruang badan perta...    yes   \n",
       "4  kementerian agraria dan tata ruang badan perta...    yes   \n",
       "\n",
       "                               reference  \n",
       "0                    kementerian agraria  \n",
       "1                 kementerian tata ruang  \n",
       "2  kementerian badan pertanahan nasional  \n",
       "3              badan pertanahan nasional  \n",
       "4                                    atr  "
      ]
     },
     "execution_count": 4,
     "metadata": {},
     "output_type": "execute_result"
    }
   ],
   "source": [
    "df['instansi'] = df['instansi'].str.replace('/', ' ')\n",
    "df.head()"
   ]
  },
  {
   "cell_type": "markdown",
   "id": "9294034f",
   "metadata": {},
   "source": [
    "## Helper functions"
   ]
  },
  {
   "cell_type": "code",
   "execution_count": 5,
   "id": "79ecca36",
   "metadata": {},
   "outputs": [],
   "source": [
    "def check_entity_similarity(nama_instansi, reference, variasi_threshold='1a'):\n",
    "    similar_phrases_dict = {}\n",
    "    threshold = 0\n",
    "    edit_distance = 0\n",
    "    \n",
    "    if variasi_threshold == '1a':\n",
    "        if len(nama_instansi) < len(reference):\n",
    "            threshold = len(reference) - len(nama_instansi)\n",
    "        elif len(nama_instansi) > len(reference):\n",
    "            threshold = len(nama_instansi) - len(reference)\n",
    "\n",
    "        edit_dist = levenshtein(nama_instansi, reference)\n",
    "    elif variasi_threshold == '1b':\n",
    "        threshold = 0.5\n",
    "        edit_dist = levenshtein(nama_instansi, reference)\n",
    "        edit_dist = edit_dist/max(len(nama_instansi), len(reference))\n",
    "    elif variasi_threshold == '1c':\n",
    "        threshold = 0.5\n",
    "        max_len = max(len(nama_instansi), len(reference))\n",
    "        edit_dist = levenshtein(nama_instansi, reference)\n",
    "    else:\n",
    "        raise ValueError('Not valid threshold variation')\n",
    "        \n",
    "    if edit_dist == 0:\n",
    "        return 'yes', 0\n",
    "    elif edit_dist <= threshold:\n",
    "        similar_phrases_dict[reference] = edit_dist\n",
    "\n",
    "    if reference in similar_phrases_dict:\n",
    "        return \"yes\", edit_dist\n",
    "    else:\n",
    "        return \"no\", edit_dist   "
   ]
  },
  {
   "cell_type": "code",
   "execution_count": 6,
   "id": "10ad4f80",
   "metadata": {},
   "outputs": [],
   "source": [
    "def loop_through(df, variasi_threshold='1a'):\n",
    "    df2 = df.copy()\n",
    "    status_lev = []\n",
    "    edit_distances = []\n",
    "    for idx, row in df.iterrows():\n",
    "        status, edit_dist = check_entity_similarity(row['instansi'], row['reference'], variasi_threshold)\n",
    "        status_lev.append(status)\n",
    "        edit_distances.append(edit_dist)\n",
    "    df2['status_lev'] = status_lev\n",
    "    df2['edit_distance'] = edit_distances\n",
    "    return df2"
   ]
  },
  {
   "cell_type": "code",
   "execution_count": 7,
   "id": "874cb69d",
   "metadata": {},
   "outputs": [],
   "source": [
    "def print_clf_report(df, variasi_threshold='1a'):\n",
    "    print(f'>>>>>> CLASSIFICATION REPORT FOR THRESHOLD VARIATION {variasi_threshold} <<<<<<')\n",
    "    cr = classification_report(df['status'], df['status_lev'])\n",
    "    print(cr)"
   ]
  },
  {
   "cell_type": "code",
   "execution_count": 8,
   "id": "eb29f013",
   "metadata": {},
   "outputs": [],
   "source": [
    "def plot_conf_matrix(df, variasi_threshold='1a'):\n",
    "    cm = confusion_matrix(df['status'], df['status_lev'])\n",
    "    sns.heatmap(cm/np.sum(cm), annot=True, fmt='.2%', cmap='Blues')\n",
    "    plt.xlabel('Predicted')\n",
    "    plt.ylabel('True')\n",
    "    plt.title(f'Confusion Matrix {variasi_threshold}')\n",
    "    plt.show();"
   ]
  },
  {
   "cell_type": "markdown",
   "id": "b5cadcc6",
   "metadata": {},
   "source": [
    "## Variasi 1a"
   ]
  },
  {
   "cell_type": "code",
   "execution_count": 9,
   "id": "829a9f5d",
   "metadata": {},
   "outputs": [
    {
     "name": "stdout",
     "output_type": "stream",
     "text": [
      ">>>>>> CLASSIFICATION REPORT FOR THRESHOLD VARIATION 1a <<<<<<\n",
      "              precision    recall  f1-score   support\n",
      "\n",
      "          no       0.90      0.71      0.79       572\n",
      "         yes       0.64      0.86      0.73       340\n",
      "\n",
      "    accuracy                           0.77       912\n",
      "   macro avg       0.77      0.79      0.76       912\n",
      "weighted avg       0.80      0.77      0.77       912\n",
      "\n"
     ]
    },
    {
     "data": {
      "image/png": "[encoded data removed]",
      "text/plain": [
       "<Figure size 640x480 with 2 Axes>"
      ]
     },
     "metadata": {},
     "output_type": "display_data"
    }
   ],
   "source": [
    "df1a = loop_through(df, variasi_threshold='1a')\n",
    "print_clf_report(df1a, variasi_threshold='1a')\n",
    "plot_conf_matrix(df1a, variasi_threshold='1a')"
   ]
  },
  {
   "cell_type": "code",
   "execution_count": 10,
   "id": "55d53a0c",
   "metadata": {},
   "outputs": [
    {
     "data": {
      "text/html": [
       "<div>\n",
       "<style scoped>\n",
       "    .dataframe tbody tr th:only-of-type {\n",
       "        vertical-align: middle;\n",
       "    }\n",
       "\n",
       "    .dataframe tbody tr th {\n",
       "        vertical-align: top;\n",
       "    }\n",
       "\n",
       "    .dataframe thead th {\n",
       "        text-align: right;\n",
       "    }\n",
       "</style>\n",
       "<table border=\"1\" class=\"dataframe\">\n",
       "  <thead>\n",
       "    <tr style=\"text-align: right;\">\n",
       "      <th></th>\n",
       "      <th>instansi</th>\n",
       "      <th>status</th>\n",
       "      <th>reference</th>\n",
       "      <th>status_lev</th>\n",
       "      <th>edit_distance</th>\n",
       "    </tr>\n",
       "  </thead>\n",
       "  <tbody>\n",
       "    <tr>\n",
       "      <th>0</th>\n",
       "      <td>kementerian agraria dan tata ruang badan perta...</td>\n",
       "      <td>yes</td>\n",
       "      <td>kementerian agraria</td>\n",
       "      <td>yes</td>\n",
       "      <td>47</td>\n",
       "    </tr>\n",
       "    <tr>\n",
       "      <th>1</th>\n",
       "      <td>kementerian agraria dan tata ruang badan perta...</td>\n",
       "      <td>yes</td>\n",
       "      <td>kementerian tata ruang</td>\n",
       "      <td>yes</td>\n",
       "      <td>44</td>\n",
       "    </tr>\n",
       "    <tr>\n",
       "      <th>2</th>\n",
       "      <td>kementerian agraria dan tata ruang badan perta...</td>\n",
       "      <td>yes</td>\n",
       "      <td>kementerian badan pertanahan nasional</td>\n",
       "      <td>yes</td>\n",
       "      <td>29</td>\n",
       "    </tr>\n",
       "    <tr>\n",
       "      <th>3</th>\n",
       "      <td>kementerian agraria dan tata ruang badan perta...</td>\n",
       "      <td>yes</td>\n",
       "      <td>badan pertanahan nasional</td>\n",
       "      <td>yes</td>\n",
       "      <td>41</td>\n",
       "    </tr>\n",
       "    <tr>\n",
       "      <th>4</th>\n",
       "      <td>kementerian agraria dan tata ruang badan perta...</td>\n",
       "      <td>yes</td>\n",
       "      <td>atr</td>\n",
       "      <td>yes</td>\n",
       "      <td>63</td>\n",
       "    </tr>\n",
       "  </tbody>\n",
       "</table>\n",
       "</div>"
      ],
      "text/plain": [
       "                                            instansi status  \\\n",
       "0  kementerian agraria dan tata ruang badan perta...    yes   \n",
       "1  kementerian agraria dan tata ruang badan perta...    yes   \n",
       "2  kementerian agraria dan tata ruang badan perta...    yes   \n",
       "3  kementerian agraria dan tata ruang badan perta...    yes   \n",
       "4  kementerian agraria dan tata ruang badan perta...    yes   \n",
       "\n",
       "                               reference status_lev  edit_distance  \n",
       "0                    kementerian agraria        yes             47  \n",
       "1                 kementerian tata ruang        yes             44  \n",
       "2  kementerian badan pertanahan nasional        yes             29  \n",
       "3              badan pertanahan nasional        yes             41  \n",
       "4                                    atr        yes             63  "
      ]
     },
     "execution_count": 10,
     "metadata": {},
     "output_type": "execute_result"
    }
   ],
   "source": [
    "df1a.head()"
   ]
  },
  {
   "cell_type": "markdown",
   "id": "f15d295a",
   "metadata": {},
   "source": [
    "## Variasi 1b"
   ]
  },
  {
   "cell_type": "code",
   "execution_count": 11,
   "id": "0a5022cf",
   "metadata": {},
   "outputs": [
    {
     "name": "stdout",
     "output_type": "stream",
     "text": [
      ">>>>>> CLASSIFICATION REPORT FOR THRESHOLD VARIATION 1b <<<<<<\n",
      "              precision    recall  f1-score   support\n",
      "\n",
      "          no       0.70      0.57      0.63       572\n",
      "         yes       0.45      0.60      0.51       340\n",
      "\n",
      "    accuracy                           0.58       912\n",
      "   macro avg       0.58      0.58      0.57       912\n",
      "weighted avg       0.61      0.58      0.59       912\n",
      "\n"
     ]
    },
    {
     "data": {
      "image/png": "[encoded data removed]",
      "text/plain": [
       "<Figure size 640x480 with 2 Axes>"
      ]
     },
     "metadata": {},
     "output_type": "display_data"
    }
   ],
   "source": [
    "df1b = loop_through(df, variasi_threshold='1b')\n",
    "print_clf_report(df1b, variasi_threshold='1b')\n",
    "plot_conf_matrix(df1b, variasi_threshold='1b')"
   ]
  },
  {
   "cell_type": "code",
   "execution_count": 12,
   "id": "b868fbae",
   "metadata": {},
   "outputs": [
    {
     "data": {
      "text/html": [
       "<div>\n",
       "<style scoped>\n",
       "    .dataframe tbody tr th:only-of-type {\n",
       "        vertical-align: middle;\n",
       "    }\n",
       "\n",
       "    .dataframe tbody tr th {\n",
       "        vertical-align: top;\n",
       "    }\n",
       "\n",
       "    .dataframe thead th {\n",
       "        text-align: right;\n",
       "    }\n",
       "</style>\n",
       "<table border=\"1\" class=\"dataframe\">\n",
       "  <thead>\n",
       "    <tr style=\"text-align: right;\">\n",
       "      <th></th>\n",
       "      <th>instansi</th>\n",
       "      <th>status</th>\n",
       "      <th>reference</th>\n",
       "      <th>status_lev</th>\n",
       "      <th>edit_distance</th>\n",
       "    </tr>\n",
       "  </thead>\n",
       "  <tbody>\n",
       "    <tr>\n",
       "      <th>0</th>\n",
       "      <td>kementerian agraria dan tata ruang badan perta...</td>\n",
       "      <td>yes</td>\n",
       "      <td>kementerian agraria</td>\n",
       "      <td>no</td>\n",
       "      <td>0.712121</td>\n",
       "    </tr>\n",
       "    <tr>\n",
       "      <th>1</th>\n",
       "      <td>kementerian agraria dan tata ruang badan perta...</td>\n",
       "      <td>yes</td>\n",
       "      <td>kementerian tata ruang</td>\n",
       "      <td>no</td>\n",
       "      <td>0.666667</td>\n",
       "    </tr>\n",
       "    <tr>\n",
       "      <th>2</th>\n",
       "      <td>kementerian agraria dan tata ruang badan perta...</td>\n",
       "      <td>yes</td>\n",
       "      <td>kementerian badan pertanahan nasional</td>\n",
       "      <td>yes</td>\n",
       "      <td>0.439394</td>\n",
       "    </tr>\n",
       "    <tr>\n",
       "      <th>3</th>\n",
       "      <td>kementerian agraria dan tata ruang badan perta...</td>\n",
       "      <td>yes</td>\n",
       "      <td>badan pertanahan nasional</td>\n",
       "      <td>no</td>\n",
       "      <td>0.621212</td>\n",
       "    </tr>\n",
       "    <tr>\n",
       "      <th>4</th>\n",
       "      <td>kementerian agraria dan tata ruang badan perta...</td>\n",
       "      <td>yes</td>\n",
       "      <td>atr</td>\n",
       "      <td>no</td>\n",
       "      <td>0.954545</td>\n",
       "    </tr>\n",
       "  </tbody>\n",
       "</table>\n",
       "</div>"
      ],
      "text/plain": [
       "                                            instansi status  \\\n",
       "0  kementerian agraria dan tata ruang badan perta...    yes   \n",
       "1  kementerian agraria dan tata ruang badan perta...    yes   \n",
       "2  kementerian agraria dan tata ruang badan perta...    yes   \n",
       "3  kementerian agraria dan tata ruang badan perta...    yes   \n",
       "4  kementerian agraria dan tata ruang badan perta...    yes   \n",
       "\n",
       "                               reference status_lev  edit_distance  \n",
       "0                    kementerian agraria         no       0.712121  \n",
       "1                 kementerian tata ruang         no       0.666667  \n",
       "2  kementerian badan pertanahan nasional        yes       0.439394  \n",
       "3              badan pertanahan nasional         no       0.621212  \n",
       "4                                    atr         no       0.954545  "
      ]
     },
     "execution_count": 12,
     "metadata": {},
     "output_type": "execute_result"
    }
   ],
   "source": [
    "df1b.head()"
   ]
  },
  {
   "cell_type": "markdown",
   "id": "0ac77ab1",
   "metadata": {},
   "source": [
    "## Variasi 1c"
   ]
  },
  {
   "cell_type": "code",
   "execution_count": 13,
   "id": "e36c3a75",
   "metadata": {},
   "outputs": [
    {
     "name": "stdout",
     "output_type": "stream",
     "text": [
      ">>>>>> CLASSIFICATION REPORT FOR THRESHOLD VARIATION 1c <<<<<<\n",
      "              precision    recall  f1-score   support\n",
      "\n",
      "          no       0.63      1.00      0.77       572\n",
      "         yes       1.00      0.01      0.01       340\n",
      "\n",
      "    accuracy                           0.63       912\n",
      "   macro avg       0.81      0.50      0.39       912\n",
      "weighted avg       0.77      0.63      0.49       912\n",
      "\n"
     ]
    },
    {
     "data": {
      "image/png": "[encoded data removed]",
      "text/plain": [
       "<Figure size 640x480 with 2 Axes>"
      ]
     },
     "metadata": {},
     "output_type": "display_data"
    }
   ],
   "source": [
    "df1c = loop_through(df, variasi_threshold='1c')\n",
    "print_clf_report(df1c, variasi_threshold='1c')\n",
    "plot_conf_matrix(df1c, variasi_threshold='1c')"
   ]
  },
  {
   "cell_type": "code",
   "execution_count": 14,
   "id": "ebc870b5",
   "metadata": {},
   "outputs": [
    {
     "data": {
      "text/html": [
       "<div>\n",
       "<style scoped>\n",
       "    .dataframe tbody tr th:only-of-type {\n",
       "        vertical-align: middle;\n",
       "    }\n",
       "\n",
       "    .dataframe tbody tr th {\n",
       "        vertical-align: top;\n",
       "    }\n",
       "\n",
       "    .dataframe thead th {\n",
       "        text-align: right;\n",
       "    }\n",
       "</style>\n",
       "<table border=\"1\" class=\"dataframe\">\n",
       "  <thead>\n",
       "    <tr style=\"text-align: right;\">\n",
       "      <th></th>\n",
       "      <th>instansi</th>\n",
       "      <th>status</th>\n",
       "      <th>reference</th>\n",
       "      <th>status_lev</th>\n",
       "      <th>edit_distance</th>\n",
       "    </tr>\n",
       "  </thead>\n",
       "  <tbody>\n",
       "    <tr>\n",
       "      <th>0</th>\n",
       "      <td>kementerian agraria dan tata ruang badan perta...</td>\n",
       "      <td>yes</td>\n",
       "      <td>kementerian agraria</td>\n",
       "      <td>no</td>\n",
       "      <td>47</td>\n",
       "    </tr>\n",
       "    <tr>\n",
       "      <th>1</th>\n",
       "      <td>kementerian agraria dan tata ruang badan perta...</td>\n",
       "      <td>yes</td>\n",
       "      <td>kementerian tata ruang</td>\n",
       "      <td>no</td>\n",
       "      <td>44</td>\n",
       "    </tr>\n",
       "    <tr>\n",
       "      <th>2</th>\n",
       "      <td>kementerian agraria dan tata ruang badan perta...</td>\n",
       "      <td>yes</td>\n",
       "      <td>kementerian badan pertanahan nasional</td>\n",
       "      <td>no</td>\n",
       "      <td>29</td>\n",
       "    </tr>\n",
       "    <tr>\n",
       "      <th>3</th>\n",
       "      <td>kementerian agraria dan tata ruang badan perta...</td>\n",
       "      <td>yes</td>\n",
       "      <td>badan pertanahan nasional</td>\n",
       "      <td>no</td>\n",
       "      <td>41</td>\n",
       "    </tr>\n",
       "    <tr>\n",
       "      <th>4</th>\n",
       "      <td>kementerian agraria dan tata ruang badan perta...</td>\n",
       "      <td>yes</td>\n",
       "      <td>atr</td>\n",
       "      <td>no</td>\n",
       "      <td>63</td>\n",
       "    </tr>\n",
       "  </tbody>\n",
       "</table>\n",
       "</div>"
      ],
      "text/plain": [
       "                                            instansi status  \\\n",
       "0  kementerian agraria dan tata ruang badan perta...    yes   \n",
       "1  kementerian agraria dan tata ruang badan perta...    yes   \n",
       "2  kementerian agraria dan tata ruang badan perta...    yes   \n",
       "3  kementerian agraria dan tata ruang badan perta...    yes   \n",
       "4  kementerian agraria dan tata ruang badan perta...    yes   \n",
       "\n",
       "                               reference status_lev  edit_distance  \n",
       "0                    kementerian agraria         no             47  \n",
       "1                 kementerian tata ruang         no             44  \n",
       "2  kementerian badan pertanahan nasional         no             29  \n",
       "3              badan pertanahan nasional         no             41  \n",
       "4                                    atr         no             63  "
      ]
     },
     "execution_count": 14,
     "metadata": {},
     "output_type": "execute_result"
    }
   ],
   "source": [
    "df1c.head()"
   ]
  }
 ],
 "metadata": {
  "kernelspec": {
   "display_name": "Python 3 (ipykernel)",
   "language": "python",
   "name": "python3"
  },
  "language_info": {
   "codemirror_mode": {
    "name": "ipython",
    "version": 3
   },
   "file_extension": ".py",
   "mimetype": "text/x-python",
   "name": "python",
   "nbconvert_exporter": "python",
   "pygments_lexer": "ipython3",
   "version": "3.10.8"
  }
 },
 "nbformat": 4,
 "nbformat_minor": 5
}

{
 "cells": [
  {
   "cell_type": "code",
   "execution_count": 2,
   "id": "db3f4bf7",
   "metadata": {},
   "outputs": [],
   "source": [
    "import pandas as pd\n",
    "import numpy as np\n",
    "from get_similar_entity import get_similar_entity\n",
    "from evaluation import clean_test_df, get_similar_entities_lev_v2"
   ]
  },
  {
   "cell_type": "markdown",
   "id": "b4613208",
   "metadata": {},
   "source": [
    "## Prep test data\n",
    "Test data: distinct nama_instansi penerima dan pemberi from Tabel ai2022"
   ]
  },
  {
   "cell_type": "code",
   "execution_count": 3,
   "id": "9497f65e",
   "metadata": {},
   "outputs": [],
   "source": [
    "test_data = pd.read_csv('./eval/test_data/distinct_instansi_ai_table.csv')"
   ]
  },
  {
   "cell_type": "code",
   "execution_count": 4,
   "id": "057c2b87",
   "metadata": {},
   "outputs": [
    {
     "data": {
      "text/html": [
       "<div>\n",
       "<style scoped>\n",
       "    .dataframe tbody tr th:only-of-type {\n",
       "        vertical-align: middle;\n",
       "    }\n",
       "\n",
       "    .dataframe tbody tr th {\n",
       "        vertical-align: top;\n",
       "    }\n",
       "\n",
       "    .dataframe thead th {\n",
       "        text-align: right;\n",
       "    }\n",
       "</style>\n",
       "<table border=\"1\" class=\"dataframe\">\n",
       "  <thead>\n",
       "    <tr style=\"text-align: right;\">\n",
       "      <th></th>\n",
       "      <th>nama_instansi</th>\n",
       "    </tr>\n",
       "  </thead>\n",
       "  <tbody>\n",
       "    <tr>\n",
       "      <th>0</th>\n",
       "      <td>Kementerian Kominfo</td>\n",
       "    </tr>\n",
       "    <tr>\n",
       "      <th>1</th>\n",
       "      <td>tidak tahu</td>\n",
       "    </tr>\n",
       "    <tr>\n",
       "      <th>2</th>\n",
       "      <td>PT Maybank Indonesia Tbk</td>\n",
       "    </tr>\n",
       "    <tr>\n",
       "      <th>3</th>\n",
       "      <td>Rekanan</td>\n",
       "    </tr>\n",
       "    <tr>\n",
       "      <th>4</th>\n",
       "      <td>Kemko Marves</td>\n",
       "    </tr>\n",
       "  </tbody>\n",
       "</table>\n",
       "</div>"
      ],
      "text/plain": [
       "              nama_instansi\n",
       "0       Kementerian Kominfo\n",
       "1                tidak tahu\n",
       "2  PT Maybank Indonesia Tbk\n",
       "3                   Rekanan\n",
       "4              Kemko Marves"
      ]
     },
     "execution_count": 4,
     "metadata": {},
     "output_type": "execute_result"
    }
   ],
   "source": [
    "test_data.head()"
   ]
  },
  {
   "cell_type": "code",
   "execution_count": 5,
   "id": "e18a07f8",
   "metadata": {},
   "outputs": [],
   "source": [
    "test_data = clean_test_df(test_data)"
   ]
  },
  {
   "cell_type": "code",
   "execution_count": 6,
   "id": "5c00c666",
   "metadata": {},
   "outputs": [
    {
     "data": {
      "text/html": [
       "<div>\n",
       "<style scoped>\n",
       "    .dataframe tbody tr th:only-of-type {\n",
       "        vertical-align: middle;\n",
       "    }\n",
       "\n",
       "    .dataframe tbody tr th {\n",
       "        vertical-align: top;\n",
       "    }\n",
       "\n",
       "    .dataframe thead th {\n",
       "        text-align: right;\n",
       "    }\n",
       "</style>\n",
       "<table border=\"1\" class=\"dataframe\">\n",
       "  <thead>\n",
       "    <tr style=\"text-align: right;\">\n",
       "      <th></th>\n",
       "      <th>nama_instansi</th>\n",
       "    </tr>\n",
       "  </thead>\n",
       "  <tbody>\n",
       "    <tr>\n",
       "      <th>0</th>\n",
       "      <td>kementerian kominfo</td>\n",
       "    </tr>\n",
       "    <tr>\n",
       "      <th>1</th>\n",
       "      <td>tidak tahu</td>\n",
       "    </tr>\n",
       "    <tr>\n",
       "      <th>2</th>\n",
       "      <td>pt maybank indonesia tbk</td>\n",
       "    </tr>\n",
       "    <tr>\n",
       "      <th>3</th>\n",
       "      <td>rekanan</td>\n",
       "    </tr>\n",
       "    <tr>\n",
       "      <th>4</th>\n",
       "      <td>kemko marves</td>\n",
       "    </tr>\n",
       "  </tbody>\n",
       "</table>\n",
       "</div>"
      ],
      "text/plain": [
       "              nama_instansi\n",
       "0       kementerian kominfo\n",
       "1                tidak tahu\n",
       "2  pt maybank indonesia tbk\n",
       "3                   rekanan\n",
       "4              kemko marves"
      ]
     },
     "execution_count": 6,
     "metadata": {},
     "output_type": "execute_result"
    }
   ],
   "source": [
    "test_data.head()"
   ]
  },
  {
   "cell_type": "markdown",
   "id": "92e9bfca",
   "metadata": {},
   "source": [
    "## Predictions"
   ]
  },
  {
   "cell_type": "code",
   "execution_count": 8,
   "id": "d331527a",
   "metadata": {},
   "outputs": [],
   "source": [
    "predictions = get_similar_entities_lev_v2(test_data, reference_version='v2')"
   ]
  },
  {
   "cell_type": "code",
   "execution_count": 9,
   "id": "af398222",
   "metadata": {},
   "outputs": [],
   "source": [
    "predictions.to_csv('./eval/automatically_labeled.csv')"
   ]
  },
  {
   "cell_type": "code",
   "execution_count": 10,
   "id": "7e641871",
   "metadata": {},
   "outputs": [
    {
     "data": {
      "text/html": [
       "<div>\n",
       "<style scoped>\n",
       "    .dataframe tbody tr th:only-of-type {\n",
       "        vertical-align: middle;\n",
       "    }\n",
       "\n",
       "    .dataframe tbody tr th {\n",
       "        vertical-align: top;\n",
       "    }\n",
       "\n",
       "    .dataframe thead th {\n",
       "        text-align: right;\n",
       "    }\n",
       "</style>\n",
       "<table border=\"1\" class=\"dataframe\">\n",
       "  <thead>\n",
       "    <tr style=\"text-align: right;\">\n",
       "      <th></th>\n",
       "      <th>nama_instansi</th>\n",
       "      <th>candidates</th>\n",
       "    </tr>\n",
       "  </thead>\n",
       "  <tbody>\n",
       "    <tr>\n",
       "      <th>0</th>\n",
       "      <td>kementerian kominfo</td>\n",
       "      <td>kominfo</td>\n",
       "    </tr>\n",
       "    <tr>\n",
       "      <th>1</th>\n",
       "      <td>tidak tahu</td>\n",
       "      <td>Bukan instansi BUMN, Kementerian, Pemerintah</td>\n",
       "    </tr>\n",
       "    <tr>\n",
       "      <th>2</th>\n",
       "      <td>pt maybank indonesia tbk</td>\n",
       "      <td>pt bni</td>\n",
       "    </tr>\n",
       "    <tr>\n",
       "      <th>3</th>\n",
       "      <td>rekanan</td>\n",
       "      <td>Bukan instansi BUMN, Kementerian, Pemerintah</td>\n",
       "    </tr>\n",
       "    <tr>\n",
       "      <th>4</th>\n",
       "      <td>kemko marves</td>\n",
       "      <td>Bukan instansi BUMN, Kementerian, Pemerintah</td>\n",
       "    </tr>\n",
       "  </tbody>\n",
       "</table>\n",
       "</div>"
      ],
      "text/plain": [
       "              nama_instansi                                    candidates\n",
       "0       kementerian kominfo                                       kominfo\n",
       "1                tidak tahu  Bukan instansi BUMN, Kementerian, Pemerintah\n",
       "2  pt maybank indonesia tbk                                        pt bni\n",
       "3                   rekanan  Bukan instansi BUMN, Kementerian, Pemerintah\n",
       "4              kemko marves  Bukan instansi BUMN, Kementerian, Pemerintah"
      ]
     },
     "execution_count": 10,
     "metadata": {},
     "output_type": "execute_result"
    }
   ],
   "source": [
    "predictions.head()"
   ]
  },
  {
   "cell_type": "code",
   "execution_count": 11,
   "id": "c9924081",
   "metadata": {},
   "outputs": [
    {
     "data": {
      "text/html": [
       "<div>\n",
       "<style scoped>\n",
       "    .dataframe tbody tr th:only-of-type {\n",
       "        vertical-align: middle;\n",
       "    }\n",
       "\n",
       "    .dataframe tbody tr th {\n",
       "        vertical-align: top;\n",
       "    }\n",
       "\n",
       "    .dataframe thead th {\n",
       "        text-align: right;\n",
       "    }\n",
       "</style>\n",
       "<table border=\"1\" class=\"dataframe\">\n",
       "  <thead>\n",
       "    <tr style=\"text-align: right;\">\n",
       "      <th></th>\n",
       "      <th>nama_instansi</th>\n",
       "    </tr>\n",
       "    <tr>\n",
       "      <th>candidates</th>\n",
       "      <th></th>\n",
       "    </tr>\n",
       "  </thead>\n",
       "  <tbody>\n",
       "    <tr>\n",
       "      <th>Bukan instansi BUMN, Kementerian, Pemerintah</th>\n",
       "      <td>1181</td>\n",
       "    </tr>\n",
       "    <tr>\n",
       "      <th>anggota dpr</th>\n",
       "      <td>5</td>\n",
       "    </tr>\n",
       "    <tr>\n",
       "      <th>anri</th>\n",
       "      <td>1</td>\n",
       "    </tr>\n",
       "    <tr>\n",
       "      <th>arsip nasional republik indonesia anri</th>\n",
       "      <td>1</td>\n",
       "    </tr>\n",
       "    <tr>\n",
       "      <th>asdp indonesia</th>\n",
       "      <td>1</td>\n",
       "    </tr>\n",
       "    <tr>\n",
       "      <th>...</th>\n",
       "      <td>...</td>\n",
       "    </tr>\n",
       "    <tr>\n",
       "      <th>skk migas</th>\n",
       "      <td>7</td>\n",
       "    </tr>\n",
       "    <tr>\n",
       "      <th>superintending company of indonesia</th>\n",
       "      <td>1</td>\n",
       "    </tr>\n",
       "    <tr>\n",
       "      <th>telkom</th>\n",
       "      <td>1</td>\n",
       "    </tr>\n",
       "    <tr>\n",
       "      <th>tni angkatan udara</th>\n",
       "      <td>2</td>\n",
       "    </tr>\n",
       "    <tr>\n",
       "      <th>virama karya</th>\n",
       "      <td>1</td>\n",
       "    </tr>\n",
       "  </tbody>\n",
       "</table>\n",
       "<p>561 rows × 1 columns</p>\n",
       "</div>"
      ],
      "text/plain": [
       "                                              nama_instansi\n",
       "candidates                                                 \n",
       "Bukan instansi BUMN, Kementerian, Pemerintah           1181\n",
       "anggota dpr                                               5\n",
       "anri                                                      1\n",
       "arsip nasional republik indonesia anri                    1\n",
       "asdp indonesia                                            1\n",
       "...                                                     ...\n",
       "skk migas                                                 7\n",
       "superintending company of indonesia                       1\n",
       "telkom                                                    1\n",
       "tni angkatan udara                                        2\n",
       "virama karya                                              1\n",
       "\n",
       "[561 rows x 1 columns]"
      ]
     },
     "execution_count": 11,
     "metadata": {},
     "output_type": "execute_result"
    }
   ],
   "source": [
    "predictions.groupby('candidates').count()"
   ]
  },
  {
   "cell_type": "code",
   "execution_count": null,
   "id": "ed475a62",
   "metadata": {},
   "outputs": [],
   "source": []
  }
 ],
 "metadata": {
  "kernelspec": {
   "display_name": "Python 3 (ipykernel)",
   "language": "python",
   "name": "python3"
  },
  "language_info": {
   "codemirror_mode": {
    "name": "ipython",
    "version": 3
   },
   "file_extension": ".py",
   "mimetype": "text/x-python",
   "name": "python",
   "nbconvert_exporter": "python",
   "pygments_lexer": "ipython3",
   "version": "3.9.6"
  }
 },
 "nbformat": 4,
 "nbformat_minor": 5
}

{
 "cells": [
  {
   "cell_type": "code",
   "execution_count": 1,
   "id": "1f8f6567",
   "metadata": {},
   "outputs": [],
   "source": [
    "import pandas as pd\n",
    "import numpy as np\n",
    "import matplotlib.pyplot as plt\n",
    "import seaborn as sns"
   ]
  },
  {
   "cell_type": "code",
   "execution_count": 2,
   "id": "490a1490",
   "metadata": {},
   "outputs": [],
   "source": [
    "exp1a2b = pd.read_csv('./eval/performances/exp1a-2b_checked.csv', sep=';')[['nama_instansi', 'candidates','status_manual', 'TP', 'TN', 'FP', 'FN']]"
   ]
  },
  {
   "cell_type": "code",
   "execution_count": 3,
   "id": "ed37712d",
   "metadata": {},
   "outputs": [],
   "source": [
    "def getTPTNFPFN(df):\n",
    "    tp = df[(df['TP']=='TRUE')|(df['TP']==True)].shape[0]\n",
    "    tn = df[(df['TN']=='TRUE') | (df['TN']==True)].shape[0]\n",
    "    fp = df[(df['FP']=='TRUE') |(df['FP']==True)].shape[0]\n",
    "    fn = df[(df['FN']=='TRUE') | (df['FN']==True)].shape[0]\n",
    "    return tp, tn, fp, fn"
   ]
  },
  {
   "cell_type": "code",
   "execution_count": 4,
   "id": "32f3a65e",
   "metadata": {},
   "outputs": [],
   "source": [
    "def getConfMatrix(df, title):\n",
    "    tp, tn, fp, fn = getTPTNFPFN(df)\n",
    "    conf_matrix = [[tn, fp], [fn, tp]]\n",
    "    sns.heatmap(conf_matrix/np.sum(conf_matrix), annot=True, fmt='.2%', cmap='Blues')\n",
    "    plt.xlabel('Predicted')\n",
    "    plt.ylabel('True')\n",
    "    plt.title(f'Confusion Matrix {title}')\n",
    "    plt.show();\n",
    "    return conf_matrix"
   ]
  },
  {
   "cell_type": "code",
   "execution_count": 5,
   "id": "98b453da",
   "metadata": {},
   "outputs": [],
   "source": [
    "def clf_report(df):\n",
    "    tp, tn, fp, fn = getTPTNFPFN(df)\n",
    "    acc = (tp+tn)/sum([tp, tn, fp, fn])\n",
    "    precision = tp/(tp+fp)\n",
    "    recall = tp/(tp+fn)\n",
    "    f1score = 2 *(precision*recall)/(precision+recall)\n",
    "    print(f\"Accuracy: {acc} | Precision: {precision} | Recall: {recall} | F1-Score: {f1score}\")\n",
    "    return acc, precision, recall, f1score"
   ]
  },
  {
   "cell_type": "code",
   "execution_count": 6,
   "id": "28c378fe",
   "metadata": {},
   "outputs": [
    {
     "name": "stdout",
     "output_type": "stream",
     "text": [
      "========= Exp 1a-2b ========= \n",
      "\n"
     ]
    },
    {
     "data": {
      "image/png": "[encoded data removed]",
      "text/plain": [
       "<Figure size 640x480 with 2 Axes>"
      ]
     },
     "metadata": {},
     "output_type": "display_data"
    },
    {
     "name": "stdout",
     "output_type": "stream",
     "text": [
      "[[1068, 440], [113, 539]] \n",
      "\n",
      "Accuracy: 0.7439814814814815 | Precision: 0.550561797752809 | Recall: 0.8266871165644172 | F1-Score: 0.6609442060085837\n"
     ]
    }
   ],
   "source": [
    "title = \"Exp 1a-2b\"\n",
    "print(\"=========\",title,\"=========\",'\\n')\n",
    "cm = getConfMatrix(exp1a2b, title)\n",
    "print(cm, '\\n')\n",
    "cr = clf_report(exp1a2b)"
   ]
  },
  {
   "cell_type": "code",
   "execution_count": 8,
   "id": "12ca5bd6",
   "metadata": {},
   "outputs": [
    {
     "data": {
      "text/html": [
       "<div>\n",
       "<style scoped>\n",
       "    .dataframe tbody tr th:only-of-type {\n",
       "        vertical-align: middle;\n",
       "    }\n",
       "\n",
       "    .dataframe tbody tr th {\n",
       "        vertical-align: top;\n",
       "    }\n",
       "\n",
       "    .dataframe thead th {\n",
       "        text-align: right;\n",
       "    }\n",
       "</style>\n",
       "<table border=\"1\" class=\"dataframe\">\n",
       "  <thead>\n",
       "    <tr style=\"text-align: right;\">\n",
       "      <th></th>\n",
       "      <th>nama_instansi</th>\n",
       "      <th>candidates</th>\n",
       "      <th>status_manual</th>\n",
       "      <th>TP</th>\n",
       "      <th>TN</th>\n",
       "      <th>FP</th>\n",
       "      <th>FN</th>\n",
       "    </tr>\n",
       "  </thead>\n",
       "  <tbody>\n",
       "    <tr>\n",
       "      <th>0</th>\n",
       "      <td>kementerian kominfo</td>\n",
       "      <td>kominfo</td>\n",
       "      <td>True</td>\n",
       "      <td>True</td>\n",
       "      <td>False</td>\n",
       "      <td>False</td>\n",
       "      <td>False</td>\n",
       "    </tr>\n",
       "    <tr>\n",
       "      <th>1</th>\n",
       "      <td>tidak tahu</td>\n",
       "      <td>Bukan instansi BUMN, Kementerian, Pemerintah</td>\n",
       "      <td>True</td>\n",
       "      <td>False</td>\n",
       "      <td>True</td>\n",
       "      <td>False</td>\n",
       "      <td>False</td>\n",
       "    </tr>\n",
       "    <tr>\n",
       "      <th>2</th>\n",
       "      <td>pt maybank indonesia tbk</td>\n",
       "      <td>pt bni</td>\n",
       "      <td>False</td>\n",
       "      <td>False</td>\n",
       "      <td>False</td>\n",
       "      <td>True</td>\n",
       "      <td>False</td>\n",
       "    </tr>\n",
       "    <tr>\n",
       "      <th>3</th>\n",
       "      <td>rekanan</td>\n",
       "      <td>Bukan instansi BUMN, Kementerian, Pemerintah</td>\n",
       "      <td>True</td>\n",
       "      <td>False</td>\n",
       "      <td>True</td>\n",
       "      <td>False</td>\n",
       "      <td>False</td>\n",
       "    </tr>\n",
       "    <tr>\n",
       "      <th>4</th>\n",
       "      <td>kemko marves</td>\n",
       "      <td>Bukan instansi BUMN, Kementerian, Pemerintah</td>\n",
       "      <td>False</td>\n",
       "      <td>False</td>\n",
       "      <td>False</td>\n",
       "      <td>False</td>\n",
       "      <td>True</td>\n",
       "    </tr>\n",
       "    <tr>\n",
       "      <th>...</th>\n",
       "      <td>...</td>\n",
       "      <td>...</td>\n",
       "      <td>...</td>\n",
       "      <td>...</td>\n",
       "      <td>...</td>\n",
       "      <td>...</td>\n",
       "      <td>...</td>\n",
       "    </tr>\n",
       "    <tr>\n",
       "      <th>2155</th>\n",
       "      <td>pt cahaya maha pertiwi</td>\n",
       "      <td>pt pii</td>\n",
       "      <td>False</td>\n",
       "      <td>False</td>\n",
       "      <td>False</td>\n",
       "      <td>True</td>\n",
       "      <td>False</td>\n",
       "    </tr>\n",
       "    <tr>\n",
       "      <th>2156</th>\n",
       "      <td>pemkab sintang</td>\n",
       "      <td>pemkab sintang</td>\n",
       "      <td>True</td>\n",
       "      <td>True</td>\n",
       "      <td>False</td>\n",
       "      <td>False</td>\n",
       "      <td>False</td>\n",
       "    </tr>\n",
       "    <tr>\n",
       "      <th>2157</th>\n",
       "      <td>desa ginuk</td>\n",
       "      <td>Bukan instansi BUMN, Kementerian, Pemerintah</td>\n",
       "      <td>True</td>\n",
       "      <td>False</td>\n",
       "      <td>True</td>\n",
       "      <td>False</td>\n",
       "      <td>False</td>\n",
       "    </tr>\n",
       "    <tr>\n",
       "      <th>2158</th>\n",
       "      <td>direktur utama pt bni</td>\n",
       "      <td>direktur utama pt bni</td>\n",
       "      <td>True</td>\n",
       "      <td>True</td>\n",
       "      <td>False</td>\n",
       "      <td>False</td>\n",
       "      <td>False</td>\n",
       "    </tr>\n",
       "    <tr>\n",
       "      <th>2159</th>\n",
       "      <td>tidak diketahui pelapor</td>\n",
       "      <td>Bukan instansi BUMN, Kementerian, Pemerintah</td>\n",
       "      <td>True</td>\n",
       "      <td>False</td>\n",
       "      <td>True</td>\n",
       "      <td>False</td>\n",
       "      <td>False</td>\n",
       "    </tr>\n",
       "  </tbody>\n",
       "</table>\n",
       "<p>2160 rows × 7 columns</p>\n",
       "</div>"
      ],
      "text/plain": [
       "                 nama_instansi                                    candidates  \\\n",
       "0          kementerian kominfo                                       kominfo   \n",
       "1                   tidak tahu  Bukan instansi BUMN, Kementerian, Pemerintah   \n",
       "2     pt maybank indonesia tbk                                        pt bni   \n",
       "3                      rekanan  Bukan instansi BUMN, Kementerian, Pemerintah   \n",
       "4                 kemko marves  Bukan instansi BUMN, Kementerian, Pemerintah   \n",
       "...                        ...                                           ...   \n",
       "2155    pt cahaya maha pertiwi                                        pt pii   \n",
       "2156            pemkab sintang                                pemkab sintang   \n",
       "2157                desa ginuk  Bukan instansi BUMN, Kementerian, Pemerintah   \n",
       "2158     direktur utama pt bni                         direktur utama pt bni   \n",
       "2159   tidak diketahui pelapor  Bukan instansi BUMN, Kementerian, Pemerintah   \n",
       "\n",
       "      status_manual     TP     TN     FP     FN  \n",
       "0              True   True  False  False  False  \n",
       "1              True  False   True  False  False  \n",
       "2             False  False  False   True  False  \n",
       "3              True  False   True  False  False  \n",
       "4             False  False  False  False   True  \n",
       "...             ...    ...    ...    ...    ...  \n",
       "2155          False  False  False   True  False  \n",
       "2156           True   True  False  False  False  \n",
       "2157           True  False   True  False  False  \n",
       "2158           True   True  False  False  False  \n",
       "2159           True  False   True  False  False  \n",
       "\n",
       "[2160 rows x 7 columns]"
      ]
     },
     "execution_count": 8,
     "metadata": {},
     "output_type": "execute_result"
    }
   ],
   "source": [
    "exp1a2b"
   ]
  },
  {
   "cell_type": "code",
   "execution_count": null,
   "id": "b3f26933",
   "metadata": {},
   "outputs": [],
   "source": []
  }
 ],
 "metadata": {
  "kernelspec": {
   "display_name": "Python 3 (ipykernel)",
   "language": "python",
   "name": "python3"
  },
  "language_info": {
   "codemirror_mode": {
    "name": "ipython",
    "version": 3
   },
   "file_extension": ".py",
   "mimetype": "text/x-python",
   "name": "python",
   "nbconvert_exporter": "python",
   "pygments_lexer": "ipython3",
   "version": "3.10.8"
  }
 },
 "nbformat": 4,
 "nbformat_minor": 5
}

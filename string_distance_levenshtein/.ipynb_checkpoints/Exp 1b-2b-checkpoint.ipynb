{
 "cells": [
  {
   "cell_type": "code",
   "execution_count": 1,
   "id": "db3f4bf7",
   "metadata": {},
   "outputs": [],
   "source": [
    "import pandas as pd\n",
    "import numpy as np\n",
    "from get_similar_entity import get_similar_entity\n",
    "from evaluation import clean_test_df, get_similar_entity_1b"
   ]
  },
  {
   "cell_type": "markdown",
   "id": "b4613208",
   "metadata": {},
   "source": [
    "## Prep test data"
   ]
  },
  {
   "cell_type": "code",
   "execution_count": 2,
   "id": "9497f65e",
   "metadata": {},
   "outputs": [],
   "source": [
    "test_data = pd.read_csv('./eval/test_data/distinct_instansi_ai_table.csv')"
   ]
  },
  {
   "cell_type": "code",
   "execution_count": 3,
   "id": "057c2b87",
   "metadata": {},
   "outputs": [
    {
     "data": {
      "text/html": [
       "<div>\n",
       "<style scoped>\n",
       "    .dataframe tbody tr th:only-of-type {\n",
       "        vertical-align: middle;\n",
       "    }\n",
       "\n",
       "    .dataframe tbody tr th {\n",
       "        vertical-align: top;\n",
       "    }\n",
       "\n",
       "    .dataframe thead th {\n",
       "        text-align: right;\n",
       "    }\n",
       "</style>\n",
       "<table border=\"1\" class=\"dataframe\">\n",
       "  <thead>\n",
       "    <tr style=\"text-align: right;\">\n",
       "      <th></th>\n",
       "      <th>nama_instansi</th>\n",
       "    </tr>\n",
       "  </thead>\n",
       "  <tbody>\n",
       "    <tr>\n",
       "      <th>0</th>\n",
       "      <td>Kementerian Kominfo</td>\n",
       "    </tr>\n",
       "    <tr>\n",
       "      <th>1</th>\n",
       "      <td>tidak tahu</td>\n",
       "    </tr>\n",
       "    <tr>\n",
       "      <th>2</th>\n",
       "      <td>PT Maybank Indonesia Tbk</td>\n",
       "    </tr>\n",
       "    <tr>\n",
       "      <th>3</th>\n",
       "      <td>Rekanan</td>\n",
       "    </tr>\n",
       "    <tr>\n",
       "      <th>4</th>\n",
       "      <td>Kemko Marves</td>\n",
       "    </tr>\n",
       "  </tbody>\n",
       "</table>\n",
       "</div>"
      ],
      "text/plain": [
       "              nama_instansi\n",
       "0       Kementerian Kominfo\n",
       "1                tidak tahu\n",
       "2  PT Maybank Indonesia Tbk\n",
       "3                   Rekanan\n",
       "4              Kemko Marves"
      ]
     },
     "execution_count": 3,
     "metadata": {},
     "output_type": "execute_result"
    }
   ],
   "source": [
    "test_data.head()"
   ]
  },
  {
   "cell_type": "code",
   "execution_count": 4,
   "id": "242a53e5",
   "metadata": {},
   "outputs": [],
   "source": [
    "test_data2 = test_data[['nama_instansi']]"
   ]
  },
  {
   "cell_type": "code",
   "execution_count": 5,
   "id": "78876438",
   "metadata": {},
   "outputs": [],
   "source": [
    "test_data2 = test_data2.rename(columns={'reference': 'nama_instansi'})"
   ]
  },
  {
   "cell_type": "code",
   "execution_count": 6,
   "id": "87db8202",
   "metadata": {},
   "outputs": [
    {
     "data": {
      "text/html": [
       "<div>\n",
       "<style scoped>\n",
       "    .dataframe tbody tr th:only-of-type {\n",
       "        vertical-align: middle;\n",
       "    }\n",
       "\n",
       "    .dataframe tbody tr th {\n",
       "        vertical-align: top;\n",
       "    }\n",
       "\n",
       "    .dataframe thead th {\n",
       "        text-align: right;\n",
       "    }\n",
       "</style>\n",
       "<table border=\"1\" class=\"dataframe\">\n",
       "  <thead>\n",
       "    <tr style=\"text-align: right;\">\n",
       "      <th></th>\n",
       "      <th>nama_instansi</th>\n",
       "    </tr>\n",
       "  </thead>\n",
       "  <tbody>\n",
       "    <tr>\n",
       "      <th>0</th>\n",
       "      <td>Kementerian Kominfo</td>\n",
       "    </tr>\n",
       "    <tr>\n",
       "      <th>1</th>\n",
       "      <td>tidak tahu</td>\n",
       "    </tr>\n",
       "    <tr>\n",
       "      <th>2</th>\n",
       "      <td>PT Maybank Indonesia Tbk</td>\n",
       "    </tr>\n",
       "    <tr>\n",
       "      <th>3</th>\n",
       "      <td>Rekanan</td>\n",
       "    </tr>\n",
       "    <tr>\n",
       "      <th>4</th>\n",
       "      <td>Kemko Marves</td>\n",
       "    </tr>\n",
       "    <tr>\n",
       "      <th>...</th>\n",
       "      <td>...</td>\n",
       "    </tr>\n",
       "    <tr>\n",
       "      <th>2239</th>\n",
       "      <td>PT Cahaya Maha Pertiwi</td>\n",
       "    </tr>\n",
       "    <tr>\n",
       "      <th>2240</th>\n",
       "      <td>Pemkab Sintang</td>\n",
       "    </tr>\n",
       "    <tr>\n",
       "      <th>2241</th>\n",
       "      <td>Desa Ginuk</td>\n",
       "    </tr>\n",
       "    <tr>\n",
       "      <th>2242</th>\n",
       "      <td>Direktur Utama PT BNI</td>\n",
       "    </tr>\n",
       "    <tr>\n",
       "      <th>2243</th>\n",
       "      <td>Tidak diketahui pelapor</td>\n",
       "    </tr>\n",
       "  </tbody>\n",
       "</table>\n",
       "<p>2244 rows × 1 columns</p>\n",
       "</div>"
      ],
      "text/plain": [
       "                 nama_instansi\n",
       "0          Kementerian Kominfo\n",
       "1                   tidak tahu\n",
       "2     PT Maybank Indonesia Tbk\n",
       "3                      Rekanan\n",
       "4                 Kemko Marves\n",
       "...                        ...\n",
       "2239    PT Cahaya Maha Pertiwi\n",
       "2240            Pemkab Sintang\n",
       "2241                Desa Ginuk\n",
       "2242     Direktur Utama PT BNI\n",
       "2243   Tidak diketahui pelapor\n",
       "\n",
       "[2244 rows x 1 columns]"
      ]
     },
     "execution_count": 6,
     "metadata": {},
     "output_type": "execute_result"
    }
   ],
   "source": [
    "test_data2"
   ]
  },
  {
   "cell_type": "code",
   "execution_count": 7,
   "id": "e18a07f8",
   "metadata": {},
   "outputs": [],
   "source": [
    "test_data2 = clean_test_df(test_data2)"
   ]
  },
  {
   "cell_type": "code",
   "execution_count": 8,
   "id": "5c00c666",
   "metadata": {},
   "outputs": [
    {
     "data": {
      "text/html": [
       "<div>\n",
       "<style scoped>\n",
       "    .dataframe tbody tr th:only-of-type {\n",
       "        vertical-align: middle;\n",
       "    }\n",
       "\n",
       "    .dataframe tbody tr th {\n",
       "        vertical-align: top;\n",
       "    }\n",
       "\n",
       "    .dataframe thead th {\n",
       "        text-align: right;\n",
       "    }\n",
       "</style>\n",
       "<table border=\"1\" class=\"dataframe\">\n",
       "  <thead>\n",
       "    <tr style=\"text-align: right;\">\n",
       "      <th></th>\n",
       "      <th>nama_instansi</th>\n",
       "    </tr>\n",
       "  </thead>\n",
       "  <tbody>\n",
       "    <tr>\n",
       "      <th>0</th>\n",
       "      <td>kementerian kominfo</td>\n",
       "    </tr>\n",
       "    <tr>\n",
       "      <th>1</th>\n",
       "      <td>tidak tahu</td>\n",
       "    </tr>\n",
       "    <tr>\n",
       "      <th>2</th>\n",
       "      <td>pt maybank indonesia tbk</td>\n",
       "    </tr>\n",
       "    <tr>\n",
       "      <th>3</th>\n",
       "      <td>rekanan</td>\n",
       "    </tr>\n",
       "    <tr>\n",
       "      <th>4</th>\n",
       "      <td>kemko marves</td>\n",
       "    </tr>\n",
       "  </tbody>\n",
       "</table>\n",
       "</div>"
      ],
      "text/plain": [
       "              nama_instansi\n",
       "0       kementerian kominfo\n",
       "1                tidak tahu\n",
       "2  pt maybank indonesia tbk\n",
       "3                   rekanan\n",
       "4              kemko marves"
      ]
     },
     "execution_count": 8,
     "metadata": {},
     "output_type": "execute_result"
    }
   ],
   "source": [
    "test_data2.head()"
   ]
  },
  {
   "cell_type": "code",
   "execution_count": 9,
   "id": "014c709d",
   "metadata": {},
   "outputs": [
    {
     "data": {
      "text/plain": [
       "nama_instansi    0\n",
       "dtype: int64"
      ]
     },
     "execution_count": 9,
     "metadata": {},
     "output_type": "execute_result"
    }
   ],
   "source": [
    "test_data2.isnull().sum()"
   ]
  },
  {
   "cell_type": "markdown",
   "id": "3b719811",
   "metadata": {},
   "source": [
    "duplicate removed"
   ]
  },
  {
   "cell_type": "code",
   "execution_count": 10,
   "id": "e791240e",
   "metadata": {},
   "outputs": [
    {
     "data": {
      "text/plain": [
       "(2160, 1)"
      ]
     },
     "execution_count": 10,
     "metadata": {},
     "output_type": "execute_result"
    }
   ],
   "source": [
    "test_data2.shape"
   ]
  },
  {
   "cell_type": "code",
   "execution_count": 11,
   "id": "f1f63370",
   "metadata": {},
   "outputs": [
    {
     "data": {
      "text/html": [
       "<div>\n",
       "<style scoped>\n",
       "    .dataframe tbody tr th:only-of-type {\n",
       "        vertical-align: middle;\n",
       "    }\n",
       "\n",
       "    .dataframe tbody tr th {\n",
       "        vertical-align: top;\n",
       "    }\n",
       "\n",
       "    .dataframe thead th {\n",
       "        text-align: right;\n",
       "    }\n",
       "</style>\n",
       "<table border=\"1\" class=\"dataframe\">\n",
       "  <thead>\n",
       "    <tr style=\"text-align: right;\">\n",
       "      <th></th>\n",
       "      <th>nama_instansi</th>\n",
       "    </tr>\n",
       "  </thead>\n",
       "  <tbody>\n",
       "    <tr>\n",
       "      <th>0</th>\n",
       "      <td>kementerian kominfo</td>\n",
       "    </tr>\n",
       "    <tr>\n",
       "      <th>1</th>\n",
       "      <td>tidak tahu</td>\n",
       "    </tr>\n",
       "    <tr>\n",
       "      <th>2</th>\n",
       "      <td>pt maybank indonesia tbk</td>\n",
       "    </tr>\n",
       "    <tr>\n",
       "      <th>3</th>\n",
       "      <td>rekanan</td>\n",
       "    </tr>\n",
       "    <tr>\n",
       "      <th>4</th>\n",
       "      <td>kemko marves</td>\n",
       "    </tr>\n",
       "    <tr>\n",
       "      <th>...</th>\n",
       "      <td>...</td>\n",
       "    </tr>\n",
       "    <tr>\n",
       "      <th>2156</th>\n",
       "      <td>pt cahaya maha pertiwi</td>\n",
       "    </tr>\n",
       "    <tr>\n",
       "      <th>2157</th>\n",
       "      <td>pemkab sintang</td>\n",
       "    </tr>\n",
       "    <tr>\n",
       "      <th>2158</th>\n",
       "      <td>desa ginuk</td>\n",
       "    </tr>\n",
       "    <tr>\n",
       "      <th>2159</th>\n",
       "      <td>direktur utama pt bni</td>\n",
       "    </tr>\n",
       "    <tr>\n",
       "      <th>2160</th>\n",
       "      <td>tidak diketahui pelapor</td>\n",
       "    </tr>\n",
       "  </tbody>\n",
       "</table>\n",
       "<p>2160 rows × 1 columns</p>\n",
       "</div>"
      ],
      "text/plain": [
       "                 nama_instansi\n",
       "0          kementerian kominfo\n",
       "1                   tidak tahu\n",
       "2     pt maybank indonesia tbk\n",
       "3                      rekanan\n",
       "4                 kemko marves\n",
       "...                        ...\n",
       "2156    pt cahaya maha pertiwi\n",
       "2157            pemkab sintang\n",
       "2158                desa ginuk\n",
       "2159     direktur utama pt bni\n",
       "2160   tidak diketahui pelapor\n",
       "\n",
       "[2160 rows x 1 columns]"
      ]
     },
     "execution_count": 11,
     "metadata": {},
     "output_type": "execute_result"
    }
   ],
   "source": [
    "test_data2"
   ]
  },
  {
   "cell_type": "markdown",
   "id": "92e9bfca",
   "metadata": {},
   "source": [
    "## Predictions"
   ]
  },
  {
   "cell_type": "code",
   "execution_count": null,
   "id": "d331527a",
   "metadata": {
    "scrolled": true
   },
   "outputs": [
    {
     "name": "stdout",
     "output_type": "stream",
     "text": [
      "processing index 0: kementerian kominfo\n",
      "processing index 1: tidak tahu\n",
      "processing index 2: pt maybank indonesia tbk\n",
      "processing index 3: rekanan\n",
      "processing index 4: kemko marves\n",
      "processing index 5: smk negeri 1 jogonalan\n",
      "processing index 6: kantor pelayanan pajak pratama medan barat\n",
      "processing index 7: grab\n",
      "processing index 8: pt sawit sumbermas sarana tbk\n",
      "processing index 9: pt nusa niaga perkasa\n",
      "processing index 10: pemerintah kota kotamobagu\n",
      "processing index 11: lanal gorontalo\n",
      "processing index 12: pemerintah kabupaten ciamis\n",
      "processing index 13: pemerintah kabupaten sumba tengah ntt\n",
      "processing index 14: asuransi jiwa sinarmas\n",
      "processing index 15: lapas kelas iia cilegon\n",
      "processing index 16: masyarakat\n",
      "processing index 17: pt yaza pratama\n",
      "processing index 18: yayasan reef check indonesia\n",
      "processing index 19: kencana sakti\n",
      "processing index 20: sma raudlatul ulum 2 kubu raya\n",
      "processing index 21: pt indofood fortuna makmur\n",
      "processing index 22: lembaga pembiayaan ekspor indonesia\n",
      "processing index 23: bank bni cabang perguruan tinggi bandung\n",
      "processing index 24: pt citra riantara sejahtera\n",
      "processing index 25: kanwil kemenag jawa tengah\n",
      "processing index 26: pt intercons\n",
      "processing index 27: kontraktor listrik\n",
      "processing index 28: kantor atr   bpn kota salatiga\n",
      "processing index 29: pemerintah kabupaten kudus\n",
      "processing index 30: distributor pupuk bersubsidi\n",
      "processing index 31: advokat kuasa hukum\n",
      "processing index 32: universitas islam batik\n",
      "processing index 33: direktur cv edlin lestari mandiri\n",
      "processing index 34: dinas koperasi dan ukm kabupaten sleman\n",
      "processing index 35: perhimpunan pedagang surat utang\n",
      "processing index 36: mahkamah\n",
      "processing index 37: pt asuransi jasa indonesia persero\n",
      "processing index 38: hotel vasa dan hotel bumi\n",
      "processing index 39: dinas pendidikan sekolah smp sd\n",
      "processing index 40: bank syariah indonesia malang\n",
      "processing index 41: kementerian kesehatan\n",
      "processing index 42: perusahaan renis jaya\n",
      "processing index 43: pt candi arta\n",
      "processing index 44: founder astronacci  pegawai swasta\n",
      "processing index 45: roseana widyanti sh mkn\n",
      "processing index 46: think artha\n",
      "processing index 47: laboratorium valid\n",
      "processing index 48: ksp kospinjasa dan ksp pangestu\n",
      "processing index 49: badan narkotika nasional\n",
      "processing index 50: man 2 kampar\n",
      "processing index 51: nasabah bank mandiri pemilik toko parfum\n",
      "processing index 52: babk bjb cabang karawang\n",
      "processing index 53: pt rianda usaha mandiri\n",
      "processing index 54: direktur jakarta convention center\n",
      "processing index 55: tidak diketahui namun diduga nasabah bni\n",
      "processing index 56: pt kordon putra sinerga\n",
      "processing index 57: garuda food\n",
      "processing index 58: cv hotma sinar surya\n",
      "processing index 59: pt garuda indonesia\n",
      "processing index 60: umum\n",
      "processing index 61: ketua dprd kabupaten malinau\n",
      "processing index 62: pt bulog cabang surakarta\n",
      "processing index 63: loka pom di loka rejang lebong dan bpom di bengkulu\n",
      "processing index 64: kementerian keuangan bangladesh\n",
      "processing index 65: pt semen jakarta\n",
      "processing index 66: bank indonesia bank sentral republik indonesia\n",
      "processing index 67: universitas hamzanwadi lombok ntb\n",
      "processing index 68: pemerintah kabupaten grobogan\n",
      "processing index 69: toko muhanah\n",
      "processing index 70: rs banyumanik\n",
      "processing index 71: kementerian pupr\n",
      "processing index 72: kgi sekuritas\n",
      "processing index 73: pt hidup tujuh lautan\n",
      "processing index 74: hotel horison\n",
      "processing index 75: pt nusa biru abadi\n",
      "processing index 76: bank mandiri medan\n",
      "processing index 77: pemerintah kabupaten pemalang\n",
      "processing index 78: pt lisna syifa prima padang\n",
      "processing index 79: ptpn xii\n",
      "processing index 80: polres kabtapanuli selatan\n",
      "processing index 81: uptd kab bima\n",
      "processing index 82: fave hotel tuban\n",
      "processing index 83: dinas kesehatan sumba timur\n",
      "processing index 84: el royal hotel\n",
      "processing index 85: camat kecamatan mulak sebingkai\n",
      "processing index 86: smk pasundan 1\n",
      "processing index 87: wajib pajak individu\n",
      "processing index 88: badan pelindungan pekerja migran indonesia\n",
      "processing index 89: anggota dprd fraksi ppp\n",
      "processing index 90: kkp kelas iii bitung\n",
      "processing index 91: terlampir\n",
      "processing index 92: desa mekarharja\n",
      "processing index 93: pt artha teknik abadi\n",
      "processing index 94: rincian terlampir\n",
      "processing index 95: pt pelayaran bina benua samudera banjarmasin\n",
      "processing index 96: cv sabeena rizky perkasa\n",
      "processing index 97: pt cirebon energi prasarana cepr\n",
      "processing index 98: tidak diketahui namun diduga debitur bni\n",
      "processing index 99: bpom di jambi\n",
      "processing index 100: panitia proyek sosial pk lpdp\n",
      "processing index 101: pegawai pt oigo infrastruktur\n",
      "processing index 102: pt pos indonesia kc cirebon\n",
      "processing index 103: pt victory chingluh\n",
      "processing index 104: cv jangkar pacific\n",
      "processing index 105: bank mandiri cabang samarinda\n",
      "processing index 106: madrasah muallimaat muhammadiyah yogyakarta\n",
      "processing index 107: bri kcp bkkbn\n",
      "processing index 108: pemerintah kabupaten penajam paser utara\n",
      "processing index 109: panitia lokakarya\n",
      "processing index 110: pt pos\n",
      "processing index 111: pt skp\n",
      "processing index 112: pt kahayan berseri\n",
      "processing index 113: kementerian investasi bkpm\n",
      "processing index 114: kantor gubernur kalimantan timur\n",
      "processing index 115: pengadilan agama sidoarjo\n",
      "processing index 116: cls france\n",
      "processing index 117: jaya seluler indonesia\n",
      "processing index 118: koperasi taxi bali\n",
      "processing index 119: pln batubara\n",
      "processing index 120: dinas tenaga kerja prov jawa tengah\n",
      "processing index 121: pemerintah kabupaten lamandau\n",
      "processing index 122: dinas pppa deli serdang\n",
      "processing index 123: pt jamkrindo\n",
      "processing index 124: pt rizky bumi persada indah\n",
      "processing index 125: pt itdc\n",
      "processing index 126: pt pegadaian kanwil iv balikpapan\n",
      "processing index 127: bank bri cabang blitar\n",
      "processing index 128: sasimi\n",
      "processing index 129: dapur rindang\n",
      "processing index 130: universitas muhammadiyah surakarta\n",
      "processing index 131: menteri pertanian\n",
      "processing index 132: pt bank bri\n",
      "processing index 133: instansi pemerintahan\n",
      "processing index 134: notaris hendrik kusalam\n",
      "processing index 135: kecamatan gresik\n",
      "processing index 136: alazhar islamic university mataram\n",
      "processing index 137: pt passokorang\n",
      "processing index 138: pt askrindo\n",
      "processing index 139: pt\n",
      "processing index 140: pengusaha galian tanah urug\n",
      "processing index 141: pemerintah provinsi sumsel\n",
      "processing index 142: pemerintah kabupaten merangin\n",
      "processing index 143: bank bahtermas\n",
      "processing index 144: pt kafila pelita sukses\n",
      "processing index 145: lpse kabupaten lamongan\n",
      "processing index 146: pt absy h hasanuddin\n",
      "processing index 147: pt asuransi jasa indonesia cab samarinda\n",
      "processing index 148: asn kabid pajak bapenda provinsi lampung\n",
      "processing index 149: korporasi\n",
      "processing index 150: desa\n",
      "processing index 151: direktorat barang kebutuhan pokok dan barang penting\n",
      "processing index 152: hendrianto lijaya  ien nio\n",
      "processing index 153: koordinator bazis baznas jakarta timur\n",
      "processing index 154: pt indonesia comnets plus\n",
      "processing index 155: pemerintah kabupaten kutai timur\n",
      "processing index 156: instituto para a qualidade de timorleste iqtlip\n",
      "processing index 157: pt askrindo kanwil v denpasar\n",
      "processing index 158: pemerintah kota cimahi\n",
      "processing index 159: bupati sumenep\n",
      "processing index 160: cv putra pandawa\n",
      "processing index 161: dinas kesehatan provinsi sumatera selatan\n",
      "processing index 162: otoritas jasa keuangan\n",
      "processing index 163: mdb jombang\n",
      "processing index 164: pemerintah kota kediri\n",
      "processing index 165: bdk palembang\n",
      "processing index 166: pemerintah kabupaten tanah laut\n",
      "processing index 167: dpc apsi kota surakarta\n",
      "processing index 168: optik beta\n",
      "processing index 169: bpk\n",
      "processing index 170: kementerian esdm\n",
      "processing index 171: pemerintah provinsi sumatera utara\n",
      "processing index 172: pt jatiwangi property group\n",
      "processing index 173: pelaku usaha di surabaya\n",
      "processing index 174: rs pelengkap\n",
      "processing index 175: perusahaan batubara\n",
      "processing index 176: kepala badan konservasi borobudur\n",
      "processing index 177: virama karya\n",
      "processing index 178: pnm investment management\n",
      "processing index 179: kemenkumham kanwil prov riau\n",
      "processing index 180: developer rekanan\n",
      "processing index 181: pt bank mandiri cikampek\n"
     ]
    },
    {
     "name": "stdout",
     "output_type": "stream",
     "text": [
      "processing index 182: kepala staf angkatan laut\n",
      "processing index 183: pt pulau rempah indonesia\n",
      "processing index 184: rsu mitra sehat\n",
      "processing index 185: royal woodpark residences\n",
      "processing index 186: pt airmas perkasa\n",
      "processing index 187: salah satu perangkat desa\n",
      "processing index 188: pemerintah kota singkawang\n",
      "processing index 189: kpu kabupaten fakfak\n",
      "processing index 190: kedutaan besar china jabatan science counselor\n",
      "processing index 191: pt bahana sekuritas\n",
      "processing index 192: sd negeri 2 kedung menjangan\n",
      "processing index 193: instalasi farmasi klinik erha skin\n",
      "processing index 194: bupati halmahera selatan\n",
      "processing index 195: kementerian pariwisata dan ekonomi kreatif badan pariwisata dan ekonomi kreatif\n",
      "processing index 196: pt pelayaran bunga nusa mahakam  group\n",
      "processing index 197: pt bank central asia tbk\n",
      "processing index 198: pemerintah kota cilegon\n",
      "processing index 199: bank bsi\n",
      "processing index 200: inspektorat jenderal tni\n",
      "processing index 201: pemerintah kota pontianak\n",
      "processing index 202: kapolda kalimantan barat\n",
      "processing index 203: dinas pekerjaan umum dan perumahan rakyat pemerintah kota pontianak\n",
      "processing index 204: pt bumi daya plaza\n",
      "processing index 205: pt sun chang indonesia\n",
      "processing index 206: cv indah jaya\n",
      "processing index 207: jalan rawa buaya no8 cengkareng jakarta barat\n",
      "processing index 208: pemerintah kabupaten wonogiri\n",
      "processing index 209: kades penandingan kec pseksu kab lahat\n",
      "processing index 210: induk koperasi kepolisian negara inkopol\n",
      "processing index 211: kemenkumham\n",
      "processing index 212: pt hardaya widya graha\n",
      "processing index 213: rsud sidoarjo\n",
      "processing index 214: pt pos indonesia\n",
      "processing index 215: pt indracipta purisatria\n",
      "processing index 216: \n",
      "processing index 217: samsul hidayat\n",
      "processing index 218: kecamatan pameungpeuk desa\n",
      "processing index 219: dinas kesehatan gresik\n",
      "processing index 220: pt syabangun bumitirta\n",
      "processing index 221: disdik pemkot gorontalo\n",
      "processing index 222: komisi pemilihan umum\n",
      "processing index 223: pt bnd\n",
      "processing index 224: dinas pppa medan\n",
      "processing index 225: pt roatex indonesia toll system\n",
      "processing index 226: mediatron\n",
      "processing index 227: surapita unitrans\n",
      "processing index 228: staf\n",
      "processing index 229: dinas pemberdayaan masyarakat dan desa kependudukan dan pencatatan sipil provinsi kepulauan riau\n",
      "processing index 230: pemerintah kota probolinggo\n",
      "processing index 231: kementerian pendidikan kebudayaan riset dan teknologi\n",
      "processing index 232: pt jakarta propertindo perseroda\n",
      "processing index 233: satuan pendidikan\n",
      "processing index 234: pemerintah kabupaten probolinggo\n",
      "processing index 235: pt sasa inti jakarta\n",
      "processing index 236: rumah bumn wonogiri\n",
      "processing index 237: ppbmn kementerian esdm\n",
      "processing index 238: dsme\n",
      "processing index 239: ex advisor organisasi dan sdm\n",
      "processing index 240: pemerintah kabupaten kuningan\n",
      "processing index 241: one care solution\n",
      "processing index 242: pt tata griya jaya\n",
      "processing index 243: ceo asri group\n",
      "processing index 244: smk negeri 1 palasah cabang dinas pendidikan wilayah ix provinsi jawa barat\n"
     ]
    }
   ],
   "source": [
    "predictions = get_similar_entity_1b(test_data2, reference_version='v2')"
   ]
  },
  {
   "cell_type": "code",
   "execution_count": null,
   "id": "7e641871",
   "metadata": {},
   "outputs": [],
   "source": [
    "predictions.head()"
   ]
  },
  {
   "cell_type": "code",
   "execution_count": null,
   "id": "140a3049",
   "metadata": {},
   "outputs": [],
   "source": [
    "predictions"
   ]
  },
  {
   "cell_type": "code",
   "execution_count": null,
   "id": "c9924081",
   "metadata": {},
   "outputs": [],
   "source": [
    "predictions.groupby('candidates').count().sort_values('nama_instansi', ascending=False)"
   ]
  },
  {
   "cell_type": "markdown",
   "id": "90fd0548",
   "metadata": {},
   "source": [
    "## Get true references for each candidate returned"
   ]
  },
  {
   "cell_type": "code",
   "execution_count": null,
   "id": "62642a36",
   "metadata": {},
   "outputs": [],
   "source": [
    "train = pd.read_csv('../indexing/data/splitted_data/v2/train.csv')\n",
    "val = pd.read_csv('../indexing/data/splitted_data/v2/val.csv')\n",
    "test = pd.read_csv('../indexing/data/splitted_data/v2/test.csv')"
   ]
  },
  {
   "cell_type": "code",
   "execution_count": null,
   "id": "af2531c3",
   "metadata": {},
   "outputs": [],
   "source": [
    "df_all = pd.concat([train, val, test])"
   ]
  },
  {
   "cell_type": "code",
   "execution_count": null,
   "id": "2bffca05",
   "metadata": {},
   "outputs": [],
   "source": [
    "df_all.reset_index(drop=True, inplace=True)"
   ]
  },
  {
   "cell_type": "code",
   "execution_count": null,
   "id": "6ae7ec7a",
   "metadata": {},
   "outputs": [],
   "source": [
    "df_all"
   ]
  },
  {
   "cell_type": "code",
   "execution_count": null,
   "id": "56eba444",
   "metadata": {},
   "outputs": [],
   "source": [
    "df_all['cln_instansi'] = df_all['instansi'].str.replace('/', ' ')\n",
    "df_all['cln_instansi'] = df_all['cln_instansi'].str.replace('[^\\w\\s]','',regex=True)"
   ]
  },
  {
   "cell_type": "code",
   "execution_count": null,
   "id": "29e091a0",
   "metadata": {},
   "outputs": [],
   "source": [
    "df_all['cln_reference'] = df_all['reference'].str.replace('/', ' ')\n",
    "df_all['cln_reference'] = df_all['cln_reference'].str.replace('[^\\w\\s]','',regex=True)"
   ]
  },
  {
   "cell_type": "code",
   "execution_count": null,
   "id": "c2d1c5d6",
   "metadata": {},
   "outputs": [],
   "source": [
    "df_all = df_all.drop(['reference', 'instansi'], axis=1)\n",
    "df_all = df_all.rename(columns={'cln_reference':'reference', 'cln_instansi':'instansi'})"
   ]
  },
  {
   "cell_type": "code",
   "execution_count": null,
   "id": "8111265c",
   "metadata": {},
   "outputs": [],
   "source": [
    "df_all"
   ]
  },
  {
   "cell_type": "code",
   "execution_count": null,
   "id": "23bd4338",
   "metadata": {},
   "outputs": [],
   "source": [
    "df_all[df_all['instansi'].str.startswith('kementerian agraria dan tata ruang')]['instansi'].iloc[0]"
   ]
  },
  {
   "cell_type": "code",
   "execution_count": null,
   "id": "8a8c3bd0",
   "metadata": {},
   "outputs": [],
   "source": [
    "def get_official_instansi(nama_instansi):\n",
    "    official = ''\n",
    "    try:\n",
    "        official = df_all[(df_all['reference']==nama_instansi) & (df_all['status']=='yes')]['instansi'].values[0]\n",
    "    except:\n",
    "        official = df_all[(df_all['instansi']==nama_instansi)]['instansi'].values[0]\n",
    "    return official"
   ]
  },
  {
   "cell_type": "code",
   "execution_count": null,
   "id": "4ff2bb9c",
   "metadata": {},
   "outputs": [],
   "source": [
    "get_official_instansi('badan pertanahan nasional')"
   ]
  },
  {
   "cell_type": "code",
   "execution_count": null,
   "id": "75b9be39",
   "metadata": {},
   "outputs": [],
   "source": [
    "def get_true_references(nama_instansi):\n",
    "    official_instansi = get_official_instansi(nama_instansi)\n",
    "    true_refs = [official_instansi]\n",
    "    true_references = df_all[(df_all['instansi']==official_instansi) & (df_all['status']=='yes')]['reference']\n",
    "    for i in true_references:\n",
    "        true_refs.append(i)\n",
    "    return true_refs"
   ]
  },
  {
   "cell_type": "code",
   "execution_count": null,
   "id": "01fc0658",
   "metadata": {},
   "outputs": [],
   "source": [
    "get_true_references('badan pertanahan nasional')"
   ]
  },
  {
   "cell_type": "markdown",
   "id": "ce54e297",
   "metadata": {},
   "source": [
    "### Loop through"
   ]
  },
  {
   "cell_type": "code",
   "execution_count": null,
   "id": "cb7c7454",
   "metadata": {},
   "outputs": [],
   "source": [
    "predicted_status = []\n",
    "true_references = []"
   ]
  },
  {
   "cell_type": "code",
   "execution_count": null,
   "id": "cde02a16",
   "metadata": {},
   "outputs": [],
   "source": [
    "for index, row in predictions.iterrows():\n",
    "    nama_inst = row[['candidates']].values[0]\n",
    "    \n",
    "    try:\n",
    "        if nama_inst == 'Bukan instansi BUMN, Kementerian, Pemerintah':\n",
    "            true_references.append([])\n",
    "            predicted_status.append('True')\n",
    "        else:\n",
    "            true_ref = get_true_references(nama_inst)\n",
    "            true_references.append(true_ref)\n",
    "            test_instansi = row[['nama_instansi']].values[0]\n",
    "            if test_instansi in true_ref:\n",
    "                predicted_status.append('True')\n",
    "            else:\n",
    "                predicted_status.append('False')\n",
    "    except:\n",
    "        print(nama_inst)\n",
    "        print(index)\n",
    "        predicted_status.append('False')\n",
    "        true_references.append([])\n",
    "        continue"
   ]
  },
  {
   "cell_type": "code",
   "execution_count": null,
   "id": "cbbe8735",
   "metadata": {},
   "outputs": [],
   "source": [
    "predictions['status_from_references'] = predicted_status\n",
    "predictions['true_references'] = true_references"
   ]
  },
  {
   "cell_type": "code",
   "execution_count": null,
   "id": "b054b8df",
   "metadata": {},
   "outputs": [],
   "source": [
    "predictions"
   ]
  },
  {
   "cell_type": "code",
   "execution_count": null,
   "id": "4bee6e76",
   "metadata": {},
   "outputs": [],
   "source": [
    "predictions.groupby('status_from_references').count()[['nama_instansi']]"
   ]
  },
  {
   "cell_type": "code",
   "execution_count": null,
   "id": "34fcdd42",
   "metadata": {},
   "outputs": [],
   "source": [
    "predictions.to_csv('./eval/performances/exp1b-2b.csv')"
   ]
  }
 ],
 "metadata": {
  "kernelspec": {
   "display_name": "Python 3 (ipykernel)",
   "language": "python",
   "name": "python3"
  },
  "language_info": {
   "codemirror_mode": {
    "name": "ipython",
    "version": 3
   },
   "file_extension": ".py",
   "mimetype": "text/x-python",
   "name": "python",
   "nbconvert_exporter": "python",
   "pygments_lexer": "ipython3",
   "version": "3.10.8"
  }
 },
 "nbformat": 4,
 "nbformat_minor": 5
}

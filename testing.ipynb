{
 "cells": [
  {
   "cell_type": "code",
   "execution_count": 57,
   "metadata": {},
   "outputs": [],
   "source": [
    "#Import Library\n",
    "import numpy as np\n",
    "import pandas as pd\n",
    "import re\n",
    "import string\n",
    "from sklearn.metrics import f1_score,accuracy_score\n",
    "from simpletransformers.classification import ClassificationModel\n",
    "from argparse import ArgumentParser, ArgumentDefaultsHelpFormatter\n",
    "import logging\n",
    "import warnings\n",
    "warnings.simplefilter(\"ignore\")\n",
    "import os\n",
    "os.environ[\"TOKENIZERS_PARALLELISM\"] = \"false\"\n"
   ]
  },
  {
   "cell_type": "code",
   "execution_count": 58,
   "metadata": {},
   "outputs": [],
   "source": [
    "# Load Dataset\n",
    "test_df = pd.read_csv('DATA/v1/test.csv')\n",
    "test_df['status'] = test_df['status'].apply(lambda x : str(x).strip())"
   ]
  },
  {
   "cell_type": "code",
   "execution_count": 59,
   "metadata": {},
   "outputs": [
    {
     "data": {
      "text/html": [
       "<div>\n",
       "<style scoped>\n",
       "    .dataframe tbody tr th:only-of-type {\n",
       "        vertical-align: middle;\n",
       "    }\n",
       "\n",
       "    .dataframe tbody tr th {\n",
       "        vertical-align: top;\n",
       "    }\n",
       "\n",
       "    .dataframe thead th {\n",
       "        text-align: right;\n",
       "    }\n",
       "</style>\n",
       "<table border=\"1\" class=\"dataframe\">\n",
       "  <thead>\n",
       "    <tr style=\"text-align: right;\">\n",
       "      <th></th>\n",
       "      <th>instansi</th>\n",
       "      <th>reference</th>\n",
       "      <th>status</th>\n",
       "    </tr>\n",
       "  </thead>\n",
       "  <tbody>\n",
       "    <tr>\n",
       "      <th>0</th>\n",
       "      <td>Kementerian Koperasi dan Usaha Kecil dan Menengah</td>\n",
       "      <td>Kementrian Koperasi dan UKM</td>\n",
       "      <td>yes</td>\n",
       "    </tr>\n",
       "    <tr>\n",
       "      <th>1</th>\n",
       "      <td>Kementerian Koperasi dan Usaha Kecil dan Menengah</td>\n",
       "      <td>KemenkopUKM</td>\n",
       "      <td>yes</td>\n",
       "    </tr>\n",
       "    <tr>\n",
       "      <th>2</th>\n",
       "      <td>Kementerian Koperasi dan Usaha Kecil dan Menengah</td>\n",
       "      <td>UKM</td>\n",
       "      <td>no</td>\n",
       "    </tr>\n",
       "    <tr>\n",
       "      <th>3</th>\n",
       "      <td>Kementerian Koperasi dan Usaha Kecil dan Menengah</td>\n",
       "      <td>Usaha Kecil dan Menengah</td>\n",
       "      <td>no</td>\n",
       "    </tr>\n",
       "    <tr>\n",
       "      <th>4</th>\n",
       "      <td>Kementerian Pendayagunaan Aparatur Negara dan ...</td>\n",
       "      <td>PANRB</td>\n",
       "      <td>yes</td>\n",
       "    </tr>\n",
       "  </tbody>\n",
       "</table>\n",
       "</div>"
      ],
      "text/plain": [
       "                                            instansi  \\\n",
       "0  Kementerian Koperasi dan Usaha Kecil dan Menengah   \n",
       "1  Kementerian Koperasi dan Usaha Kecil dan Menengah   \n",
       "2  Kementerian Koperasi dan Usaha Kecil dan Menengah   \n",
       "3  Kementerian Koperasi dan Usaha Kecil dan Menengah   \n",
       "4  Kementerian Pendayagunaan Aparatur Negara dan ...   \n",
       "\n",
       "                     reference status  \n",
       "0  Kementrian Koperasi dan UKM    yes  \n",
       "1                  KemenkopUKM    yes  \n",
       "2                          UKM     no  \n",
       "3     Usaha Kecil dan Menengah     no  \n",
       "4                        PANRB    yes  "
      ]
     },
     "execution_count": 59,
     "metadata": {},
     "output_type": "execute_result"
    }
   ],
   "source": [
    "test_df.head()"
   ]
  },
  {
   "cell_type": "code",
   "execution_count": 60,
   "metadata": {},
   "outputs": [
    {
     "data": {
      "text/html": [
       "<div>\n",
       "<style scoped>\n",
       "    .dataframe tbody tr th:only-of-type {\n",
       "        vertical-align: middle;\n",
       "    }\n",
       "\n",
       "    .dataframe tbody tr th {\n",
       "        vertical-align: top;\n",
       "    }\n",
       "\n",
       "    .dataframe thead th {\n",
       "        text-align: right;\n",
       "    }\n",
       "</style>\n",
       "<table border=\"1\" class=\"dataframe\">\n",
       "  <thead>\n",
       "    <tr style=\"text-align: right;\">\n",
       "      <th></th>\n",
       "      <th>status</th>\n",
       "      <th>count</th>\n",
       "      <th>pct</th>\n",
       "    </tr>\n",
       "  </thead>\n",
       "  <tbody>\n",
       "    <tr>\n",
       "      <th>0</th>\n",
       "      <td>no</td>\n",
       "      <td>395</td>\n",
       "      <td>67.062818</td>\n",
       "    </tr>\n",
       "    <tr>\n",
       "      <th>1</th>\n",
       "      <td>yes</td>\n",
       "      <td>194</td>\n",
       "      <td>32.937182</td>\n",
       "    </tr>\n",
       "  </tbody>\n",
       "</table>\n",
       "</div>"
      ],
      "text/plain": [
       "  status  count        pct\n",
       "0     no    395  67.062818\n",
       "1    yes    194  32.937182"
      ]
     },
     "execution_count": 60,
     "metadata": {},
     "output_type": "execute_result"
    }
   ],
   "source": [
    "count_df = test_df['status'].value_counts().reset_index().rename({\"status\" : \"count\", \"index\" : \"status\"}, axis=1)\n",
    "count_df['pct'] = 100*count_df['count']/len(test_df)\n",
    "count_df"
   ]
  },
  {
   "cell_type": "code",
   "execution_count": 61,
   "metadata": {},
   "outputs": [],
   "source": [
    "#Ubah nama kolom\n",
    "test_df = test_df.rename({\"instansi\" : \"sentence1\", \"reference\" : \"sentence2\", \"status\" : \"label\"}, axis=1)"
   ]
  },
  {
   "cell_type": "code",
   "execution_count": 62,
   "metadata": {},
   "outputs": [],
   "source": [
    "#label\n",
    "test_df['label'] = test_df['label'].map({\"no\" : 0, \"yes\" : 1})"
   ]
  },
  {
   "cell_type": "code",
   "execution_count": 63,
   "metadata": {},
   "outputs": [],
   "source": [
    "test_df[['sentence1', 'sentence2']] = test_df[['sentence1', 'sentence2']].applymap(lambda x : str(x).lower())"
   ]
  },
  {
   "cell_type": "code",
   "execution_count": 64,
   "metadata": {},
   "outputs": [
    {
     "data": {
      "text/html": [
       "<div>\n",
       "<style scoped>\n",
       "    .dataframe tbody tr th:only-of-type {\n",
       "        vertical-align: middle;\n",
       "    }\n",
       "\n",
       "    .dataframe tbody tr th {\n",
       "        vertical-align: top;\n",
       "    }\n",
       "\n",
       "    .dataframe thead th {\n",
       "        text-align: right;\n",
       "    }\n",
       "</style>\n",
       "<table border=\"1\" class=\"dataframe\">\n",
       "  <thead>\n",
       "    <tr style=\"text-align: right;\">\n",
       "      <th></th>\n",
       "      <th>sentence1</th>\n",
       "      <th>sentence2</th>\n",
       "      <th>label</th>\n",
       "    </tr>\n",
       "  </thead>\n",
       "  <tbody>\n",
       "    <tr>\n",
       "      <th>0</th>\n",
       "      <td>kementerian koperasi dan usaha kecil dan menengah</td>\n",
       "      <td>kementrian koperasi dan ukm</td>\n",
       "      <td>1</td>\n",
       "    </tr>\n",
       "    <tr>\n",
       "      <th>1</th>\n",
       "      <td>kementerian koperasi dan usaha kecil dan menengah</td>\n",
       "      <td>kemenkopukm</td>\n",
       "      <td>1</td>\n",
       "    </tr>\n",
       "    <tr>\n",
       "      <th>2</th>\n",
       "      <td>kementerian koperasi dan usaha kecil dan menengah</td>\n",
       "      <td>ukm</td>\n",
       "      <td>0</td>\n",
       "    </tr>\n",
       "    <tr>\n",
       "      <th>3</th>\n",
       "      <td>kementerian koperasi dan usaha kecil dan menengah</td>\n",
       "      <td>usaha kecil dan menengah</td>\n",
       "      <td>0</td>\n",
       "    </tr>\n",
       "    <tr>\n",
       "      <th>4</th>\n",
       "      <td>kementerian pendayagunaan aparatur negara dan ...</td>\n",
       "      <td>panrb</td>\n",
       "      <td>1</td>\n",
       "    </tr>\n",
       "  </tbody>\n",
       "</table>\n",
       "</div>"
      ],
      "text/plain": [
       "                                           sentence1  \\\n",
       "0  kementerian koperasi dan usaha kecil dan menengah   \n",
       "1  kementerian koperasi dan usaha kecil dan menengah   \n",
       "2  kementerian koperasi dan usaha kecil dan menengah   \n",
       "3  kementerian koperasi dan usaha kecil dan menengah   \n",
       "4  kementerian pendayagunaan aparatur negara dan ...   \n",
       "\n",
       "                     sentence2  label  \n",
       "0  kementrian koperasi dan ukm      1  \n",
       "1                  kemenkopukm      1  \n",
       "2                          ukm      0  \n",
       "3     usaha kecil dan menengah      0  \n",
       "4                        panrb      1  "
      ]
     },
     "execution_count": 64,
     "metadata": {},
     "output_type": "execute_result"
    }
   ],
   "source": [
    "test_df.head()"
   ]
  },
  {
   "cell_type": "code",
   "execution_count": 65,
   "metadata": {},
   "outputs": [],
   "source": [
    "test_df = test_df.rename({'sentence1':'text_a', 'sentence2':'text_b', 'label' : 'labels'}, axis=1)"
   ]
  },
  {
   "cell_type": "code",
   "execution_count": 66,
   "metadata": {},
   "outputs": [],
   "source": [
    "list_model = ['indobert_base_p2', 'indobert_base_p1']"
   ]
  },
  {
   "cell_type": "code",
   "execution_count": 67,
   "metadata": {},
   "outputs": [],
   "source": [
    "INDEX = 1\n",
    "model = ClassificationModel('bert', \"E:\\Agus Folder\\FIle pusatAI-ITB\\Project\\Gratifikasi KPK\\Models\\{}/bestModel\".format(list_model[INDEX]), use_cuda=True, cuda_device = 0, \n",
    "        args={\"use_multiprocessing\": False, \n",
    "              \"use_multiprocessing_for_evaluation\": False, \n",
    "              \"process_count\": 1}) "
   ]
  },
  {
   "cell_type": "code",
   "execution_count": 68,
   "metadata": {},
   "outputs": [],
   "source": [
    "def clean_text(text):\n",
    "    text = text.lower()\n",
    "    text = re.sub('[%s]' % re.escape(string.punctuation.replace('?', '')), '', text)\n",
    "    text = re.sub('\\w*\\d\\w*', '', text)\n",
    "    text = re.sub('[‘’“”…]', '', text)\n",
    "    text = re.sub('\\n', '', text)\n",
    "    text = re.sub('\\r', '', text)\n",
    "    text = text.replace('?', ' ?')\n",
    "    text = re.sub('[.;:!\\'?,\\\"()\\[\\]*~]', '', text)\n",
    "    text = re.sub('(<br\\s*/><br\\s*/>)|(\\-)|(\\/)', '', text)\n",
    "    text = re.sub(r\"^(â€œ)\", \"\" ,text)\n",
    "    return text"
   ]
  },
  {
   "cell_type": "code",
   "execution_count": 69,
   "metadata": {},
   "outputs": [],
   "source": [
    "import string\n",
    "test_df['text_a'] = test_df['text_a'].astype(str).apply(clean_text)"
   ]
  },
  {
   "cell_type": "code",
   "execution_count": 70,
   "metadata": {},
   "outputs": [
    {
     "data": {
      "application/vnd.jupyter.widget-view+json": {
       "model_id": "ceb60dad4f8049ff9793c74dfd3e3842",
       "version_major": 2,
       "version_minor": 0
      },
      "text/plain": [
       "  0%|          | 0/74 [00:00<?, ?it/s]"
      ]
     },
     "metadata": {},
     "output_type": "display_data"
    }
   ],
   "source": [
    "##Prediction\n",
    "string = []\n",
    "strings = []\n",
    "for i in test_df.index:\n",
    "  string.append(test_df['text_a'][i])\n",
    "  string.append(test_df['text_b'][i])\n",
    "  strings.append(string)\n",
    "  string = []\n",
    "predictions, raw_outputs = model.predict(strings)"
   ]
  },
  {
   "cell_type": "code",
   "execution_count": 71,
   "metadata": {},
   "outputs": [],
   "source": [
    "labels_true = test_df['labels'].values.tolist()"
   ]
  },
  {
   "cell_type": "code",
   "execution_count": 72,
   "metadata": {},
   "outputs": [
    {
     "name": "stdout",
     "output_type": "stream",
     "text": [
      "F1 Score Best Model : 0.9422750424448217\n",
      "Accuracy Score Best Model : 0.9422750424448217\n"
     ]
    }
   ],
   "source": [
    "#F1 Score\n",
    "f1 = f1_score(labels_true, y_pred=predictions, average='micro')\n",
    "acc = accuracy_score(labels_true, predictions)\n",
    "\n",
    "# Print Score\n",
    "print(\"F1 Score Best Model : {}\".format(f1))\n",
    "print('Accuracy Score Best Model : {}'.format(acc))"
   ]
  },
  {
   "cell_type": "code",
   "execution_count": 73,
   "metadata": {},
   "outputs": [],
   "source": [
    "test_df['prediksi'] = predictions"
   ]
  },
  {
   "cell_type": "code",
   "execution_count": 74,
   "metadata": {},
   "outputs": [
    {
     "name": "stdout",
     "output_type": "stream",
     "text": [
      "F1 Score Best Model : 0.9422750424448217\n",
      "Accuracy Score Best Model : 0.9422750424448217\n"
     ]
    }
   ],
   "source": [
    "#Save result (prediction and F1 score)\n",
    "script_path = \"\"\n",
    "new_abs_path = os.path.join(script_path, f\"result\")\n",
    "if not os.path.exists(new_abs_path):\n",
    "  os.mkdir(new_abs_path)\n",
    "\n",
    "test_df.to_csv('result/prediksi_{}.csv'.format(list_model[INDEX]), sep=\";\")\n",
    "with open('result/score_{}.txt'.format(list_model[INDEX]), 'w') as f:\n",
    "    f.write('F1 Score : {}'.format(f1))\n",
    "    f.write('\\n')\n",
    "    f.write('Accuracy Score : {}'.format(acc))\n",
    "\n",
    "# Print in txt format\n",
    "print(\"F1 Score Best Model : {}\".format(f1))\n",
    "print('Accuracy Score Best Model : {}'.format(acc))"
   ]
  },
  {
   "cell_type": "code",
   "execution_count": null,
   "metadata": {},
   "outputs": [],
   "source": []
  }
 ],
 "metadata": {
  "kernelspec": {
   "display_name": "Python 3.9.7 ('bertClass')",
   "language": "python",
   "name": "python3"
  },
  "language_info": {
   "codemirror_mode": {
    "name": "ipython",
    "version": 3
   },
   "file_extension": ".py",
   "mimetype": "text/x-python",
   "name": "python",
   "nbconvert_exporter": "python",
   "pygments_lexer": "ipython3",
   "version": "3.9.7"
  },
  "orig_nbformat": 4,
  "vscode": {
   "interpreter": {
    "hash": "8a99878c6a92c314e94d3a4d138a1f6ff6d2e216e8b8d331670d92eb51f59927"
   }
  }
 },
 "nbformat": 4,
 "nbformat_minor": 2
}

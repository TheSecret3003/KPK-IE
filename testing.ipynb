{
 "cells": [
  {
   "cell_type": "code",
   "execution_count": 93,
   "metadata": {},
   "outputs": [],
   "source": [
    "import pandas as pd"
   ]
  },
  {
   "cell_type": "code",
   "execution_count": 94,
   "metadata": {},
   "outputs": [],
   "source": [
    "# Load Dataset\n",
    "test_df = pd.read_csv('DATA/v2/test.csv')\n",
    "test_df['status'] = test_df['status'].apply(lambda x : str(x).strip())"
   ]
  },
  {
   "cell_type": "code",
   "execution_count": 95,
   "metadata": {},
   "outputs": [
    {
     "data": {
      "text/html": [
       "<div>\n",
       "<style scoped>\n",
       "    .dataframe tbody tr th:only-of-type {\n",
       "        vertical-align: middle;\n",
       "    }\n",
       "\n",
       "    .dataframe tbody tr th {\n",
       "        vertical-align: top;\n",
       "    }\n",
       "\n",
       "    .dataframe thead th {\n",
       "        text-align: right;\n",
       "    }\n",
       "</style>\n",
       "<table border=\"1\" class=\"dataframe\">\n",
       "  <thead>\n",
       "    <tr style=\"text-align: right;\">\n",
       "      <th></th>\n",
       "      <th>instansi</th>\n",
       "      <th>status</th>\n",
       "      <th>reference</th>\n",
       "    </tr>\n",
       "  </thead>\n",
       "  <tbody>\n",
       "    <tr>\n",
       "      <th>0</th>\n",
       "      <td>kementerian agraria dan tata ruang/badan perta...</td>\n",
       "      <td>yes</td>\n",
       "      <td>kementerian agraria</td>\n",
       "    </tr>\n",
       "    <tr>\n",
       "      <th>1</th>\n",
       "      <td>kementerian agraria dan tata ruang/badan perta...</td>\n",
       "      <td>yes</td>\n",
       "      <td>kementerian tata ruang</td>\n",
       "    </tr>\n",
       "    <tr>\n",
       "      <th>2</th>\n",
       "      <td>kementerian agraria dan tata ruang/badan perta...</td>\n",
       "      <td>yes</td>\n",
       "      <td>kementerian badan pertanahan nasional</td>\n",
       "    </tr>\n",
       "    <tr>\n",
       "      <th>3</th>\n",
       "      <td>kementerian agraria dan tata ruang/badan perta...</td>\n",
       "      <td>yes</td>\n",
       "      <td>badan pertanahan nasional</td>\n",
       "    </tr>\n",
       "    <tr>\n",
       "      <th>4</th>\n",
       "      <td>kementerian agraria dan tata ruang/badan perta...</td>\n",
       "      <td>yes</td>\n",
       "      <td>atr</td>\n",
       "    </tr>\n",
       "  </tbody>\n",
       "</table>\n",
       "</div>"
      ],
      "text/plain": [
       "                                            instansi status  \\\n",
       "0  kementerian agraria dan tata ruang/badan perta...    yes   \n",
       "1  kementerian agraria dan tata ruang/badan perta...    yes   \n",
       "2  kementerian agraria dan tata ruang/badan perta...    yes   \n",
       "3  kementerian agraria dan tata ruang/badan perta...    yes   \n",
       "4  kementerian agraria dan tata ruang/badan perta...    yes   \n",
       "\n",
       "                               reference  \n",
       "0                    kementerian agraria  \n",
       "1                 kementerian tata ruang  \n",
       "2  kementerian badan pertanahan nasional  \n",
       "3              badan pertanahan nasional  \n",
       "4                                    atr  "
      ]
     },
     "execution_count": 95,
     "metadata": {},
     "output_type": "execute_result"
    }
   ],
   "source": [
    "test_df.head()"
   ]
  },
  {
   "cell_type": "code",
   "execution_count": 96,
   "metadata": {},
   "outputs": [],
   "source": [
    "test_df = test_df[['instansi','reference','status']]"
   ]
  },
  {
   "cell_type": "code",
   "execution_count": 97,
   "metadata": {},
   "outputs": [
    {
     "data": {
      "text/html": [
       "<div>\n",
       "<style scoped>\n",
       "    .dataframe tbody tr th:only-of-type {\n",
       "        vertical-align: middle;\n",
       "    }\n",
       "\n",
       "    .dataframe tbody tr th {\n",
       "        vertical-align: top;\n",
       "    }\n",
       "\n",
       "    .dataframe thead th {\n",
       "        text-align: right;\n",
       "    }\n",
       "</style>\n",
       "<table border=\"1\" class=\"dataframe\">\n",
       "  <thead>\n",
       "    <tr style=\"text-align: right;\">\n",
       "      <th></th>\n",
       "      <th>instansi</th>\n",
       "      <th>reference</th>\n",
       "      <th>status</th>\n",
       "    </tr>\n",
       "  </thead>\n",
       "  <tbody>\n",
       "    <tr>\n",
       "      <th>0</th>\n",
       "      <td>kementerian agraria dan tata ruang/badan perta...</td>\n",
       "      <td>kementerian agraria</td>\n",
       "      <td>yes</td>\n",
       "    </tr>\n",
       "    <tr>\n",
       "      <th>1</th>\n",
       "      <td>kementerian agraria dan tata ruang/badan perta...</td>\n",
       "      <td>kementerian tata ruang</td>\n",
       "      <td>yes</td>\n",
       "    </tr>\n",
       "    <tr>\n",
       "      <th>2</th>\n",
       "      <td>kementerian agraria dan tata ruang/badan perta...</td>\n",
       "      <td>kementerian badan pertanahan nasional</td>\n",
       "      <td>yes</td>\n",
       "    </tr>\n",
       "    <tr>\n",
       "      <th>3</th>\n",
       "      <td>kementerian agraria dan tata ruang/badan perta...</td>\n",
       "      <td>badan pertanahan nasional</td>\n",
       "      <td>yes</td>\n",
       "    </tr>\n",
       "    <tr>\n",
       "      <th>4</th>\n",
       "      <td>kementerian agraria dan tata ruang/badan perta...</td>\n",
       "      <td>atr</td>\n",
       "      <td>yes</td>\n",
       "    </tr>\n",
       "  </tbody>\n",
       "</table>\n",
       "</div>"
      ],
      "text/plain": [
       "                                            instansi  \\\n",
       "0  kementerian agraria dan tata ruang/badan perta...   \n",
       "1  kementerian agraria dan tata ruang/badan perta...   \n",
       "2  kementerian agraria dan tata ruang/badan perta...   \n",
       "3  kementerian agraria dan tata ruang/badan perta...   \n",
       "4  kementerian agraria dan tata ruang/badan perta...   \n",
       "\n",
       "                               reference status  \n",
       "0                    kementerian agraria    yes  \n",
       "1                 kementerian tata ruang    yes  \n",
       "2  kementerian badan pertanahan nasional    yes  \n",
       "3              badan pertanahan nasional    yes  \n",
       "4                                    atr    yes  "
      ]
     },
     "execution_count": 97,
     "metadata": {},
     "output_type": "execute_result"
    }
   ],
   "source": [
    "test_df.head()"
   ]
  },
  {
   "cell_type": "code",
   "execution_count": 98,
   "metadata": {},
   "outputs": [],
   "source": [
    "list_model = ['indobert-base-p1', 'indobert-base-p2']\n",
    "INDEX = 1"
   ]
  },
  {
   "cell_type": "code",
   "execution_count": 99,
   "metadata": {},
   "outputs": [],
   "source": [
    "import torch\n",
    "import numpy as np\n",
    "from transformers import BertTokenizer\n",
    "\n",
    "tokenizer = BertTokenizer.from_pretrained('indobenchmark/{}'.format(list_model[INDEX]))\n",
    "labels = {'no':0,\n",
    "          'yes':1,\n",
    "          }\n"
   ]
  },
  {
   "cell_type": "code",
   "execution_count": 100,
   "metadata": {},
   "outputs": [],
   "source": [
    "class Dataset(torch.utils.data.Dataset):\n",
    "\n",
    "    def __init__(self, df):\n",
    "\n",
    "        self.labels = [labels[label] for label in df['status']]\n",
    "        self.texts = [tokenizer(df['instansi'][i], df['reference'][i],\n",
    "                               padding='max_length', max_length = 512, truncation=True, \n",
    "                               return_tensors=\"pt\") for i in range(0,len(df.index))]\n",
    "\n",
    "    def classes(self):\n",
    "        return self.labels\n",
    "\n",
    "    def __len__(self):\n",
    "        return len(self.labels)\n",
    "\n",
    "    def get_batch_labels(self, idx):\n",
    "        # Fetch a batch of labels\n",
    "        return np.array(self.labels[idx])\n",
    "\n",
    "    def get_batch_texts(self, idx):\n",
    "        # Fetch a batch of inputs\n",
    "        return self.texts[idx]\n",
    "\n",
    "    def __getitem__(self, idx):\n",
    "\n",
    "        batch_texts = self.get_batch_texts(idx)\n",
    "        batch_y = self.get_batch_labels(idx)\n",
    "\n",
    "        return batch_texts, batch_y"
   ]
  },
  {
   "cell_type": "code",
   "execution_count": 101,
   "metadata": {},
   "outputs": [],
   "source": [
    "from torch import nn\n",
    "from transformers import BertModel"
   ]
  },
  {
   "cell_type": "code",
   "execution_count": 102,
   "metadata": {},
   "outputs": [],
   "source": [
    "class BertClassifier(nn.Module):\n",
    "\n",
    "    def __init__(self, dropout=0.5):\n",
    "\n",
    "        super(BertClassifier, self).__init__()\n",
    "\n",
    "        self.bert = BertModel.from_pretrained('indobenchmark{}'.format(list_model[INDEX]))\n",
    "        self.dropout = nn.Dropout(dropout)\n",
    "        self.linear = nn.Linear(768, 2)\n",
    "        self.relu = nn.ReLU()\n",
    "\n",
    "    def forward(self, input_id, mask):\n",
    "\n",
    "        _, pooled_output = self.bert(input_ids= input_id, attention_mask=mask,return_dict=False)\n",
    "        dropout_output = self.dropout(pooled_output)\n",
    "        linear_output = self.linear(dropout_output)\n",
    "        final_layer = self.relu(linear_output)\n",
    "\n",
    "        return final_layer"
   ]
  },
  {
   "cell_type": "code",
   "execution_count": 103,
   "metadata": {},
   "outputs": [],
   "source": [
    "model = torch.load('Models/{}'.format(list_model[INDEX]))"
   ]
  },
  {
   "cell_type": "code",
   "execution_count": 104,
   "metadata": {},
   "outputs": [],
   "source": [
    "import torch.nn.functional as F"
   ]
  },
  {
   "cell_type": "code",
   "execution_count": 105,
   "metadata": {},
   "outputs": [],
   "source": [
    "# import pandas as pd\n",
    "# from indexing import search, preprocess_reference_data, index\n",
    "\n",
    "# def create_reference_data(version):\n",
    "#     prd = preprocess_reference_data.PreprocessReferenceData()\n",
    "    \n",
    "#     train = pd.read_csv(f'indexing/data/splitted_data/{version}/train.csv')\n",
    "#     val = pd.read_csv(f'indexing/data/splitted_data/{version}/val.csv')\n",
    "#     test = pd.read_csv(f'indexing/data/splitted_data/{version}/test.csv')\n",
    "#     labeled_df = pd.concat([train,val,test])\n",
    "\n",
    "#     bumn_df = pd.read_csv('indexing/data/from_kpk/Daftar BUMN AI.csv')\n",
    "#     klpd_df = pd.read_csv('indexing/data/from_kpk/Daftar KLPD PPG AI.csv')\n",
    "\n",
    "#     reference_data = prd.combine_reference_data(labeled_df, bumn_df, klpd_df)\n",
    "#     reference_data.to_csv(f'indexing/data/indexing/{version}/reference_data.csv')\n",
    "#     return reference_data\n",
    "\n",
    "# def create_index_table(version, reference_data):\n",
    "#     idx = index.Index(reference_data)\n",
    "\n",
    "#     index_table = idx.get_index_table()\n",
    "#     index_table.to_csv(f'indexing/data/indexing/{version}/index_table.csv')\n",
    "\n",
    "#     return index_table\n",
    "\n",
    "# def search_synonim (instansi) :     \n",
    "#     reference_data = pd.read_csv('indexing/data/indexing/v2/reference_data.csv')\n",
    "\n",
    "#     index_table = create_index_table('v2', reference_data)\n",
    "#     print(index_table)\n",
    "\n",
    "#     index_table = pd.read_csv('indexing/data/indexing/v2/index_table.csv')\n",
    "\n",
    "#     Test search\n",
    "#     s = search.Search(reference_data, index_table)\n",
    "\n",
    "#     nama_instansi = instansi\n",
    "#     phrase_candidates = s.search(nama_instansi)\n",
    "#     list_candidates = list(phrase_candidates.values())\n",
    "#     list_candidates= [x for y in list_candidates for x in y]\n",
    "\n",
    "\n",
    "#     return(list_candidates)\n",
    "\n",
    "# table_ai = pd.read_csv('DATA\\\\v2\\distinct_instansi_ai_table.csv')\n",
    "\n",
    "# sinonim_index = []\n",
    "# instansi_index = []\n",
    "# for idx in table_ai.index :\n",
    "##     append sinonim element\n",
    "#     temp = search_synonim(str(table_ai['nama_instansi'][idx]))\n",
    "#     instansi_index.append(temp)\n",
    "##     append instansi element\n",
    "#     temp_sinonim = [str(table_ai['nama_instansi'][idx])]\n",
    "#     temp_sinonim = temp_sinonim*len(temp)\n",
    "#     for temp_sin in temp_sinonim :\n",
    "#         sinonim_index.append(temp_sin)\n",
    "\n",
    "# instansi_index = [x for y in instansi_index for x in y]\n",
    "# test_df_indexing = pd.DataFrame({\"instansi\" : instansi_index, \"sinonim\" : sinonim_index})\n",
    "# test_df_indexing.to_csv(\"DATA\\\\v2\\kandidat_table_ai.csv\")\n",
    "\n",
    "\n",
    "\n",
    "\n",
    "# #Predict\n",
    "# def evaluate_with_indexing(model, test_data):\n",
    "\n",
    "#     test = Dataset(test_data)\n",
    "\n",
    "#     test_dataloader = torch.utils.data.DataLoader(test, batch_size=2)\n",
    "\n",
    "#     use_cuda = torch.cuda.is_available()\n",
    "#     device = torch.device(\"cuda\" if use_cuda else \"cpu\")\n",
    "\n",
    "#     if use_cuda:\n",
    "\n",
    "#         model = model.cuda()\n",
    "\n",
    "#     total_acc_test = 0\n",
    "#     probs = []\n",
    "#     preds = []\n",
    "\n",
    "#     with torch.no_grad():\n",
    "\n",
    "#         for test_input, test_label in test_dataloader:\n",
    "\n",
    "#               test_label = test_label.to(device)\n",
    "#               mask = test_input['attention_mask'].to(device)\n",
    "#               input_id = test_input['input_ids'].squeeze(1).to(device)\n",
    "\n",
    "#               output = model(input_id, mask)\n",
    "#               prob = F.softmax(output, dim=1)\n",
    "#               pred = output.argmax(dim=1)\n",
    "#               probs.append(prob)\n",
    "#               preds.append(pred)\n",
    "\n",
    "#               #pred_class\n",
    "#               temp_pred = []\n",
    "#               for i in range(0,len(preds)):\n",
    "#                 a = preds[i].cpu().numpy().tolist()\n",
    "#                 temp_pred.append(a)\n",
    "#               list_pred = [x for y in temp_pred for x in y]\n",
    "              \n",
    "#               #prob values\n",
    "#               temp_prob = []\n",
    "#               for i in range(0,len(probs)):\n",
    "#                 a = probs[i].cpu().numpy().tolist()\n",
    "#                 temp_prob.append(a)\n",
    "#               list_prob = [max(x) for y in temp_prob for x in y]\n",
    "\n",
    "\n",
    "#               acc = (output.argmax(dim=1) == test_label).sum().item()\n",
    "#               total_acc_test += acc\n",
    "    \n",
    "#     print(f'Test Accuracy: {total_acc_test / len(test_data): .3f}')\n",
    "#     new_test_data = test_data.copy()\n",
    "#     new_test_data['pred'] = list_pred\n",
    "#     new_test_data['prob'] = list_prob\n",
    "\n",
    "#     new_test_data = new_test_data[['instansi', 'sinonim', 'pred', 'prob']]\n",
    "\n",
    "#     return new_test_data\n",
    "    \n",
    "# test_df = pd.read_csv('DATA/v2/test.csv')   \n",
    "# pred_result = evaluate_with_indexing(model, test_df)\n",
    "# pred_result.to_csv('result/indexing/hasil_prediksi_{}.csv'.format(list_model[INDEX]))"
   ]
  },
  {
   "cell_type": "code",
   "execution_count": 106,
   "metadata": {},
   "outputs": [
    {
     "name": "stdout",
     "output_type": "stream",
     "text": [
      "Test Accuracy:  0.912\n"
     ]
    }
   ],
   "source": [
    "def evaluate(model, test_data):\n",
    "\n",
    "    test = Dataset(test_data)\n",
    "\n",
    "    test_dataloader = torch.utils.data.DataLoader(test, batch_size=2)\n",
    "\n",
    "    use_cuda = torch.cuda.is_available()\n",
    "    device = torch.device(\"cuda\" if use_cuda else \"cpu\")\n",
    "\n",
    "    if use_cuda:\n",
    "\n",
    "        model = model.cuda()\n",
    "\n",
    "    total_acc_test = 0\n",
    "    probs = []\n",
    "    preds = []\n",
    "\n",
    "    with torch.no_grad():\n",
    "\n",
    "        for test_input, test_label in test_dataloader:\n",
    "\n",
    "              test_label = test_label.to(device)\n",
    "              mask = test_input['attention_mask'].to(device)\n",
    "              input_id = test_input['input_ids'].squeeze(1).to(device)\n",
    "\n",
    "              output = model(input_id, mask)\n",
    "              prob = F.softmax(output, dim=1)\n",
    "              pred = output.argmax(dim=1)\n",
    "              probs.append(prob)\n",
    "              preds.append(pred)\n",
    "\n",
    "              #pred_class\n",
    "              temp_pred = []\n",
    "              for i in range(0,len(preds)):\n",
    "                a = preds[i].cpu().numpy().tolist()\n",
    "                temp_pred.append(a)\n",
    "              list_pred = [x for y in temp_pred for x in y]\n",
    "              \n",
    "              #prob values\n",
    "              temp_prob = []\n",
    "              for i in range(0,len(probs)):\n",
    "                a = probs[i].cpu().numpy().tolist()\n",
    "                temp_prob.append(a)\n",
    "              list_prob = [max(x) for y in temp_prob for x in y]\n",
    "\n",
    "\n",
    "              acc = (output.argmax(dim=1) == test_label).sum().item()\n",
    "              total_acc_test += acc\n",
    "    \n",
    "    print(f'Test Accuracy: {total_acc_test / len(test_data): .3f}')\n",
    "    new_test_data = test_data.copy()\n",
    "    new_test_data['pred'] = list_pred\n",
    "    new_test_data['prob'] = list_prob\n",
    "\n",
    "    new_test_data = new_test_data[['instansi', 'reference', 'status', 'pred', 'prob']]\n",
    "\n",
    "    return new_test_data\n",
    "    \n",
    "test_df = pd.read_csv('DATA/v2/test.csv')   \n",
    "pred_result = evaluate(model, test_df)\n",
    "pred_result.to_csv('result/hasil_prediksi_{}.csv'.format(list_model[INDEX]))"
   ]
  },
  {
   "cell_type": "code",
   "execution_count": 107,
   "metadata": {},
   "outputs": [],
   "source": [
    "from sklearn.metrics import accuracy_score,confusion_matrix"
   ]
  },
  {
   "cell_type": "code",
   "execution_count": 108,
   "metadata": {},
   "outputs": [],
   "source": [
    "pred_result['status'] = pred_result['status'].map({\"yes\" : 1, \"no\" : 0})"
   ]
  },
  {
   "cell_type": "code",
   "execution_count": 109,
   "metadata": {},
   "outputs": [],
   "source": [
    "label_true = pred_result['status'].values\n",
    "prediction = pred_result['pred'].values\n",
    "\n",
    "cf_matrix = confusion_matrix(label_true, prediction)"
   ]
  },
  {
   "cell_type": "code",
   "execution_count": 110,
   "metadata": {},
   "outputs": [
    {
     "data": {
      "text/plain": [
       "<AxesSubplot:>"
      ]
     },
     "execution_count": 110,
     "metadata": {},
     "output_type": "execute_result"
    },
    {
     "data": {
      "image/png": "[encoded data removed]",
      "text/plain": [
       "<Figure size 432x288 with 2 Axes>"
      ]
     },
     "metadata": {
      "needs_background": "light"
     },
     "output_type": "display_data"
    }
   ],
   "source": [
    "import seaborn as sns\n",
    "group_names = ['True Neg','False Pos','False Neg','True Pos']\n",
    "group_counts = ['{0:0.0f}'.format(value) for value in\n",
    "                cf_matrix.flatten()]\n",
    "group_percentages = ['{0:.2%}'.format(value) for value in\n",
    "                     cf_matrix.flatten()/np.sum(cf_matrix)]\n",
    "labels = [f'{v1}\\n{v2}\\n{v3}' for v1, v2, v3 in\n",
    "          zip(group_names,group_counts,group_percentages)]\n",
    "labels = np.asarray(labels).reshape(2,2)\n",
    "sns.heatmap(cf_matrix, annot=labels, fmt='', cmap='Oranges')"
   ]
  },
  {
   "cell_type": "code",
   "execution_count": 113,
   "metadata": {},
   "outputs": [
    {
     "data": {
      "text/html": [
       "<div>\n",
       "<style scoped>\n",
       "    .dataframe tbody tr th:only-of-type {\n",
       "        vertical-align: middle;\n",
       "    }\n",
       "\n",
       "    .dataframe tbody tr th {\n",
       "        vertical-align: top;\n",
       "    }\n",
       "\n",
       "    .dataframe thead th {\n",
       "        text-align: right;\n",
       "    }\n",
       "</style>\n",
       "<table border=\"1\" class=\"dataframe\">\n",
       "  <thead>\n",
       "    <tr style=\"text-align: right;\">\n",
       "      <th></th>\n",
       "      <th>instansi</th>\n",
       "      <th>reference</th>\n",
       "      <th>status</th>\n",
       "      <th>pred</th>\n",
       "      <th>prob</th>\n",
       "    </tr>\n",
       "  </thead>\n",
       "  <tbody>\n",
       "    <tr>\n",
       "      <th>0</th>\n",
       "      <td>kementerian agraria dan tata ruang/badan perta...</td>\n",
       "      <td>kementerian agraria</td>\n",
       "      <td>1</td>\n",
       "      <td>0</td>\n",
       "      <td>0.915881</td>\n",
       "    </tr>\n",
       "    <tr>\n",
       "      <th>1</th>\n",
       "      <td>kementerian agraria dan tata ruang/badan perta...</td>\n",
       "      <td>kementerian tata ruang</td>\n",
       "      <td>1</td>\n",
       "      <td>1</td>\n",
       "      <td>0.610733</td>\n",
       "    </tr>\n",
       "    <tr>\n",
       "      <th>2</th>\n",
       "      <td>kementerian agraria dan tata ruang/badan perta...</td>\n",
       "      <td>kementerian badan pertanahan nasional</td>\n",
       "      <td>1</td>\n",
       "      <td>1</td>\n",
       "      <td>0.996986</td>\n",
       "    </tr>\n",
       "    <tr>\n",
       "      <th>3</th>\n",
       "      <td>kementerian agraria dan tata ruang/badan perta...</td>\n",
       "      <td>badan pertanahan nasional</td>\n",
       "      <td>1</td>\n",
       "      <td>1</td>\n",
       "      <td>0.997938</td>\n",
       "    </tr>\n",
       "    <tr>\n",
       "      <th>4</th>\n",
       "      <td>kementerian agraria dan tata ruang/badan perta...</td>\n",
       "      <td>atr</td>\n",
       "      <td>1</td>\n",
       "      <td>1</td>\n",
       "      <td>0.686853</td>\n",
       "    </tr>\n",
       "  </tbody>\n",
       "</table>\n",
       "</div>"
      ],
      "text/plain": [
       "                                            instansi  \\\n",
       "0  kementerian agraria dan tata ruang/badan perta...   \n",
       "1  kementerian agraria dan tata ruang/badan perta...   \n",
       "2  kementerian agraria dan tata ruang/badan perta...   \n",
       "3  kementerian agraria dan tata ruang/badan perta...   \n",
       "4  kementerian agraria dan tata ruang/badan perta...   \n",
       "\n",
       "                               reference  status  pred      prob  \n",
       "0                    kementerian agraria       1     0  0.915881  \n",
       "1                 kementerian tata ruang       1     1  0.610733  \n",
       "2  kementerian badan pertanahan nasional       1     1  0.996986  \n",
       "3              badan pertanahan nasional       1     1  0.997938  \n",
       "4                                    atr       1     1  0.686853  "
      ]
     },
     "execution_count": 113,
     "metadata": {},
     "output_type": "execute_result"
    }
   ],
   "source": [
    "pred_result.head()"
   ]
  },
  {
   "cell_type": "code",
   "execution_count": 124,
   "metadata": {},
   "outputs": [
    {
     "name": "stdout",
     "output_type": "stream",
     "text": [
      "<class 'pandas.core.frame.DataFrame'>\n",
      "RangeIndex: 912 entries, 0 to 911\n",
      "Data columns (total 5 columns):\n",
      " #   Column     Non-Null Count  Dtype  \n",
      "---  ------     --------------  -----  \n",
      " 0   instansi   912 non-null    object \n",
      " 1   reference  912 non-null    object \n",
      " 2   status     912 non-null    int64  \n",
      " 3   pred       912 non-null    int64  \n",
      " 4   prob       912 non-null    float64\n",
      "dtypes: float64(1), int64(2), object(2)\n",
      "memory usage: 35.8+ KB\n"
     ]
    }
   ],
   "source": [
    "pred_result.info()"
   ]
  },
  {
   "cell_type": "code",
   "execution_count": 125,
   "metadata": {},
   "outputs": [
    {
     "name": "stdout",
     "output_type": "stream",
     "text": [
      "edit accuracy : 0.905\n"
     ]
    }
   ],
   "source": [
    "dup_df = pred_result[pred_result['reference'].duplicated(keep=False)]\n",
    "unique_ref = dup_df.sort_values(by='reference')['reference'].unique().tolist()\n",
    "\n",
    "idx_to_drop = []\n",
    "counter = 0\n",
    "for u_ref in unique_ref :\n",
    "    d = dup_df[dup_df['reference']==u_ref]\n",
    "    if 1 in d['pred'].values.tolist():\n",
    "        d_new = d[d['status']==1].loc[d['pred']==1]\n",
    "        idx_temp = d_new[d_new['prob']==d_new['prob'].max()].index.tolist()\n",
    "        if len(idx_temp) > 1 :\n",
    "            idx_temp = idx_temp[0]\n",
    "        idx_drop = d.drop(idx_temp, axis=0).index.tolist()\n",
    "        for idx  in idx_drop : \n",
    "            idx_to_drop.append(idx)\n",
    "    elif 1 not in d['pred'].values.tolist():\n",
    "        d_new = d[d['status']==0].loc[d['pred']==0]\n",
    "        idx_temp = d_new[d_new['prob']==d_new['prob'].max()].index.tolist()\n",
    "        if len(idx_temp) > 1 :\n",
    "            idx_temp = idx_temp[0]\n",
    "        idx_drop = d.drop(idx_temp, axis=0).index.tolist()\n",
    "        for idx in idx_drop : \n",
    "            idx_to_drop.append(idx)\n",
    "    else :\n",
    "        idx_temp = d['prob'].index.tolist()\n",
    "        for idx  in idx_temp : \n",
    "            idx_to_drop.append(idx)\n",
    "\n",
    "\n",
    "new_result_df = pred_result.drop(idx_to_drop, axis=0)\n",
    "new_result_df = new_result_df[['instansi', 'reference', 'status', 'pred', 'prob']]\n",
    "# new_result_df['status'] = new_result_df['status'].map({\"yes\" : 1, \"no\":0})\n",
    "label_true = new_result_df['status'].values\n",
    "prediction = new_result_df['pred'].values\n",
    "\n",
    "\n",
    "new_result_df.to_csv(\"result/new_hasil_prediksi_{}.csv\".format(list_model[INDEX]))\n",
    "print(\"edit accuracy : {:.3f}\".format(accuracy_score(prediction, label_true)))"
   ]
  },
  {
   "cell_type": "code",
   "execution_count": 126,
   "metadata": {},
   "outputs": [
    {
     "name": "stdout",
     "output_type": "stream",
     "text": [
      "<class 'pandas.core.frame.DataFrame'>\n",
      "Int64Index: 755 entries, 0 to 911\n",
      "Data columns (total 5 columns):\n",
      " #   Column     Non-Null Count  Dtype  \n",
      "---  ------     --------------  -----  \n",
      " 0   instansi   755 non-null    object \n",
      " 1   reference  755 non-null    object \n",
      " 2   status     755 non-null    int64  \n",
      " 3   pred       755 non-null    int64  \n",
      " 4   prob       755 non-null    float64\n",
      "dtypes: float64(1), int64(2), object(2)\n",
      "memory usage: 35.4+ KB\n"
     ]
    }
   ],
   "source": [
    "new_result_df.info()"
   ]
  },
  {
   "cell_type": "code",
   "execution_count": null,
   "metadata": {},
   "outputs": [
    {
     "data": {
      "text/plain": [
       "0"
      ]
     },
     "execution_count": 16,
     "metadata": {},
     "output_type": "execute_result"
    }
   ],
   "source": [
    "new_result_df.duplicated().sum()"
   ]
  },
  {
   "cell_type": "code",
   "execution_count": 1,
   "metadata": {},
   "outputs": [],
   "source": [
    "import pandas as pd"
   ]
  },
  {
   "cell_type": "code",
   "execution_count": 4,
   "metadata": {},
   "outputs": [],
   "source": [
    "table_ai = pd.read_csv('DATA\\\\v2\\kandidat_table_ai.csv')"
   ]
  },
  {
   "cell_type": "code",
   "execution_count": 5,
   "metadata": {},
   "outputs": [
    {
     "data": {
      "text/html": [
       "<div>\n",
       "<style scoped>\n",
       "    .dataframe tbody tr th:only-of-type {\n",
       "        vertical-align: middle;\n",
       "    }\n",
       "\n",
       "    .dataframe tbody tr th {\n",
       "        vertical-align: top;\n",
       "    }\n",
       "\n",
       "    .dataframe thead th {\n",
       "        text-align: right;\n",
       "    }\n",
       "</style>\n",
       "<table border=\"1\" class=\"dataframe\">\n",
       "  <thead>\n",
       "    <tr style=\"text-align: right;\">\n",
       "      <th></th>\n",
       "      <th>Unnamed: 0</th>\n",
       "      <th>instansi</th>\n",
       "      <th>sinonim</th>\n",
       "    </tr>\n",
       "  </thead>\n",
       "  <tbody>\n",
       "    <tr>\n",
       "      <th>0</th>\n",
       "      <td>0</td>\n",
       "      <td>kementerian lingkungan hidup</td>\n",
       "      <td>Kementerian Kominfo</td>\n",
       "    </tr>\n",
       "    <tr>\n",
       "      <th>1</th>\n",
       "      <td>1</td>\n",
       "      <td>kementerian kehutanan</td>\n",
       "      <td>Kementerian Kominfo</td>\n",
       "    </tr>\n",
       "    <tr>\n",
       "      <th>2</th>\n",
       "      <td>2</td>\n",
       "      <td>kementerian kelautan</td>\n",
       "      <td>Kementerian Kominfo</td>\n",
       "    </tr>\n",
       "    <tr>\n",
       "      <th>3</th>\n",
       "      <td>3</td>\n",
       "      <td>kementerian kkp</td>\n",
       "      <td>Kementerian Kominfo</td>\n",
       "    </tr>\n",
       "    <tr>\n",
       "      <th>4</th>\n",
       "      <td>4</td>\n",
       "      <td>kementerian pembangunan manusia</td>\n",
       "      <td>Kementerian Kominfo</td>\n",
       "    </tr>\n",
       "    <tr>\n",
       "      <th>...</th>\n",
       "      <td>...</td>\n",
       "      <td>...</td>\n",
       "      <td>...</td>\n",
       "    </tr>\n",
       "    <tr>\n",
       "      <th>422688</th>\n",
       "      <td>422688</td>\n",
       "      <td>bni divisi solusi ritel</td>\n",
       "      <td>Direktur Utama PT BNI</td>\n",
       "    </tr>\n",
       "    <tr>\n",
       "      <th>422689</th>\n",
       "      <td>422689</td>\n",
       "      <td>bni divisi pengelolaan jaringan</td>\n",
       "      <td>Direktur Utama PT BNI</td>\n",
       "    </tr>\n",
       "    <tr>\n",
       "      <th>422690</th>\n",
       "      <td>422690</td>\n",
       "      <td>bni cabang jakarta kramat</td>\n",
       "      <td>Direktur Utama PT BNI</td>\n",
       "    </tr>\n",
       "    <tr>\n",
       "      <th>422691</th>\n",
       "      <td>422691</td>\n",
       "      <td>bank bni kantor cabang karawang</td>\n",
       "      <td>Direktur Utama PT BNI</td>\n",
       "    </tr>\n",
       "    <tr>\n",
       "      <th>422692</th>\n",
       "      <td>422692</td>\n",
       "      <td>pt bank negara indonesia persero tbk bni</td>\n",
       "      <td>Direktur Utama PT BNI</td>\n",
       "    </tr>\n",
       "  </tbody>\n",
       "</table>\n",
       "<p>422693 rows × 3 columns</p>\n",
       "</div>"
      ],
      "text/plain": [
       "        Unnamed: 0                                  instansi  \\\n",
       "0                0              kementerian lingkungan hidup   \n",
       "1                1                     kementerian kehutanan   \n",
       "2                2                      kementerian kelautan   \n",
       "3                3                           kementerian kkp   \n",
       "4                4           kementerian pembangunan manusia   \n",
       "...            ...                                       ...   \n",
       "422688      422688                   bni divisi solusi ritel   \n",
       "422689      422689           bni divisi pengelolaan jaringan   \n",
       "422690      422690                 bni cabang jakarta kramat   \n",
       "422691      422691           bank bni kantor cabang karawang   \n",
       "422692      422692  pt bank negara indonesia persero tbk bni   \n",
       "\n",
       "                      sinonim  \n",
       "0         Kementerian Kominfo  \n",
       "1         Kementerian Kominfo  \n",
       "2         Kementerian Kominfo  \n",
       "3         Kementerian Kominfo  \n",
       "4         Kementerian Kominfo  \n",
       "...                       ...  \n",
       "422688  Direktur Utama PT BNI  \n",
       "422689  Direktur Utama PT BNI  \n",
       "422690  Direktur Utama PT BNI  \n",
       "422691  Direktur Utama PT BNI  \n",
       "422692  Direktur Utama PT BNI  \n",
       "\n",
       "[422693 rows x 3 columns]"
      ]
     },
     "execution_count": 5,
     "metadata": {},
     "output_type": "execute_result"
    }
   ],
   "source": [
    "table_ai"
   ]
  },
  {
   "cell_type": "code",
   "execution_count": 6,
   "metadata": {},
   "outputs": [],
   "source": [
    "table_ai = table_ai.drop(\"Unnamed: 0\", axis=1)"
   ]
  },
  {
   "cell_type": "code",
   "execution_count": 7,
   "metadata": {},
   "outputs": [
    {
     "data": {
      "text/html": [
       "<div>\n",
       "<style scoped>\n",
       "    .dataframe tbody tr th:only-of-type {\n",
       "        vertical-align: middle;\n",
       "    }\n",
       "\n",
       "    .dataframe tbody tr th {\n",
       "        vertical-align: top;\n",
       "    }\n",
       "\n",
       "    .dataframe thead th {\n",
       "        text-align: right;\n",
       "    }\n",
       "</style>\n",
       "<table border=\"1\" class=\"dataframe\">\n",
       "  <thead>\n",
       "    <tr style=\"text-align: right;\">\n",
       "      <th></th>\n",
       "      <th>instansi</th>\n",
       "      <th>sinonim</th>\n",
       "    </tr>\n",
       "  </thead>\n",
       "  <tbody>\n",
       "    <tr>\n",
       "      <th>0</th>\n",
       "      <td>kementerian lingkungan hidup</td>\n",
       "      <td>Kementerian Kominfo</td>\n",
       "    </tr>\n",
       "    <tr>\n",
       "      <th>1</th>\n",
       "      <td>kementerian kehutanan</td>\n",
       "      <td>Kementerian Kominfo</td>\n",
       "    </tr>\n",
       "    <tr>\n",
       "      <th>2</th>\n",
       "      <td>kementerian kelautan</td>\n",
       "      <td>Kementerian Kominfo</td>\n",
       "    </tr>\n",
       "    <tr>\n",
       "      <th>3</th>\n",
       "      <td>kementerian kkp</td>\n",
       "      <td>Kementerian Kominfo</td>\n",
       "    </tr>\n",
       "    <tr>\n",
       "      <th>4</th>\n",
       "      <td>kementerian pembangunan manusia</td>\n",
       "      <td>Kementerian Kominfo</td>\n",
       "    </tr>\n",
       "    <tr>\n",
       "      <th>...</th>\n",
       "      <td>...</td>\n",
       "      <td>...</td>\n",
       "    </tr>\n",
       "    <tr>\n",
       "      <th>422688</th>\n",
       "      <td>bni divisi solusi ritel</td>\n",
       "      <td>Direktur Utama PT BNI</td>\n",
       "    </tr>\n",
       "    <tr>\n",
       "      <th>422689</th>\n",
       "      <td>bni divisi pengelolaan jaringan</td>\n",
       "      <td>Direktur Utama PT BNI</td>\n",
       "    </tr>\n",
       "    <tr>\n",
       "      <th>422690</th>\n",
       "      <td>bni cabang jakarta kramat</td>\n",
       "      <td>Direktur Utama PT BNI</td>\n",
       "    </tr>\n",
       "    <tr>\n",
       "      <th>422691</th>\n",
       "      <td>bank bni kantor cabang karawang</td>\n",
       "      <td>Direktur Utama PT BNI</td>\n",
       "    </tr>\n",
       "    <tr>\n",
       "      <th>422692</th>\n",
       "      <td>pt bank negara indonesia persero tbk bni</td>\n",
       "      <td>Direktur Utama PT BNI</td>\n",
       "    </tr>\n",
       "  </tbody>\n",
       "</table>\n",
       "<p>422693 rows × 2 columns</p>\n",
       "</div>"
      ],
      "text/plain": [
       "                                        instansi                sinonim\n",
       "0                   kementerian lingkungan hidup    Kementerian Kominfo\n",
       "1                          kementerian kehutanan    Kementerian Kominfo\n",
       "2                           kementerian kelautan    Kementerian Kominfo\n",
       "3                                kementerian kkp    Kementerian Kominfo\n",
       "4                kementerian pembangunan manusia    Kementerian Kominfo\n",
       "...                                          ...                    ...\n",
       "422688                   bni divisi solusi ritel  Direktur Utama PT BNI\n",
       "422689           bni divisi pengelolaan jaringan  Direktur Utama PT BNI\n",
       "422690                 bni cabang jakarta kramat  Direktur Utama PT BNI\n",
       "422691           bank bni kantor cabang karawang  Direktur Utama PT BNI\n",
       "422692  pt bank negara indonesia persero tbk bni  Direktur Utama PT BNI\n",
       "\n",
       "[422693 rows x 2 columns]"
      ]
     },
     "execution_count": 7,
     "metadata": {},
     "output_type": "execute_result"
    }
   ],
   "source": [
    "table_ai"
   ]
  },
  {
   "cell_type": "code",
   "execution_count": 8,
   "metadata": {},
   "outputs": [],
   "source": [
    "table_ai = table_ai.assign(status=\"yes\")"
   ]
  },
  {
   "cell_type": "code",
   "execution_count": 10,
   "metadata": {},
   "outputs": [],
   "source": [
    "table_ai.iloc[400:500] = \"no\""
   ]
  },
  {
   "cell_type": "code",
   "execution_count": 13,
   "metadata": {},
   "outputs": [],
   "source": [
    "table_ai.to_csv('DATA\\\\v2\\kandidat_table_ai.csv', index=False)"
   ]
  },
  {
   "cell_type": "code",
   "execution_count": 6,
   "metadata": {},
   "outputs": [],
   "source": [
    "import pandas as pd"
   ]
  },
  {
   "cell_type": "code",
   "execution_count": 8,
   "metadata": {},
   "outputs": [],
   "source": [
    "test_df = pd.read_csv('DATA/v2/kandidat_table_ai.csv')"
   ]
  },
  {
   "cell_type": "code",
   "execution_count": 9,
   "metadata": {},
   "outputs": [],
   "source": [
    "test_df = test_df.iloc[1000:2000,:]"
   ]
  },
  {
   "cell_type": "code",
   "execution_count": 10,
   "metadata": {},
   "outputs": [
    {
     "data": {
      "text/html": [
       "<div>\n",
       "<style scoped>\n",
       "    .dataframe tbody tr th:only-of-type {\n",
       "        vertical-align: middle;\n",
       "    }\n",
       "\n",
       "    .dataframe tbody tr th {\n",
       "        vertical-align: top;\n",
       "    }\n",
       "\n",
       "    .dataframe thead th {\n",
       "        text-align: right;\n",
       "    }\n",
       "</style>\n",
       "<table border=\"1\" class=\"dataframe\">\n",
       "  <thead>\n",
       "    <tr style=\"text-align: right;\">\n",
       "      <th></th>\n",
       "      <th>instansi</th>\n",
       "      <th>sinonim</th>\n",
       "      <th>status</th>\n",
       "    </tr>\n",
       "  </thead>\n",
       "  <tbody>\n",
       "    <tr>\n",
       "      <th>1000</th>\n",
       "      <td>pt bina karya indonesia</td>\n",
       "      <td>PT Sawit Sumbermas Sarana Tbk</td>\n",
       "      <td>yes</td>\n",
       "    </tr>\n",
       "    <tr>\n",
       "      <th>1001</th>\n",
       "      <td>pt dirgantara indonesia</td>\n",
       "      <td>PT Sawit Sumbermas Sarana Tbk</td>\n",
       "      <td>yes</td>\n",
       "    </tr>\n",
       "    <tr>\n",
       "      <th>1002</th>\n",
       "      <td>pt di</td>\n",
       "      <td>PT Sawit Sumbermas Sarana Tbk</td>\n",
       "      <td>yes</td>\n",
       "    </tr>\n",
       "    <tr>\n",
       "      <th>1003</th>\n",
       "      <td>pt garam</td>\n",
       "      <td>PT Sawit Sumbermas Sarana Tbk</td>\n",
       "      <td>yes</td>\n",
       "    </tr>\n",
       "    <tr>\n",
       "      <th>1004</th>\n",
       "      <td>pt hotel indonesia natour</td>\n",
       "      <td>PT Sawit Sumbermas Sarana Tbk</td>\n",
       "      <td>yes</td>\n",
       "    </tr>\n",
       "  </tbody>\n",
       "</table>\n",
       "</div>"
      ],
      "text/plain": [
       "                       instansi                        sinonim status\n",
       "1000    pt bina karya indonesia  PT Sawit Sumbermas Sarana Tbk    yes\n",
       "1001    pt dirgantara indonesia  PT Sawit Sumbermas Sarana Tbk    yes\n",
       "1002                      pt di  PT Sawit Sumbermas Sarana Tbk    yes\n",
       "1003                   pt garam  PT Sawit Sumbermas Sarana Tbk    yes\n",
       "1004  pt hotel indonesia natour  PT Sawit Sumbermas Sarana Tbk    yes"
      ]
     },
     "execution_count": 10,
     "metadata": {},
     "output_type": "execute_result"
    }
   ],
   "source": [
    "test_df.head()"
   ]
  },
  {
   "cell_type": "code",
   "execution_count": null,
   "metadata": {},
   "outputs": [],
   "source": []
  }
 ],
 "metadata": {
  "kernelspec": {
   "display_name": "Python 3.9.7 ('bertClass')",
   "language": "python",
   "name": "python3"
  },
  "language_info": {
   "codemirror_mode": {
    "name": "ipython",
    "version": 3
   },
   "file_extension": ".py",
   "mimetype": "text/x-python",
   "name": "python",
   "nbconvert_exporter": "python",
   "pygments_lexer": "ipython3",
   "version": "3.9.7"
  },
  "orig_nbformat": 4,
  "vscode": {
   "interpreter": {
    "hash": "8a99878c6a92c314e94d3a4d138a1f6ff6d2e216e8b8d331670d92eb51f59927"
   }
  }
 },
 "nbformat": 4,
 "nbformat_minor": 2
}

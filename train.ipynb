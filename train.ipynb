{
 "cells": [
  {
   "cell_type": "code",
   "execution_count": 1,
   "metadata": {},
   "outputs": [],
   "source": [
    "#Import Library\n",
    "import numpy as np\n",
    "import pandas as pd\n",
    "import re\n",
    "import string\n",
    "from sklearn.metrics import f1_score,accuracy_score\n",
    "from simpletransformers.classification import ClassificationModel\n",
    "from argparse import ArgumentParser, ArgumentDefaultsHelpFormatter\n",
    "import logging\n",
    "import warnings\n",
    "warnings.simplefilter(\"ignore\")\n",
    "import os\n",
    "os.environ[\"TOKENIZERS_PARALLELISM\"] = \"false\"\n"
   ]
  },
  {
   "cell_type": "code",
   "execution_count": 2,
   "metadata": {},
   "outputs": [],
   "source": [
    "# Load Dataset\n",
    "train_df = pd.read_csv('DATA/v1/train.csv')\n",
    "train_df['status'] = train_df['status'].apply(lambda x : str(x).strip())\n",
    "\n",
    "val_df = pd.read_csv('DATA/v1/val.csv')\n",
    "test_df = pd.read_csv('DATA/v1/test.csv')"
   ]
  },
  {
   "cell_type": "code",
   "execution_count": 3,
   "metadata": {},
   "outputs": [
    {
     "data": {
      "text/html": [
       "<div>\n",
       "<style scoped>\n",
       "    .dataframe tbody tr th:only-of-type {\n",
       "        vertical-align: middle;\n",
       "    }\n",
       "\n",
       "    .dataframe tbody tr th {\n",
       "        vertical-align: top;\n",
       "    }\n",
       "\n",
       "    .dataframe thead th {\n",
       "        text-align: right;\n",
       "    }\n",
       "</style>\n",
       "<table border=\"1\" class=\"dataframe\">\n",
       "  <thead>\n",
       "    <tr style=\"text-align: right;\">\n",
       "      <th></th>\n",
       "      <th>instansi</th>\n",
       "      <th>reference</th>\n",
       "      <th>status</th>\n",
       "    </tr>\n",
       "  </thead>\n",
       "  <tbody>\n",
       "    <tr>\n",
       "      <th>0</th>\n",
       "      <td>Kementerian Koordinator Bidang Politik, Hukum,...</td>\n",
       "      <td>Kemenko Polhukam</td>\n",
       "      <td>yes</td>\n",
       "    </tr>\n",
       "    <tr>\n",
       "      <th>1</th>\n",
       "      <td>Kementerian Koordinator Bidang Politik, Hukum,...</td>\n",
       "      <td>Polhukam</td>\n",
       "      <td>yes</td>\n",
       "    </tr>\n",
       "    <tr>\n",
       "      <th>2</th>\n",
       "      <td>Kementerian Koordinator Bidang Politik, Hukum,...</td>\n",
       "      <td>Koordinator Politik</td>\n",
       "      <td>no</td>\n",
       "    </tr>\n",
       "    <tr>\n",
       "      <th>3</th>\n",
       "      <td>Kementerian Koordinator Bidang Politik, Hukum,...</td>\n",
       "      <td>Koordinator Hukum</td>\n",
       "      <td>no</td>\n",
       "    </tr>\n",
       "    <tr>\n",
       "      <th>4</th>\n",
       "      <td>Kementerian Luar Negeri</td>\n",
       "      <td>Kemlu</td>\n",
       "      <td>yes</td>\n",
       "    </tr>\n",
       "  </tbody>\n",
       "</table>\n",
       "</div>"
      ],
      "text/plain": [
       "                                            instansi            reference  \\\n",
       "0  Kementerian Koordinator Bidang Politik, Hukum,...     Kemenko Polhukam   \n",
       "1  Kementerian Koordinator Bidang Politik, Hukum,...             Polhukam   \n",
       "2  Kementerian Koordinator Bidang Politik, Hukum,...  Koordinator Politik   \n",
       "3  Kementerian Koordinator Bidang Politik, Hukum,...    Koordinator Hukum   \n",
       "4                            Kementerian Luar Negeri                Kemlu   \n",
       "\n",
       "  status  \n",
       "0    yes  \n",
       "1    yes  \n",
       "2     no  \n",
       "3     no  \n",
       "4    yes  "
      ]
     },
     "execution_count": 3,
     "metadata": {},
     "output_type": "execute_result"
    }
   ],
   "source": [
    "train_df.head()"
   ]
  },
  {
   "cell_type": "code",
   "execution_count": 4,
   "metadata": {},
   "outputs": [],
   "source": [
    "#Ubah nama kolom\n",
    "train_df = train_df.rename({\"instansi\" : \"sentence1\", \"reference\" : \"sentence2\", \"status\" : \"label\"}, axis=1)\n",
    "val_df = val_df.rename({\"instansi\" : \"sentence1\", \"reference\" : \"sentence2\", \"status\" : \"label\"}, axis=1)\n",
    "test_df = test_df.rename({\"instansi\" : \"sentence1\", \"reference\" : \"sentence2\", \"status\" : \"label\"}, axis=1)"
   ]
  },
  {
   "cell_type": "code",
   "execution_count": 5,
   "metadata": {},
   "outputs": [],
   "source": [
    "#label\n",
    "train_df['label'] = train_df['label'].map({\"no\" : 0, \"yes\" : 1})\n",
    "val_df['label'] = val_df['label'].map({\"no\" : 0, \"yes\" : 1})\n",
    "test_df['label'] = test_df['label'].map({\"no\" : 0, \"yes\" : 1})"
   ]
  },
  {
   "cell_type": "code",
   "execution_count": 6,
   "metadata": {},
   "outputs": [],
   "source": [
    "train_df[['sentence1', 'sentence2']] = train_df[['sentence1', 'sentence2']].applymap(lambda x : str(x).lower())\n",
    "val_df[['sentence1', 'sentence2']] = val_df[['sentence1', 'sentence2']].applymap(lambda x : str(x).lower())\n",
    "test_df[['sentence1', 'sentence2']] = test_df[['sentence1', 'sentence2']].applymap(lambda x : str(x).lower())"
   ]
  },
  {
   "cell_type": "code",
   "execution_count": 7,
   "metadata": {},
   "outputs": [
    {
     "data": {
      "text/html": [
       "<div>\n",
       "<style scoped>\n",
       "    .dataframe tbody tr th:only-of-type {\n",
       "        vertical-align: middle;\n",
       "    }\n",
       "\n",
       "    .dataframe tbody tr th {\n",
       "        vertical-align: top;\n",
       "    }\n",
       "\n",
       "    .dataframe thead th {\n",
       "        text-align: right;\n",
       "    }\n",
       "</style>\n",
       "<table border=\"1\" class=\"dataframe\">\n",
       "  <thead>\n",
       "    <tr style=\"text-align: right;\">\n",
       "      <th></th>\n",
       "      <th>sentence1</th>\n",
       "      <th>sentence2</th>\n",
       "      <th>label</th>\n",
       "    </tr>\n",
       "  </thead>\n",
       "  <tbody>\n",
       "    <tr>\n",
       "      <th>0</th>\n",
       "      <td>kementerian koordinator bidang politik, hukum,...</td>\n",
       "      <td>kemenko polhukam</td>\n",
       "      <td>1</td>\n",
       "    </tr>\n",
       "    <tr>\n",
       "      <th>1</th>\n",
       "      <td>kementerian koordinator bidang politik, hukum,...</td>\n",
       "      <td>polhukam</td>\n",
       "      <td>1</td>\n",
       "    </tr>\n",
       "    <tr>\n",
       "      <th>2</th>\n",
       "      <td>kementerian koordinator bidang politik, hukum,...</td>\n",
       "      <td>koordinator politik</td>\n",
       "      <td>0</td>\n",
       "    </tr>\n",
       "    <tr>\n",
       "      <th>3</th>\n",
       "      <td>kementerian koordinator bidang politik, hukum,...</td>\n",
       "      <td>koordinator hukum</td>\n",
       "      <td>0</td>\n",
       "    </tr>\n",
       "    <tr>\n",
       "      <th>4</th>\n",
       "      <td>kementerian luar negeri</td>\n",
       "      <td>kemlu</td>\n",
       "      <td>1</td>\n",
       "    </tr>\n",
       "  </tbody>\n",
       "</table>\n",
       "</div>"
      ],
      "text/plain": [
       "                                           sentence1            sentence2  \\\n",
       "0  kementerian koordinator bidang politik, hukum,...     kemenko polhukam   \n",
       "1  kementerian koordinator bidang politik, hukum,...             polhukam   \n",
       "2  kementerian koordinator bidang politik, hukum,...  koordinator politik   \n",
       "3  kementerian koordinator bidang politik, hukum,...    koordinator hukum   \n",
       "4                            kementerian luar negeri                kemlu   \n",
       "\n",
       "   label  \n",
       "0      1  \n",
       "1      1  \n",
       "2      0  \n",
       "3      0  \n",
       "4      1  "
      ]
     },
     "execution_count": 7,
     "metadata": {},
     "output_type": "execute_result"
    }
   ],
   "source": [
    "train_df.head()"
   ]
  },
  {
   "cell_type": "code",
   "execution_count": 8,
   "metadata": {},
   "outputs": [],
   "source": [
    "train_df = train_df.rename({'sentence1':'text_a', 'sentence2':'text_b', 'label' : 'labels'}, axis=1)\n",
    "val_df = val_df.rename({'sentence1':'text_a', 'sentence2':'text_b', 'label' : 'labels'}, axis=1)"
   ]
  },
  {
   "cell_type": "code",
   "execution_count": 9,
   "metadata": {},
   "outputs": [],
   "source": [
    "list_model = ['indobenchmark/indobert-base-p2', 'indobenchmark/indobert-base-p1']"
   ]
  },
  {
   "cell_type": "code",
   "execution_count": 10,
   "metadata": {},
   "outputs": [
    {
     "data": {
      "application/vnd.jupyter.widget-view+json": {
       "model_id": "f350c19916cf4bfeaf6ce5f761b166bf",
       "version_major": 2,
       "version_minor": 0
      },
      "text/plain": [
       "Downloading:   0%|          | 0.00/475M [00:00<?, ?B/s]"
      ]
     },
     "metadata": {},
     "output_type": "display_data"
    },
    {
     "name": "stderr",
     "output_type": "stream",
     "text": [
      "Some weights of BertForSequenceClassification were not initialized from the model checkpoint at indobenchmark/indobert-base-p1 and are newly initialized: ['classifier.bias', 'classifier.weight']\n",
      "You should probably TRAIN this model on a down-stream task to be able to use it for predictions and inference.\n"
     ]
    }
   ],
   "source": [
    "#Logging\n",
    "logging.basicConfig(level=logging.INFO)\n",
    "transformers_logger = logging.getLogger(\"transformers\")\n",
    "transformers_logger.setLevel(logging.WARNING)\n",
    "\n",
    "# #Parse command line arguments\n",
    "# parser = ArgumentParser(formatter_class=ArgumentDefaultsHelpFormatter)\n",
    "# parser.add_argument(\"--model_type\", default=\"bert\", help=\"model type\")\n",
    "# parser.add_argument(\"--model\", default='bert_models', help=\" Base Model Folder\")\n",
    "# parser.add_argument(\"--num_epoch\" , default=1, help=\"number of train epoch\")\n",
    "# parser.add_argument(\"--num_gpu\" , default=1, help=\"number of gpu use\")\n",
    "# parser.add_argument(\"--cuda_device\" , default=2, help=\"cuda device\")\n",
    "# argss = vars(parser.parse_args())\n",
    "\n",
    "TRAIN_BATCH = 32\n",
    "# Create a ClassificationModel\n",
    "model = ClassificationModel('bert', list_model[1], use_cuda=True, cuda_device=0,\n",
    "                            args={\n",
    "    'reprocess_input_data': True,\n",
    "    \"learning_rate\": 2e-5,\n",
    "    \"train_batch_size\" : TRAIN_BATCH,\n",
    "    \"best_model_dir\" : \"Models/{}/bestModel\".format(list_model[1]),\n",
    "    \"output_dir\" : \"Models/checkpoints/{}\".format(list_model[1]),\n",
    "    \"evaluate_during_training\" : True,\n",
    "    \"evaluate_during_training_steps\" : int(np.ceil(train_df.shape[0]/TRAIN_BATCH)),\n",
    "    'overwrite_output_dir': True,\n",
    "    'num_train_epochs': 10,    \"save_eval_checkpoints\": False, \"save_model_every_epoch\" : False, \n",
    "    \"save_steps\": -1,\n",
    "    \"use_multiprocessing\": False, \n",
    "    \"use_multiprocessing_for_evaluation\": False, \n",
    "    \"process_count\": 1,\n",
    "    \"no_cache\" : True,}\n",
    ")"
   ]
  },
  {
   "cell_type": "code",
   "execution_count": 11,
   "metadata": {},
   "outputs": [
    {
     "name": "stderr",
     "output_type": "stream",
     "text": [
      "INFO:simpletransformers.classification.classification_utils: Converting to features started. Cache is not used.\n"
     ]
    },
    {
     "data": {
      "application/vnd.jupyter.widget-view+json": {
       "model_id": "ff4c75f0b2114ddeab5d60ad69e90180",
       "version_major": 2,
       "version_minor": 0
      },
      "text/plain": [
       "Epoch:   0%|          | 0/10 [00:00<?, ?it/s]"
      ]
     },
     "metadata": {},
     "output_type": "display_data"
    },
    {
     "data": {
      "application/vnd.jupyter.widget-view+json": {
       "model_id": "f9ba5d355e4d4a85adf1a313275a837a",
       "version_major": 2,
       "version_minor": 0
      },
      "text/plain": [
       "Running Epoch 0 of 10:   0%|          | 0/53 [00:00<?, ?it/s]"
      ]
     },
     "metadata": {},
     "output_type": "display_data"
    },
    {
     "name": "stderr",
     "output_type": "stream",
     "text": [
      "INFO:simpletransformers.classification.classification_utils: Converting to features started. Cache is not used.\n",
      "INFO:simpletransformers.classification.classification_utils: Converting to features started. Cache is not used.\n"
     ]
    },
    {
     "data": {
      "application/vnd.jupyter.widget-view+json": {
       "model_id": "84b41179ee554e32990096548f5b0e92",
       "version_major": 2,
       "version_minor": 0
      },
      "text/plain": [
       "Running Epoch 1 of 10:   0%|          | 0/53 [00:00<?, ?it/s]"
      ]
     },
     "metadata": {},
     "output_type": "display_data"
    },
    {
     "name": "stderr",
     "output_type": "stream",
     "text": [
      "INFO:simpletransformers.classification.classification_utils: Converting to features started. Cache is not used.\n",
      "INFO:simpletransformers.classification.classification_utils: Converting to features started. Cache is not used.\n"
     ]
    },
    {
     "data": {
      "application/vnd.jupyter.widget-view+json": {
       "model_id": "814c331b756c4a789baa70424599013f",
       "version_major": 2,
       "version_minor": 0
      },
      "text/plain": [
       "Running Epoch 2 of 10:   0%|          | 0/53 [00:00<?, ?it/s]"
      ]
     },
     "metadata": {},
     "output_type": "display_data"
    },
    {
     "name": "stderr",
     "output_type": "stream",
     "text": [
      "INFO:simpletransformers.classification.classification_utils: Converting to features started. Cache is not used.\n",
      "INFO:simpletransformers.classification.classification_utils: Converting to features started. Cache is not used.\n"
     ]
    },
    {
     "data": {
      "application/vnd.jupyter.widget-view+json": {
       "model_id": "a525247245a447449667f09ef5b52628",
       "version_major": 2,
       "version_minor": 0
      },
      "text/plain": [
       "Running Epoch 3 of 10:   0%|          | 0/53 [00:00<?, ?it/s]"
      ]
     },
     "metadata": {},
     "output_type": "display_data"
    },
    {
     "name": "stderr",
     "output_type": "stream",
     "text": [
      "INFO:simpletransformers.classification.classification_utils: Converting to features started. Cache is not used.\n",
      "INFO:simpletransformers.classification.classification_utils: Converting to features started. Cache is not used.\n"
     ]
    },
    {
     "data": {
      "application/vnd.jupyter.widget-view+json": {
       "model_id": "5aa8d07f863946f5afd3dad2f50d7820",
       "version_major": 2,
       "version_minor": 0
      },
      "text/plain": [
       "Running Epoch 4 of 10:   0%|          | 0/53 [00:00<?, ?it/s]"
      ]
     },
     "metadata": {},
     "output_type": "display_data"
    },
    {
     "name": "stderr",
     "output_type": "stream",
     "text": [
      "INFO:simpletransformers.classification.classification_utils: Converting to features started. Cache is not used.\n",
      "INFO:simpletransformers.classification.classification_utils: Converting to features started. Cache is not used.\n"
     ]
    },
    {
     "data": {
      "application/vnd.jupyter.widget-view+json": {
       "model_id": "a4c87ef2b47b49329768e3c65db6d723",
       "version_major": 2,
       "version_minor": 0
      },
      "text/plain": [
       "Running Epoch 5 of 10:   0%|          | 0/53 [00:00<?, ?it/s]"
      ]
     },
     "metadata": {},
     "output_type": "display_data"
    },
    {
     "name": "stderr",
     "output_type": "stream",
     "text": [
      "INFO:simpletransformers.classification.classification_utils: Converting to features started. Cache is not used.\n",
      "INFO:simpletransformers.classification.classification_utils: Converting to features started. Cache is not used.\n"
     ]
    },
    {
     "data": {
      "application/vnd.jupyter.widget-view+json": {
       "model_id": "fac23cd431f34a93baacc7d328d8c01a",
       "version_major": 2,
       "version_minor": 0
      },
      "text/plain": [
       "Running Epoch 6 of 10:   0%|          | 0/53 [00:00<?, ?it/s]"
      ]
     },
     "metadata": {},
     "output_type": "display_data"
    },
    {
     "name": "stderr",
     "output_type": "stream",
     "text": [
      "INFO:simpletransformers.classification.classification_utils: Converting to features started. Cache is not used.\n",
      "INFO:simpletransformers.classification.classification_utils: Converting to features started. Cache is not used.\n"
     ]
    },
    {
     "data": {
      "application/vnd.jupyter.widget-view+json": {
       "model_id": "67a52b1dd27a46e1bd1918caa15a6306",
       "version_major": 2,
       "version_minor": 0
      },
      "text/plain": [
       "Running Epoch 7 of 10:   0%|          | 0/53 [00:00<?, ?it/s]"
      ]
     },
     "metadata": {},
     "output_type": "display_data"
    },
    {
     "name": "stderr",
     "output_type": "stream",
     "text": [
      "INFO:simpletransformers.classification.classification_utils: Converting to features started. Cache is not used.\n",
      "INFO:simpletransformers.classification.classification_utils: Converting to features started. Cache is not used.\n"
     ]
    },
    {
     "data": {
      "application/vnd.jupyter.widget-view+json": {
       "model_id": "d8b0959d073d4565ae79d61bcaa9d097",
       "version_major": 2,
       "version_minor": 0
      },
      "text/plain": [
       "Running Epoch 8 of 10:   0%|          | 0/53 [00:00<?, ?it/s]"
      ]
     },
     "metadata": {},
     "output_type": "display_data"
    },
    {
     "name": "stderr",
     "output_type": "stream",
     "text": [
      "INFO:simpletransformers.classification.classification_utils: Converting to features started. Cache is not used.\n",
      "INFO:simpletransformers.classification.classification_utils: Converting to features started. Cache is not used.\n"
     ]
    },
    {
     "data": {
      "application/vnd.jupyter.widget-view+json": {
       "model_id": "bdcfa8415fd940619d510bb3323e4eb9",
       "version_major": 2,
       "version_minor": 0
      },
      "text/plain": [
       "Running Epoch 9 of 10:   0%|          | 0/53 [00:00<?, ?it/s]"
      ]
     },
     "metadata": {},
     "output_type": "display_data"
    },
    {
     "name": "stderr",
     "output_type": "stream",
     "text": [
      "INFO:simpletransformers.classification.classification_utils: Converting to features started. Cache is not used.\n",
      "INFO:simpletransformers.classification.classification_utils: Converting to features started. Cache is not used.\n",
      "INFO:simpletransformers.classification.classification_model: Training of bert model complete. Saved to Models/checkpoints/indobenchmark/indobert-base-p1.\n"
     ]
    },
    {
     "data": {
      "text/plain": [
       "(530,\n",
       " defaultdict(list,\n",
       "             {'global_step': [53,\n",
       "               53,\n",
       "               106,\n",
       "               106,\n",
       "               159,\n",
       "               159,\n",
       "               212,\n",
       "               212,\n",
       "               265,\n",
       "               265,\n",
       "               318,\n",
       "               318,\n",
       "               371,\n",
       "               371,\n",
       "               424,\n",
       "               424,\n",
       "               477,\n",
       "               477,\n",
       "               530,\n",
       "               530],\n",
       "              'train_loss': [0.33553487062454224,\n",
       "               0.33553487062454224,\n",
       "               0.2543051838874817,\n",
       "               0.2543051838874817,\n",
       "               0.06867316365242004,\n",
       "               0.06867316365242004,\n",
       "               0.015202491544187069,\n",
       "               0.015202491544187069,\n",
       "               0.08229800313711166,\n",
       "               0.08229800313711166,\n",
       "               0.0024977345019578934,\n",
       "               0.0024977345019578934,\n",
       "               0.0017653742106631398,\n",
       "               0.0017653742106631398,\n",
       "               0.002242195885628462,\n",
       "               0.002242195885628462,\n",
       "               0.05130026489496231,\n",
       "               0.05130026489496231,\n",
       "               0.003252075519412756,\n",
       "               0.003252075519412756],\n",
       "              'mcc': [0.7995263807860333,\n",
       "               0.7995263807860333,\n",
       "               0.8487691224334358,\n",
       "               0.8487691224334358,\n",
       "               0.9035073252481685,\n",
       "               0.9035073252481685,\n",
       "               0.9245483389841757,\n",
       "               0.9245483389841757,\n",
       "               0.9139459459459459,\n",
       "               0.9139459459459459,\n",
       "               0.8617506559749226,\n",
       "               0.8617506559749226,\n",
       "               0.9029740988976546,\n",
       "               0.9029740988976546,\n",
       "               0.8924324324324324,\n",
       "               0.8924324324324324,\n",
       "               0.8813998588111336,\n",
       "               0.8813998588111336,\n",
       "               0.8924324324324324,\n",
       "               0.8924324324324324],\n",
       "              'eval_loss': [0.27665799617767334,\n",
       "               0.27665799617767334,\n",
       "               0.1869779968261719,\n",
       "               0.1869779968261719,\n",
       "               0.17305468082427977,\n",
       "               0.17305468082427977,\n",
       "               0.18740336418151857,\n",
       "               0.18740336418151857,\n",
       "               0.22162947654724122,\n",
       "               0.22162947654724122,\n",
       "               0.3220695972442627,\n",
       "               0.3220695972442627,\n",
       "               0.2638965463638306,\n",
       "               0.2638965463638306,\n",
       "               0.2825148606300354,\n",
       "               0.2825148606300354,\n",
       "               0.3027764320373535,\n",
       "               0.3027764320373535,\n",
       "               0.2924410653114319,\n",
       "               0.2924410653114319]}))"
      ]
     },
     "execution_count": 11,
     "metadata": {},
     "output_type": "execute_result"
    }
   ],
   "source": [
    "model.train_model(train_df, eval_df=val_df)"
   ]
  },
  {
   "cell_type": "code",
   "execution_count": null,
   "metadata": {},
   "outputs": [],
   "source": []
  }
 ],
 "metadata": {
  "kernelspec": {
   "display_name": "Python 3.9.7 ('bertClass')",
   "language": "python",
   "name": "python3"
  },
  "language_info": {
   "codemirror_mode": {
    "name": "ipython",
    "version": 3
   },
   "file_extension": ".py",
   "mimetype": "text/x-python",
   "name": "python",
   "nbconvert_exporter": "python",
   "pygments_lexer": "ipython3",
   "version": "3.9.7"
  },
  "orig_nbformat": 4,
  "vscode": {
   "interpreter": {
    "hash": "8a99878c6a92c314e94d3a4d138a1f6ff6d2e216e8b8d331670d92eb51f59927"
   }
  }
 },
 "nbformat": 4,
 "nbformat_minor": 2
}
